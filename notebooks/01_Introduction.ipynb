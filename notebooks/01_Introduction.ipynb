{
  "nbformat": 4,
  "nbformat_minor": 0,
  "metadata": {
    "colab": {
      "provenance": [],
      "include_colab_link": true
    },
    "kernelspec": {
      "name": "python3",
      "display_name": "Python 3"
    },
    "language_info": {
      "name": "python"
    }
  },
  "cells": [
    {
      "cell_type": "markdown",
      "metadata": {
        "id": "view-in-github",
        "colab_type": "text"
      },
      "source": [
        "<a href=\"https://colab.research.google.com/github/mdelleani/neuro-next-bootcamp/blob/main/notebooks/01_Introduction.ipynb\" target=\"_parent\"><img src=\"https://colab.research.google.com/assets/colab-badge.svg\" alt=\"Open In Colab\"/></a>"
      ]
    },
    {
      "cell_type": "markdown",
      "source": [
        "# 🐍 Introduzione a Python per la Ricerca in IA e Neurologia 🧠\n",
        "\n",
        "**Sessione Interattiva | Parte I: Concetti Base di Python e Fondamenti di IA**\n",
        "\n",
        "* **Tutor:** S. D'Amico\n",
        "* **Docente:** Mattia Delleani\n",
        "* **Orario:** 16:45 - 18:00\n",
        "\n",
        "---\n",
        "\n",
        "Benvenuti a questa sessione interattiva! L'obiettivo è fornire una base di programmazione Python e introdurre i concetti chiave dell'Intelligenza Artificiale e del Machine Learning, con un focus sulle loro applicazioni nella ricerca e pratica neurologica.\n",
        "\n",
        "---\n",
        "\n",
        "## 1. Perché Python per la ricerca medica e l'IA?\n",
        "\n",
        "Python è diventato il linguaggio di riferimento per la scienza dei dati, il Machine Learning e l'Intelligenza Artificiale, e per ottime ragioni:\n",
        "\n",
        "* **Sintassi Semplice e Leggibile:** Facile da imparare, anche per chi non ha esperienza di programmazione.\n",
        "* **Ampia Libreria di Ecosistema:** Migliaia di librerie e framework pronti all'uso per analisi dati, visualizzazione, Machine Learning e Deep Learning.\n",
        "* **Versatilità:** Usato in un'ampia gamma di settori, dalla neurologia all'economia, dalla web development alla robotica.\n",
        "* **Comunità Vasta:** Molto supporto online, tutorial e risorse.\n",
        "* **Compatibilità con la Ricerca Medica:** Strumenti specifici per l'elaborazione di immagini mediche (es. `nibabel`), analisi di segnali (es. `mne`), e modellazione statistica.\n"
      ],
      "metadata": {
        "id": "5_0MK2CbEWJW"
      }
    },
    {
      "cell_type": "markdown",
      "source": [
        "### Applicazioni in Neurologia:\n",
        "\n",
        "* **Analisi di Dati EEG/MEG:** Elaborazione e interpretazione di segnali cerebrali.\n",
        "* **Imaging Cerebrale:** Segmentazione, analisi e classificazione di immagini RM, TC, PET.\n",
        "* **Diagnosi e Prognosi:** Sviluppo di modelli predittivi per malattie neurodegenerative (Alzheimer, Parkinson), ictus, epilessia.\n",
        "* **Scoperta di Biomarcatori:** Analisi di dati genomici e proteomici.\n",
        "* **Sviluppo di Farmaci:** Simulazioni e analisi di risposte ai trattamenti.\n"
      ],
      "metadata": {
        "id": "mgGzxfa3S_YH"
      }
    },
    {
      "cell_type": "markdown",
      "source": [
        "---\n",
        "## 2. Fondamentali di Python\n",
        "\n",
        "Iniziamo con gli \"elementi costitutivi\" del linguaggio."
      ],
      "metadata": {
        "id": "BwEB-HIYYMhy"
      }
    },
    {
      "cell_type": "markdown",
      "source": [
        "---\n",
        "### 2.0 Setup"
      ],
      "metadata": {
        "id": "YSUveen3YOS1"
      }
    },
    {
      "cell_type": "code",
      "source": [
        "!git clone https://github.com/mdelleani/neuro-next-bootcamp.git"
      ],
      "metadata": {
        "colab": {
          "base_uri": "https://localhost:8080/"
        },
        "id": "h2bz7oKHYLLl",
        "outputId": "1d694dc2-6646-4437-8b03-449927fd1810"
      },
      "execution_count": 1,
      "outputs": [
        {
          "output_type": "stream",
          "name": "stdout",
          "text": [
            "Cloning into 'neuro-next-bootcamp'...\n",
            "remote: Enumerating objects: 99, done.\u001b[K\n",
            "remote: Counting objects: 100% (99/99), done.\u001b[K\n",
            "remote: Compressing objects: 100% (86/86), done.\u001b[K\n",
            "remote: Total 99 (delta 36), reused 37 (delta 6), pack-reused 0 (from 0)\u001b[K\n",
            "Receiving objects: 100% (99/99), 9.11 MiB | 23.74 MiB/s, done.\n",
            "Resolving deltas: 100% (36/36), done.\n"
          ]
        }
      ]
    },
    {
      "cell_type": "code",
      "source": [
        "import os\n",
        "os.chdir('neuro-next-bootcamp')"
      ],
      "metadata": {
        "id": "W0HMXoO-Yohf"
      },
      "execution_count": 2,
      "outputs": []
    },
    {
      "cell_type": "markdown",
      "source": [
        "### 2.1. Variabili e Tipi di Dati\n",
        "\n",
        "Una variabile è un contenitore per memorizzare dati. In Python non è necessario dichiarare il tipo di dato, viene inferito automaticamente.\n",
        "\n"
      ],
      "metadata": {
        "id": "8nJmZAyhS5MM"
      }
    },
    {
      "cell_type": "code",
      "execution_count": 3,
      "metadata": {
        "id": "i11R6_EZDz-k"
      },
      "outputs": [],
      "source": [
        "# Variabili numeriche\n",
        "eta_paziente = 35 # @param\n",
        "peso_kg = 72.5  # @param\n",
        "temperatura_c = 37.0 # @param\n",
        "\n",
        "# Variabili di testo (stringhe)\n",
        "nome_paziente = \"Mario Rossi\" # @param\n",
        "diagnosi = \"Sclerosi Multipla\" # @param\n",
        "\n",
        "# Variabili booleane (Vero/Falso)\n",
        "ha_precedenti_familiari = True # @param\n",
        "risposta_terapia = False # @param"
      ]
    },
    {
      "cell_type": "code",
      "source": [
        "\n",
        "# Stampa i tipi di dati\n",
        "print(f\"Tipo di eta_paziente: {type(eta_paziente)}\")\n",
        "print(f\"Tipo di peso_kg: {type(peso_kg)}\")\n",
        "print(f\"Tipo di diagnosi: {type(diagnosi)}\")\n",
        "print(f\"Tipo di ha_precedenti_familiari: {type(ha_precedenti_familiari)}\")\n"
      ],
      "metadata": {
        "id": "YFDIe5dhMWLl",
        "outputId": "012b076d-a9fd-46cb-c7bb-9c7e94fd7886",
        "colab": {
          "base_uri": "https://localhost:8080/"
        }
      },
      "execution_count": 4,
      "outputs": [
        {
          "output_type": "stream",
          "name": "stdout",
          "text": [
            "Tipo di eta_paziente: <class 'int'>\n",
            "Tipo di peso_kg: <class 'float'>\n",
            "Tipo di diagnosi: <class 'str'>\n",
            "Tipo di ha_precedenti_familiari: <class 'bool'>\n"
          ]
        }
      ]
    },
    {
      "cell_type": "code",
      "source": [
        "\n",
        "# Esempio di stampa delle variabili\n",
        "print(f\"\\nIl paziente {nome_paziente} ha {eta_paziente} anni.\")\n",
        "print(f\"La sua diagnosi è: {diagnosi}.\")"
      ],
      "metadata": {
        "id": "ga82P2ZNMj-a",
        "outputId": "f19aa0ae-829d-4f2c-b7f4-3a1d5dd4b6f4",
        "colab": {
          "base_uri": "https://localhost:8080/"
        }
      },
      "execution_count": 5,
      "outputs": [
        {
          "output_type": "stream",
          "name": "stdout",
          "text": [
            "\n",
            "Il paziente Mario Rossi ha 35 anni.\n",
            "La sua diagnosi è: Sclerosi Multipla.\n"
          ]
        }
      ]
    },
    {
      "cell_type": "markdown",
      "source": [
        "### 2.2 Strutture di Controllo: Condizioni (if/elif/else) e Cicli (for/while)\n",
        "\n",
        "Queste strutture permettono al nostro codice di prendere decisioni e ripetere operazioni.\n",
        "\n",
        "**Condizioni** (if/elif/else)"
      ],
      "metadata": {
        "id": "fEwcqUQ5FARo"
      }
    },
    {
      "cell_type": "code",
      "source": [
        "punteggio_mmse = 24 # Mini Mental State Examination\n",
        "\n",
        "if punteggio_mmse < 20:\n",
        "    print(\"Sospetto deficit cognitivo severo.\")\n",
        "elif punteggio_mmse >= 20 and punteggio_mmse < 25:\n",
        "    print(\"Sospetto deficit cognitivo lieve-moderato.\")\n",
        "else:\n",
        "    print(\"Funzioni cognitive nella norma per l'età.\")\n",
        "\n",
        "# Esempio con un'altra variabile\n",
        "livello_proteina = 0.8 # in ng/mL\n",
        "soglia_allarme = 1.0\n",
        "\n",
        "if livello_proteina > soglia_allarme:\n",
        "    print(\"Livello proteina superiore alla soglia di allarme. Richiede attenzione.\")\n",
        "else:\n",
        "    print(\"Livello proteina nella norma.\")"
      ],
      "metadata": {
        "colab": {
          "base_uri": "https://localhost:8080/"
        },
        "id": "AcnVLe-TFABg",
        "outputId": "db86c989-973b-4e20-e34f-a66879fa51fd"
      },
      "execution_count": 6,
      "outputs": [
        {
          "output_type": "stream",
          "name": "stdout",
          "text": [
            "Sospetto deficit cognitivo lieve-moderato.\n",
            "Livello proteina nella norma.\n"
          ]
        }
      ]
    },
    {
      "cell_type": "markdown",
      "source": [
        "**Cicli** (for)\n",
        "\n",
        "Utili per iterare su sequenze di elementi."
      ],
      "metadata": {
        "id": "JZsrwkVuIQL_"
      }
    },
    {
      "cell_type": "code",
      "source": [
        "farmaci_prescritti = [\"Levodopa\", \"Carbidopa\", \"Entacapone\"]\n",
        "\n",
        "print(\"Farmaci prescritti al paziente:\")\n",
        "for farmaco in farmaci_prescritti:\n",
        "    print(f\"- {farmaco}\")\n",
        "\n",
        "# Iterare sui numeri (es. giorni di osservazione)\n",
        "print(\"\\nRegistrazioni giornaliere:\")\n",
        "for giorno in range(1, 6): # da 1 a 5\n",
        "    print(f\"Giorno {giorno}: Dati registrati.\")"
      ],
      "metadata": {
        "colab": {
          "base_uri": "https://localhost:8080/"
        },
        "id": "1tRB8wYAEdMa",
        "outputId": "954d8408-9bf7-42f2-aa0d-0bab8e28079d"
      },
      "execution_count": 7,
      "outputs": [
        {
          "output_type": "stream",
          "name": "stdout",
          "text": [
            "Farmaci prescritti al paziente:\n",
            "- Levodopa\n",
            "- Carbidopa\n",
            "- Entacapone\n",
            "\n",
            "Registrazioni giornaliere:\n",
            "Giorno 1: Dati registrati.\n",
            "Giorno 2: Dati registrati.\n",
            "Giorno 3: Dati registrati.\n",
            "Giorno 4: Dati registrati.\n",
            "Giorno 5: Dati registrati.\n"
          ]
        }
      ]
    },
    {
      "cell_type": "markdown",
      "source": [
        "**Cicli** (while)\n",
        "\n",
        "Utili quando non si sa a priori quante volte si deve ripetere un'operazione."
      ],
      "metadata": {
        "id": "R6gOtsAHIiXy"
      }
    },
    {
      "cell_type": "code",
      "source": [
        "# Simulazione di un campionamento dati fino a che non si raggiunge un numero sufficiente\n",
        "dati_raccolti = 0\n",
        "dati_necessari = 5\n",
        "\n",
        "print(\"\\nInizio raccolta dati:\")\n",
        "while dati_raccolti < dati_necessari:\n",
        "    dati_raccolti += 1 # Incrementa di 1\n",
        "    print(f\"Dati raccolti: {dati_raccolti}\")\n",
        "print(\"Raccolta dati completata.\")"
      ],
      "metadata": {
        "colab": {
          "base_uri": "https://localhost:8080/"
        },
        "id": "kxSwvLuWIXya",
        "outputId": "cdf3929a-34aa-4d77-eed8-979c96ca5682"
      },
      "execution_count": 8,
      "outputs": [
        {
          "output_type": "stream",
          "name": "stdout",
          "text": [
            "\n",
            "Inizio raccolta dati:\n",
            "Dati raccolti: 1\n",
            "Dati raccolti: 2\n",
            "Dati raccolti: 3\n",
            "Dati raccolti: 4\n",
            "Dati raccolti: 5\n",
            "Raccolta dati completata.\n"
          ]
        }
      ]
    },
    {
      "cell_type": "markdown",
      "source": [
        "### 2.3. Strutture Dati (Liste, Tuple, Dizionari, Set)\n",
        "\n",
        "Queste strutture ci permettono di organizzare collezioni di dati.\n",
        "\n",
        "**Liste** (mutabili, ordinate, permettono duplicati)"
      ],
      "metadata": {
        "id": "93hnpwGkJQLi"
      }
    },
    {
      "cell_type": "code",
      "source": [
        "# Lista di sintomi\n",
        "sintomi_paziente = [\"cefalea\", \"vertigini\", \"nausea\", \"cefalea\"]\n",
        "\n",
        "# Aggiungere un elemento\n",
        "sintomi_paziente.append(\"affaticamento\")\n",
        "print(f\"Lista sintomi aggiornata: {sintomi_paziente}\")\n",
        "\n",
        "# Accedere a un elemento\n",
        "print(f\"Primo sintomo: {sintomi_paziente[0]}\") # Indice 0\n",
        "print(f\"Ultimo sintomo: {sintomi_paziente[-1]}\") # Indice -1"
      ],
      "metadata": {
        "colab": {
          "base_uri": "https://localhost:8080/"
        },
        "id": "8EU-wzEJJNwL",
        "outputId": "544c63ee-56aa-4227-b0fc-7af789e93050"
      },
      "execution_count": 9,
      "outputs": [
        {
          "output_type": "stream",
          "name": "stdout",
          "text": [
            "Lista sintomi aggiornata: ['cefalea', 'vertigini', 'nausea', 'cefalea', 'affaticamento']\n",
            "Primo sintomo: cefalea\n",
            "Ultimo sintomo: affaticamento\n"
          ]
        }
      ]
    },
    {
      "cell_type": "markdown",
      "source": [
        "**Tuple** (immutabili, ordinate, permettono duplicati)\n",
        "\n",
        "Utili per dati che non devono essere modificati dopo la creazione."
      ],
      "metadata": {
        "id": "OdkVU_djJdsg"
      }
    },
    {
      "cell_type": "code",
      "source": [
        "# Tupla di coordinate di un punto cerebrale (x, y, z)\n",
        "coordinate_lesione = (45, 23, 10)\n",
        "print(f\"\\nCoordinate lesione: {coordinate_lesione}\")\n",
        "\n",
        "# Non è possibile modificare una tupla: coordinate_lesione[0] = 50 darà errore!"
      ],
      "metadata": {
        "colab": {
          "base_uri": "https://localhost:8080/"
        },
        "id": "ba5u1a6rJKJJ",
        "outputId": "6402c300-e0a5-4ea5-baec-0b81d2e53a11"
      },
      "execution_count": 10,
      "outputs": [
        {
          "output_type": "stream",
          "name": "stdout",
          "text": [
            "\n",
            "Coordinate lesione: (45, 23, 10)\n"
          ]
        }
      ]
    },
    {
      "cell_type": "markdown",
      "source": [
        "**Dizionari** (mutabili, non ordinati prima di Python 3.7, chiave-valore)\n",
        "\n",
        "Ideali per rappresentare dati strutturati, come record di pazienti."
      ],
      "metadata": {
        "id": "WxkjKER_JkfG"
      }
    },
    {
      "cell_type": "code",
      "source": [
        "# Dati di un paziente in un dizionario\n",
        "dati_paziente_dict = {\n",
        "    \"ID\": \"PZ001\",\n",
        "    \"Nome\": \"Anna\",\n",
        "    \"Cognome\": \"Verdi\",\n",
        "    \"Età\": 58,\n",
        "    \"Diagnosi\": \"Morbo di Alzheimer\",\n",
        "    \"Farmaci\": [\"Donepezil\", \"Memantina\"]\n",
        "}\n",
        "print(f\"\\nDati paziente (Dizionario): {dati_paziente_dict}\")\n"
      ],
      "metadata": {
        "colab": {
          "base_uri": "https://localhost:8080/"
        },
        "id": "pHSlEnRJJhId",
        "outputId": "c5811a68-211b-4ee6-fd94-2bc4e7e54c2c"
      },
      "execution_count": 11,
      "outputs": [
        {
          "output_type": "stream",
          "name": "stdout",
          "text": [
            "\n",
            "Dati paziente (Dizionario): {'ID': 'PZ001', 'Nome': 'Anna', 'Cognome': 'Verdi', 'Età': 58, 'Diagnosi': 'Morbo di Alzheimer', 'Farmaci': ['Donepezil', 'Memantina']}\n"
          ]
        }
      ]
    },
    {
      "cell_type": "code",
      "source": [
        "\n",
        "# Accedere a un valore tramite chiave\n",
        "print(f\"Diagnosi del paziente: {dati_paziente_dict['Diagnosi']}\")\n"
      ],
      "metadata": {
        "id": "RDUfTmnuTBkA",
        "outputId": "b0732932-7d11-43dc-826e-e0669411b9b8",
        "colab": {
          "base_uri": "https://localhost:8080/"
        }
      },
      "execution_count": 12,
      "outputs": [
        {
          "output_type": "stream",
          "name": "stdout",
          "text": [
            "Diagnosi del paziente: Morbo di Alzheimer\n"
          ]
        }
      ]
    },
    {
      "cell_type": "code",
      "source": [
        "\n",
        "# Aggiungere una nuova chiave-valore\n",
        "dati_paziente_dict[\"Data_diagnosi\"] = \"2023-01-15\"\n",
        "print(f\"Dati paziente aggiornati: {dati_paziente_dict}\")"
      ],
      "metadata": {
        "id": "BXwqxmLYTCs7",
        "outputId": "cbace860-3415-467e-ec65-ae8ac116b9f1",
        "colab": {
          "base_uri": "https://localhost:8080/"
        }
      },
      "execution_count": 13,
      "outputs": [
        {
          "output_type": "stream",
          "name": "stdout",
          "text": [
            "Dati paziente aggiornati: {'ID': 'PZ001', 'Nome': 'Anna', 'Cognome': 'Verdi', 'Età': 58, 'Diagnosi': 'Morbo di Alzheimer', 'Farmaci': ['Donepezil', 'Memantina'], 'Data_diagnosi': '2023-01-15'}\n"
          ]
        }
      ]
    },
    {
      "cell_type": "markdown",
      "source": [
        "**Set** (mutabili, non ordinati, non permettono duplicati)\n",
        "\n",
        "Utili per collezioni uniche di elementi."
      ],
      "metadata": {
        "id": "oS3EPbxyJsip"
      }
    },
    {
      "cell_type": "code",
      "source": [
        "# Sintomi unici (rimuove i duplicati)\n",
        "sintomi_unici = set(sintomi_paziente)\n",
        "print(f\"\\nSet di sintomi unici: {sintomi_unici}\")\n",
        "\n",
        "# Aggiungere un elemento\n",
        "sintomi_unici.add(\"febbre\")\n",
        "print(f\"Set di sintomi dopo aggiunta: {sintomi_unici}\")"
      ],
      "metadata": {
        "colab": {
          "base_uri": "https://localhost:8080/"
        },
        "id": "mYLeTwO0JpEz",
        "outputId": "ad2356c9-4dce-49e2-ab0b-e1b637897f81"
      },
      "execution_count": 14,
      "outputs": [
        {
          "output_type": "stream",
          "name": "stdout",
          "text": [
            "\n",
            "Set di sintomi unici: {'affaticamento', 'vertigini', 'nausea', 'cefalea'}\n",
            "Set di sintomi dopo aggiunta: {'affaticamento', 'nausea', 'febbre', 'vertigini', 'cefalea'}\n"
          ]
        }
      ]
    },
    {
      "cell_type": "markdown",
      "source": [
        "### 2.4. Funzioni: Definire e Utilizzare\n",
        "\n",
        "Le funzioni sono blocchi di codice riutilizzabili che eseguono un compito specifico. Aiutano a organizzare il codice e renderlo più leggibile"
      ],
      "metadata": {
        "id": "XKeSHG2ch11X"
      }
    },
    {
      "cell_type": "code",
      "source": [
        "# Funzione per calcolare l'indice di massa corporea (BMI)\n",
        "def calcola_bmi(peso_kg, altezza_cm):\n",
        "    \"\"\"\n",
        "    Calcola l'Indice di Massa Corporea (BMI).\n",
        "    peso_kg: peso in chilogrammi\n",
        "    altezza_cm: altezza in centimetri\n",
        "    \"\"\"\n",
        "    altezza_metri = altezza_cm / 100\n",
        "    bmi = peso_kg / (altezza_metri ** 2)\n",
        "    return bmi"
      ],
      "metadata": {
        "id": "F1u7zWq8h0fb"
      },
      "execution_count": 15,
      "outputs": []
    },
    {
      "cell_type": "code",
      "source": [
        "# Utilizzo delle funzioni\n",
        "paziente_peso = 70\n",
        "paziente_altezza = 175\n",
        "\n",
        "bmi_paziente = calcola_bmi(paziente_peso, paziente_altezza)"
      ],
      "metadata": {
        "id": "hXYaDCpciwLi"
      },
      "execution_count": 16,
      "outputs": []
    },
    {
      "cell_type": "code",
      "source": [
        "\n",
        "# Funzione per classificare il BMI\n",
        "def classifica_bmi(bmi_valore):\n",
        "    if bmi_valore < 18.5:\n",
        "        return \"Sottopeso\"\n",
        "    elif 18.5 <= bmi_valore < 25:\n",
        "        return \"Normopeso\"\n",
        "    elif 25 <= bmi_valore < 30:\n",
        "        return \"Sovrappeso\"\n",
        "    else:\n",
        "        return \"Obeso\""
      ],
      "metadata": {
        "id": "2eWM7t9Zi0_m"
      },
      "execution_count": 17,
      "outputs": []
    },
    {
      "cell_type": "code",
      "source": [
        "classificazione = classifica_bmi(bmi_paziente)\n",
        "\n",
        "print(f\"\\nIl paziente con peso {paziente_peso} kg e altezza {paziente_altezza} cm ha un BMI di: {bmi_paziente:.2f}\")\n",
        "print(f\"Classificazione BMI: {classificazione}\")"
      ],
      "metadata": {
        "id": "hN3tdVPBi48u",
        "outputId": "e8956190-1346-4d0e-9f5a-47e427ee45c2",
        "colab": {
          "base_uri": "https://localhost:8080/"
        }
      },
      "execution_count": 18,
      "outputs": [
        {
          "output_type": "stream",
          "name": "stdout",
          "text": [
            "\n",
            "Il paziente con peso 70 kg e altezza 175 cm ha un BMI di: 22.86\n",
            "Classificazione BMI: Normopeso\n"
          ]
        }
      ]
    },
    {
      "cell_type": "code",
      "source": [
        "## Prova a definire qui la tua funzione\n",
        "\n",
        "def nome_funzione(parametro_1, parametro_2):\n",
        "\n",
        "  return risultato"
      ],
      "metadata": {
        "id": "l1nr_I0pi-Y6"
      },
      "execution_count": 19,
      "outputs": []
    },
    {
      "cell_type": "markdown",
      "source": [
        "## 3. Introduzione all'Analisi Dati con Python\n",
        "Per l'analisi dei dati in Python, ci affidiamo a potenti librerie.\n",
        "\n"
      ],
      "metadata": {
        "id": "L_LMJdQ9Lqau"
      }
    },
    {
      "cell_type": "markdown",
      "source": [
        "### 3.1. Panoramica sulle Librerie Chiave: NumPy e Pandas\n",
        "\n",
        "- **NumPy** (Numerical Python): La base per il calcolo numerico in Python. Offre strutture dati efficienti (array multi-dimensionali) e funzioni per operazioni matematiche su di essi. Essenziale per l'algebra lineare, trasformate, ecc. \\\n",
        "\n",
        "- **Pandas** (Panel Data): Costruita su NumPy, fornisce strutture dati flessibili e potenti per lavorare con dati tabellari (simili a fogli di calcolo o tabelle di database). I suoi oggetti principali sono Series (colonne) e DataFrame (tabelle)."
      ],
      "metadata": {
        "id": "Qt1APNzkLuIK"
      }
    },
    {
      "cell_type": "code",
      "source": [
        "import numpy as np # Convenzione per importare NumPy\n",
        "import pandas as pd # Convenzione per importare Pandas\n",
        "\n",
        "# Esempio NumPy: Creare un array di misurazioni\n",
        "pressione_sistolica = np.array([120, 125, 118, 130, 122])\n",
        "print(f\"\\nArray NumPy pressione sistolica: {pressione_sistolica}\")\n",
        "print(f\"Media pressione: {np.mean(pressione_sistolica):.2f}\")\n",
        "print(f\"Deviazione standard pressione: {np.std(pressione_sistolica):.2f}\")"
      ],
      "metadata": {
        "colab": {
          "base_uri": "https://localhost:8080/"
        },
        "id": "wgpmlwtNLpzg",
        "outputId": "58e3fa5f-6b1d-4fe1-9476-6f392ad3dfe7"
      },
      "execution_count": 20,
      "outputs": [
        {
          "output_type": "stream",
          "name": "stdout",
          "text": [
            "\n",
            "Array NumPy pressione sistolica: [120 125 118 130 122]\n",
            "Media pressione: 123.00\n",
            "Deviazione standard pressione: 4.20\n"
          ]
        }
      ]
    },
    {
      "cell_type": "code",
      "source": [
        "# Esempio Pandas: Creare un DataFrame da un dizionario\n",
        "dati_clinici = {\n",
        "    'ID_Paziente': ['P001', 'P002', 'P003', 'P004'],\n",
        "    'Età': [60, 75, 68, 55],\n",
        "    'Sesso': ['M', 'F', 'M', 'F'],\n",
        "    'Diagnosi': ['AD', 'PD', 'AD', 'HD'],\n",
        "    'MMSE': [22, 25, 18, 28]\n",
        "}\n",
        "\n",
        "# creare un DataFrame\n",
        "df_pazienti = pd.DataFrame(dati_clinici)\n",
        "print(\"\\nDataFrame dei dati clinici:\")\n",
        "df_pazienti\n"
      ],
      "metadata": {
        "colab": {
          "base_uri": "https://localhost:8080/",
          "height": 224
        },
        "id": "AglCJIz7LlJU",
        "outputId": "fe0d8a18-c234-49d7-940d-79407a2701c8"
      },
      "execution_count": 21,
      "outputs": [
        {
          "output_type": "stream",
          "name": "stdout",
          "text": [
            "\n",
            "DataFrame dei dati clinici:\n"
          ]
        },
        {
          "output_type": "execute_result",
          "data": {
            "text/plain": [
              "  ID_Paziente  Età Sesso Diagnosi  MMSE\n",
              "0        P001   60     M       AD    22\n",
              "1        P002   75     F       PD    25\n",
              "2        P003   68     M       AD    18\n",
              "3        P004   55     F       HD    28"
            ],
            "text/html": [
              "\n",
              "  <div id=\"df-3298c095-6071-493d-8ddd-3f8ad36e65d7\" class=\"colab-df-container\">\n",
              "    <div>\n",
              "<style scoped>\n",
              "    .dataframe tbody tr th:only-of-type {\n",
              "        vertical-align: middle;\n",
              "    }\n",
              "\n",
              "    .dataframe tbody tr th {\n",
              "        vertical-align: top;\n",
              "    }\n",
              "\n",
              "    .dataframe thead th {\n",
              "        text-align: right;\n",
              "    }\n",
              "</style>\n",
              "<table border=\"1\" class=\"dataframe\">\n",
              "  <thead>\n",
              "    <tr style=\"text-align: right;\">\n",
              "      <th></th>\n",
              "      <th>ID_Paziente</th>\n",
              "      <th>Età</th>\n",
              "      <th>Sesso</th>\n",
              "      <th>Diagnosi</th>\n",
              "      <th>MMSE</th>\n",
              "    </tr>\n",
              "  </thead>\n",
              "  <tbody>\n",
              "    <tr>\n",
              "      <th>0</th>\n",
              "      <td>P001</td>\n",
              "      <td>60</td>\n",
              "      <td>M</td>\n",
              "      <td>AD</td>\n",
              "      <td>22</td>\n",
              "    </tr>\n",
              "    <tr>\n",
              "      <th>1</th>\n",
              "      <td>P002</td>\n",
              "      <td>75</td>\n",
              "      <td>F</td>\n",
              "      <td>PD</td>\n",
              "      <td>25</td>\n",
              "    </tr>\n",
              "    <tr>\n",
              "      <th>2</th>\n",
              "      <td>P003</td>\n",
              "      <td>68</td>\n",
              "      <td>M</td>\n",
              "      <td>AD</td>\n",
              "      <td>18</td>\n",
              "    </tr>\n",
              "    <tr>\n",
              "      <th>3</th>\n",
              "      <td>P004</td>\n",
              "      <td>55</td>\n",
              "      <td>F</td>\n",
              "      <td>HD</td>\n",
              "      <td>28</td>\n",
              "    </tr>\n",
              "  </tbody>\n",
              "</table>\n",
              "</div>\n",
              "    <div class=\"colab-df-buttons\">\n",
              "\n",
              "  <div class=\"colab-df-container\">\n",
              "    <button class=\"colab-df-convert\" onclick=\"convertToInteractive('df-3298c095-6071-493d-8ddd-3f8ad36e65d7')\"\n",
              "            title=\"Convert this dataframe to an interactive table.\"\n",
              "            style=\"display:none;\">\n",
              "\n",
              "  <svg xmlns=\"http://www.w3.org/2000/svg\" height=\"24px\" viewBox=\"0 -960 960 960\">\n",
              "    <path d=\"M120-120v-720h720v720H120Zm60-500h600v-160H180v160Zm220 220h160v-160H400v160Zm0 220h160v-160H400v160ZM180-400h160v-160H180v160Zm440 0h160v-160H620v160ZM180-180h160v-160H180v160Zm440 0h160v-160H620v160Z\"/>\n",
              "  </svg>\n",
              "    </button>\n",
              "\n",
              "  <style>\n",
              "    .colab-df-container {\n",
              "      display:flex;\n",
              "      gap: 12px;\n",
              "    }\n",
              "\n",
              "    .colab-df-convert {\n",
              "      background-color: #E8F0FE;\n",
              "      border: none;\n",
              "      border-radius: 50%;\n",
              "      cursor: pointer;\n",
              "      display: none;\n",
              "      fill: #1967D2;\n",
              "      height: 32px;\n",
              "      padding: 0 0 0 0;\n",
              "      width: 32px;\n",
              "    }\n",
              "\n",
              "    .colab-df-convert:hover {\n",
              "      background-color: #E2EBFA;\n",
              "      box-shadow: 0px 1px 2px rgba(60, 64, 67, 0.3), 0px 1px 3px 1px rgba(60, 64, 67, 0.15);\n",
              "      fill: #174EA6;\n",
              "    }\n",
              "\n",
              "    .colab-df-buttons div {\n",
              "      margin-bottom: 4px;\n",
              "    }\n",
              "\n",
              "    [theme=dark] .colab-df-convert {\n",
              "      background-color: #3B4455;\n",
              "      fill: #D2E3FC;\n",
              "    }\n",
              "\n",
              "    [theme=dark] .colab-df-convert:hover {\n",
              "      background-color: #434B5C;\n",
              "      box-shadow: 0px 1px 3px 1px rgba(0, 0, 0, 0.15);\n",
              "      filter: drop-shadow(0px 1px 2px rgba(0, 0, 0, 0.3));\n",
              "      fill: #FFFFFF;\n",
              "    }\n",
              "  </style>\n",
              "\n",
              "    <script>\n",
              "      const buttonEl =\n",
              "        document.querySelector('#df-3298c095-6071-493d-8ddd-3f8ad36e65d7 button.colab-df-convert');\n",
              "      buttonEl.style.display =\n",
              "        google.colab.kernel.accessAllowed ? 'block' : 'none';\n",
              "\n",
              "      async function convertToInteractive(key) {\n",
              "        const element = document.querySelector('#df-3298c095-6071-493d-8ddd-3f8ad36e65d7');\n",
              "        const dataTable =\n",
              "          await google.colab.kernel.invokeFunction('convertToInteractive',\n",
              "                                                    [key], {});\n",
              "        if (!dataTable) return;\n",
              "\n",
              "        const docLinkHtml = 'Like what you see? Visit the ' +\n",
              "          '<a target=\"_blank\" href=https://colab.research.google.com/notebooks/data_table.ipynb>data table notebook</a>'\n",
              "          + ' to learn more about interactive tables.';\n",
              "        element.innerHTML = '';\n",
              "        dataTable['output_type'] = 'display_data';\n",
              "        await google.colab.output.renderOutput(dataTable, element);\n",
              "        const docLink = document.createElement('div');\n",
              "        docLink.innerHTML = docLinkHtml;\n",
              "        element.appendChild(docLink);\n",
              "      }\n",
              "    </script>\n",
              "  </div>\n",
              "\n",
              "\n",
              "    <div id=\"df-b8bc5813-ccbd-4d48-9565-40d84ae98c6b\">\n",
              "      <button class=\"colab-df-quickchart\" onclick=\"quickchart('df-b8bc5813-ccbd-4d48-9565-40d84ae98c6b')\"\n",
              "                title=\"Suggest charts\"\n",
              "                style=\"display:none;\">\n",
              "\n",
              "<svg xmlns=\"http://www.w3.org/2000/svg\" height=\"24px\"viewBox=\"0 0 24 24\"\n",
              "     width=\"24px\">\n",
              "    <g>\n",
              "        <path d=\"M19 3H5c-1.1 0-2 .9-2 2v14c0 1.1.9 2 2 2h14c1.1 0 2-.9 2-2V5c0-1.1-.9-2-2-2zM9 17H7v-7h2v7zm4 0h-2V7h2v10zm4 0h-2v-4h2v4z\"/>\n",
              "    </g>\n",
              "</svg>\n",
              "      </button>\n",
              "\n",
              "<style>\n",
              "  .colab-df-quickchart {\n",
              "      --bg-color: #E8F0FE;\n",
              "      --fill-color: #1967D2;\n",
              "      --hover-bg-color: #E2EBFA;\n",
              "      --hover-fill-color: #174EA6;\n",
              "      --disabled-fill-color: #AAA;\n",
              "      --disabled-bg-color: #DDD;\n",
              "  }\n",
              "\n",
              "  [theme=dark] .colab-df-quickchart {\n",
              "      --bg-color: #3B4455;\n",
              "      --fill-color: #D2E3FC;\n",
              "      --hover-bg-color: #434B5C;\n",
              "      --hover-fill-color: #FFFFFF;\n",
              "      --disabled-bg-color: #3B4455;\n",
              "      --disabled-fill-color: #666;\n",
              "  }\n",
              "\n",
              "  .colab-df-quickchart {\n",
              "    background-color: var(--bg-color);\n",
              "    border: none;\n",
              "    border-radius: 50%;\n",
              "    cursor: pointer;\n",
              "    display: none;\n",
              "    fill: var(--fill-color);\n",
              "    height: 32px;\n",
              "    padding: 0;\n",
              "    width: 32px;\n",
              "  }\n",
              "\n",
              "  .colab-df-quickchart:hover {\n",
              "    background-color: var(--hover-bg-color);\n",
              "    box-shadow: 0 1px 2px rgba(60, 64, 67, 0.3), 0 1px 3px 1px rgba(60, 64, 67, 0.15);\n",
              "    fill: var(--button-hover-fill-color);\n",
              "  }\n",
              "\n",
              "  .colab-df-quickchart-complete:disabled,\n",
              "  .colab-df-quickchart-complete:disabled:hover {\n",
              "    background-color: var(--disabled-bg-color);\n",
              "    fill: var(--disabled-fill-color);\n",
              "    box-shadow: none;\n",
              "  }\n",
              "\n",
              "  .colab-df-spinner {\n",
              "    border: 2px solid var(--fill-color);\n",
              "    border-color: transparent;\n",
              "    border-bottom-color: var(--fill-color);\n",
              "    animation:\n",
              "      spin 1s steps(1) infinite;\n",
              "  }\n",
              "\n",
              "  @keyframes spin {\n",
              "    0% {\n",
              "      border-color: transparent;\n",
              "      border-bottom-color: var(--fill-color);\n",
              "      border-left-color: var(--fill-color);\n",
              "    }\n",
              "    20% {\n",
              "      border-color: transparent;\n",
              "      border-left-color: var(--fill-color);\n",
              "      border-top-color: var(--fill-color);\n",
              "    }\n",
              "    30% {\n",
              "      border-color: transparent;\n",
              "      border-left-color: var(--fill-color);\n",
              "      border-top-color: var(--fill-color);\n",
              "      border-right-color: var(--fill-color);\n",
              "    }\n",
              "    40% {\n",
              "      border-color: transparent;\n",
              "      border-right-color: var(--fill-color);\n",
              "      border-top-color: var(--fill-color);\n",
              "    }\n",
              "    60% {\n",
              "      border-color: transparent;\n",
              "      border-right-color: var(--fill-color);\n",
              "    }\n",
              "    80% {\n",
              "      border-color: transparent;\n",
              "      border-right-color: var(--fill-color);\n",
              "      border-bottom-color: var(--fill-color);\n",
              "    }\n",
              "    90% {\n",
              "      border-color: transparent;\n",
              "      border-bottom-color: var(--fill-color);\n",
              "    }\n",
              "  }\n",
              "</style>\n",
              "\n",
              "      <script>\n",
              "        async function quickchart(key) {\n",
              "          const quickchartButtonEl =\n",
              "            document.querySelector('#' + key + ' button');\n",
              "          quickchartButtonEl.disabled = true;  // To prevent multiple clicks.\n",
              "          quickchartButtonEl.classList.add('colab-df-spinner');\n",
              "          try {\n",
              "            const charts = await google.colab.kernel.invokeFunction(\n",
              "                'suggestCharts', [key], {});\n",
              "          } catch (error) {\n",
              "            console.error('Error during call to suggestCharts:', error);\n",
              "          }\n",
              "          quickchartButtonEl.classList.remove('colab-df-spinner');\n",
              "          quickchartButtonEl.classList.add('colab-df-quickchart-complete');\n",
              "        }\n",
              "        (() => {\n",
              "          let quickchartButtonEl =\n",
              "            document.querySelector('#df-b8bc5813-ccbd-4d48-9565-40d84ae98c6b button');\n",
              "          quickchartButtonEl.style.display =\n",
              "            google.colab.kernel.accessAllowed ? 'block' : 'none';\n",
              "        })();\n",
              "      </script>\n",
              "    </div>\n",
              "\n",
              "  <div id=\"id_98757c05-4ca1-4429-a954-fe9cd162c753\">\n",
              "    <style>\n",
              "      .colab-df-generate {\n",
              "        background-color: #E8F0FE;\n",
              "        border: none;\n",
              "        border-radius: 50%;\n",
              "        cursor: pointer;\n",
              "        display: none;\n",
              "        fill: #1967D2;\n",
              "        height: 32px;\n",
              "        padding: 0 0 0 0;\n",
              "        width: 32px;\n",
              "      }\n",
              "\n",
              "      .colab-df-generate:hover {\n",
              "        background-color: #E2EBFA;\n",
              "        box-shadow: 0px 1px 2px rgba(60, 64, 67, 0.3), 0px 1px 3px 1px rgba(60, 64, 67, 0.15);\n",
              "        fill: #174EA6;\n",
              "      }\n",
              "\n",
              "      [theme=dark] .colab-df-generate {\n",
              "        background-color: #3B4455;\n",
              "        fill: #D2E3FC;\n",
              "      }\n",
              "\n",
              "      [theme=dark] .colab-df-generate:hover {\n",
              "        background-color: #434B5C;\n",
              "        box-shadow: 0px 1px 3px 1px rgba(0, 0, 0, 0.15);\n",
              "        filter: drop-shadow(0px 1px 2px rgba(0, 0, 0, 0.3));\n",
              "        fill: #FFFFFF;\n",
              "      }\n",
              "    </style>\n",
              "    <button class=\"colab-df-generate\" onclick=\"generateWithVariable('df_pazienti')\"\n",
              "            title=\"Generate code using this dataframe.\"\n",
              "            style=\"display:none;\">\n",
              "\n",
              "  <svg xmlns=\"http://www.w3.org/2000/svg\" height=\"24px\"viewBox=\"0 0 24 24\"\n",
              "       width=\"24px\">\n",
              "    <path d=\"M7,19H8.4L18.45,9,17,7.55,7,17.6ZM5,21V16.75L18.45,3.32a2,2,0,0,1,2.83,0l1.4,1.43a1.91,1.91,0,0,1,.58,1.4,1.91,1.91,0,0,1-.58,1.4L9.25,21ZM18.45,9,17,7.55Zm-12,3A5.31,5.31,0,0,0,4.9,8.1,5.31,5.31,0,0,0,1,6.5,5.31,5.31,0,0,0,4.9,4.9,5.31,5.31,0,0,0,6.5,1,5.31,5.31,0,0,0,8.1,4.9,5.31,5.31,0,0,0,12,6.5,5.46,5.46,0,0,0,6.5,12Z\"/>\n",
              "  </svg>\n",
              "    </button>\n",
              "    <script>\n",
              "      (() => {\n",
              "      const buttonEl =\n",
              "        document.querySelector('#id_98757c05-4ca1-4429-a954-fe9cd162c753 button.colab-df-generate');\n",
              "      buttonEl.style.display =\n",
              "        google.colab.kernel.accessAllowed ? 'block' : 'none';\n",
              "\n",
              "      buttonEl.onclick = () => {\n",
              "        google.colab.notebook.generateWithVariable('df_pazienti');\n",
              "      }\n",
              "      })();\n",
              "    </script>\n",
              "  </div>\n",
              "\n",
              "    </div>\n",
              "  </div>\n"
            ],
            "application/vnd.google.colaboratory.intrinsic+json": {
              "type": "dataframe",
              "variable_name": "df_pazienti",
              "summary": "{\n  \"name\": \"df_pazienti\",\n  \"rows\": 4,\n  \"fields\": [\n    {\n      \"column\": \"ID_Paziente\",\n      \"properties\": {\n        \"dtype\": \"string\",\n        \"num_unique_values\": 4,\n        \"samples\": [\n          \"P002\",\n          \"P004\",\n          \"P001\"\n        ],\n        \"semantic_type\": \"\",\n        \"description\": \"\"\n      }\n    },\n    {\n      \"column\": \"Et\\u00e0\",\n      \"properties\": {\n        \"dtype\": \"number\",\n        \"std\": 8,\n        \"min\": 55,\n        \"max\": 75,\n        \"num_unique_values\": 4,\n        \"samples\": [\n          75,\n          55,\n          60\n        ],\n        \"semantic_type\": \"\",\n        \"description\": \"\"\n      }\n    },\n    {\n      \"column\": \"Sesso\",\n      \"properties\": {\n        \"dtype\": \"string\",\n        \"num_unique_values\": 2,\n        \"samples\": [\n          \"F\",\n          \"M\"\n        ],\n        \"semantic_type\": \"\",\n        \"description\": \"\"\n      }\n    },\n    {\n      \"column\": \"Diagnosi\",\n      \"properties\": {\n        \"dtype\": \"string\",\n        \"num_unique_values\": 3,\n        \"samples\": [\n          \"AD\",\n          \"PD\"\n        ],\n        \"semantic_type\": \"\",\n        \"description\": \"\"\n      }\n    },\n    {\n      \"column\": \"MMSE\",\n      \"properties\": {\n        \"dtype\": \"number\",\n        \"std\": 4,\n        \"min\": 18,\n        \"max\": 28,\n        \"num_unique_values\": 4,\n        \"samples\": [\n          25,\n          28\n        ],\n        \"semantic_type\": \"\",\n        \"description\": \"\"\n      }\n    }\n  ]\n}"
            }
          },
          "metadata": {},
          "execution_count": 21
        }
      ]
    },
    {
      "cell_type": "code",
      "source": [
        "# Visualizzare le prime righe\n",
        "print(\"\\nPrime 2 righe del DataFrame:\")\n",
        "df_pazienti.head(2)"
      ],
      "metadata": {
        "colab": {
          "base_uri": "https://localhost:8080/",
          "height": 163
        },
        "id": "hVnvNpoUMDLK",
        "outputId": "357e1adb-d934-4123-d2b7-33eb11a680ee"
      },
      "execution_count": 22,
      "outputs": [
        {
          "output_type": "stream",
          "name": "stdout",
          "text": [
            "\n",
            "Prime 2 righe del DataFrame:\n"
          ]
        },
        {
          "output_type": "execute_result",
          "data": {
            "text/plain": [
              "  ID_Paziente  Età Sesso Diagnosi  MMSE\n",
              "0        P001   60     M       AD    22\n",
              "1        P002   75     F       PD    25"
            ],
            "text/html": [
              "\n",
              "  <div id=\"df-16c6e912-41cb-4cbb-adde-889dc3745bf1\" class=\"colab-df-container\">\n",
              "    <div>\n",
              "<style scoped>\n",
              "    .dataframe tbody tr th:only-of-type {\n",
              "        vertical-align: middle;\n",
              "    }\n",
              "\n",
              "    .dataframe tbody tr th {\n",
              "        vertical-align: top;\n",
              "    }\n",
              "\n",
              "    .dataframe thead th {\n",
              "        text-align: right;\n",
              "    }\n",
              "</style>\n",
              "<table border=\"1\" class=\"dataframe\">\n",
              "  <thead>\n",
              "    <tr style=\"text-align: right;\">\n",
              "      <th></th>\n",
              "      <th>ID_Paziente</th>\n",
              "      <th>Età</th>\n",
              "      <th>Sesso</th>\n",
              "      <th>Diagnosi</th>\n",
              "      <th>MMSE</th>\n",
              "    </tr>\n",
              "  </thead>\n",
              "  <tbody>\n",
              "    <tr>\n",
              "      <th>0</th>\n",
              "      <td>P001</td>\n",
              "      <td>60</td>\n",
              "      <td>M</td>\n",
              "      <td>AD</td>\n",
              "      <td>22</td>\n",
              "    </tr>\n",
              "    <tr>\n",
              "      <th>1</th>\n",
              "      <td>P002</td>\n",
              "      <td>75</td>\n",
              "      <td>F</td>\n",
              "      <td>PD</td>\n",
              "      <td>25</td>\n",
              "    </tr>\n",
              "  </tbody>\n",
              "</table>\n",
              "</div>\n",
              "    <div class=\"colab-df-buttons\">\n",
              "\n",
              "  <div class=\"colab-df-container\">\n",
              "    <button class=\"colab-df-convert\" onclick=\"convertToInteractive('df-16c6e912-41cb-4cbb-adde-889dc3745bf1')\"\n",
              "            title=\"Convert this dataframe to an interactive table.\"\n",
              "            style=\"display:none;\">\n",
              "\n",
              "  <svg xmlns=\"http://www.w3.org/2000/svg\" height=\"24px\" viewBox=\"0 -960 960 960\">\n",
              "    <path d=\"M120-120v-720h720v720H120Zm60-500h600v-160H180v160Zm220 220h160v-160H400v160Zm0 220h160v-160H400v160ZM180-400h160v-160H180v160Zm440 0h160v-160H620v160ZM180-180h160v-160H180v160Zm440 0h160v-160H620v160Z\"/>\n",
              "  </svg>\n",
              "    </button>\n",
              "\n",
              "  <style>\n",
              "    .colab-df-container {\n",
              "      display:flex;\n",
              "      gap: 12px;\n",
              "    }\n",
              "\n",
              "    .colab-df-convert {\n",
              "      background-color: #E8F0FE;\n",
              "      border: none;\n",
              "      border-radius: 50%;\n",
              "      cursor: pointer;\n",
              "      display: none;\n",
              "      fill: #1967D2;\n",
              "      height: 32px;\n",
              "      padding: 0 0 0 0;\n",
              "      width: 32px;\n",
              "    }\n",
              "\n",
              "    .colab-df-convert:hover {\n",
              "      background-color: #E2EBFA;\n",
              "      box-shadow: 0px 1px 2px rgba(60, 64, 67, 0.3), 0px 1px 3px 1px rgba(60, 64, 67, 0.15);\n",
              "      fill: #174EA6;\n",
              "    }\n",
              "\n",
              "    .colab-df-buttons div {\n",
              "      margin-bottom: 4px;\n",
              "    }\n",
              "\n",
              "    [theme=dark] .colab-df-convert {\n",
              "      background-color: #3B4455;\n",
              "      fill: #D2E3FC;\n",
              "    }\n",
              "\n",
              "    [theme=dark] .colab-df-convert:hover {\n",
              "      background-color: #434B5C;\n",
              "      box-shadow: 0px 1px 3px 1px rgba(0, 0, 0, 0.15);\n",
              "      filter: drop-shadow(0px 1px 2px rgba(0, 0, 0, 0.3));\n",
              "      fill: #FFFFFF;\n",
              "    }\n",
              "  </style>\n",
              "\n",
              "    <script>\n",
              "      const buttonEl =\n",
              "        document.querySelector('#df-16c6e912-41cb-4cbb-adde-889dc3745bf1 button.colab-df-convert');\n",
              "      buttonEl.style.display =\n",
              "        google.colab.kernel.accessAllowed ? 'block' : 'none';\n",
              "\n",
              "      async function convertToInteractive(key) {\n",
              "        const element = document.querySelector('#df-16c6e912-41cb-4cbb-adde-889dc3745bf1');\n",
              "        const dataTable =\n",
              "          await google.colab.kernel.invokeFunction('convertToInteractive',\n",
              "                                                    [key], {});\n",
              "        if (!dataTable) return;\n",
              "\n",
              "        const docLinkHtml = 'Like what you see? Visit the ' +\n",
              "          '<a target=\"_blank\" href=https://colab.research.google.com/notebooks/data_table.ipynb>data table notebook</a>'\n",
              "          + ' to learn more about interactive tables.';\n",
              "        element.innerHTML = '';\n",
              "        dataTable['output_type'] = 'display_data';\n",
              "        await google.colab.output.renderOutput(dataTable, element);\n",
              "        const docLink = document.createElement('div');\n",
              "        docLink.innerHTML = docLinkHtml;\n",
              "        element.appendChild(docLink);\n",
              "      }\n",
              "    </script>\n",
              "  </div>\n",
              "\n",
              "\n",
              "    <div id=\"df-ab1bd4db-2ec9-4e96-b85a-d835cb8d7525\">\n",
              "      <button class=\"colab-df-quickchart\" onclick=\"quickchart('df-ab1bd4db-2ec9-4e96-b85a-d835cb8d7525')\"\n",
              "                title=\"Suggest charts\"\n",
              "                style=\"display:none;\">\n",
              "\n",
              "<svg xmlns=\"http://www.w3.org/2000/svg\" height=\"24px\"viewBox=\"0 0 24 24\"\n",
              "     width=\"24px\">\n",
              "    <g>\n",
              "        <path d=\"M19 3H5c-1.1 0-2 .9-2 2v14c0 1.1.9 2 2 2h14c1.1 0 2-.9 2-2V5c0-1.1-.9-2-2-2zM9 17H7v-7h2v7zm4 0h-2V7h2v10zm4 0h-2v-4h2v4z\"/>\n",
              "    </g>\n",
              "</svg>\n",
              "      </button>\n",
              "\n",
              "<style>\n",
              "  .colab-df-quickchart {\n",
              "      --bg-color: #E8F0FE;\n",
              "      --fill-color: #1967D2;\n",
              "      --hover-bg-color: #E2EBFA;\n",
              "      --hover-fill-color: #174EA6;\n",
              "      --disabled-fill-color: #AAA;\n",
              "      --disabled-bg-color: #DDD;\n",
              "  }\n",
              "\n",
              "  [theme=dark] .colab-df-quickchart {\n",
              "      --bg-color: #3B4455;\n",
              "      --fill-color: #D2E3FC;\n",
              "      --hover-bg-color: #434B5C;\n",
              "      --hover-fill-color: #FFFFFF;\n",
              "      --disabled-bg-color: #3B4455;\n",
              "      --disabled-fill-color: #666;\n",
              "  }\n",
              "\n",
              "  .colab-df-quickchart {\n",
              "    background-color: var(--bg-color);\n",
              "    border: none;\n",
              "    border-radius: 50%;\n",
              "    cursor: pointer;\n",
              "    display: none;\n",
              "    fill: var(--fill-color);\n",
              "    height: 32px;\n",
              "    padding: 0;\n",
              "    width: 32px;\n",
              "  }\n",
              "\n",
              "  .colab-df-quickchart:hover {\n",
              "    background-color: var(--hover-bg-color);\n",
              "    box-shadow: 0 1px 2px rgba(60, 64, 67, 0.3), 0 1px 3px 1px rgba(60, 64, 67, 0.15);\n",
              "    fill: var(--button-hover-fill-color);\n",
              "  }\n",
              "\n",
              "  .colab-df-quickchart-complete:disabled,\n",
              "  .colab-df-quickchart-complete:disabled:hover {\n",
              "    background-color: var(--disabled-bg-color);\n",
              "    fill: var(--disabled-fill-color);\n",
              "    box-shadow: none;\n",
              "  }\n",
              "\n",
              "  .colab-df-spinner {\n",
              "    border: 2px solid var(--fill-color);\n",
              "    border-color: transparent;\n",
              "    border-bottom-color: var(--fill-color);\n",
              "    animation:\n",
              "      spin 1s steps(1) infinite;\n",
              "  }\n",
              "\n",
              "  @keyframes spin {\n",
              "    0% {\n",
              "      border-color: transparent;\n",
              "      border-bottom-color: var(--fill-color);\n",
              "      border-left-color: var(--fill-color);\n",
              "    }\n",
              "    20% {\n",
              "      border-color: transparent;\n",
              "      border-left-color: var(--fill-color);\n",
              "      border-top-color: var(--fill-color);\n",
              "    }\n",
              "    30% {\n",
              "      border-color: transparent;\n",
              "      border-left-color: var(--fill-color);\n",
              "      border-top-color: var(--fill-color);\n",
              "      border-right-color: var(--fill-color);\n",
              "    }\n",
              "    40% {\n",
              "      border-color: transparent;\n",
              "      border-right-color: var(--fill-color);\n",
              "      border-top-color: var(--fill-color);\n",
              "    }\n",
              "    60% {\n",
              "      border-color: transparent;\n",
              "      border-right-color: var(--fill-color);\n",
              "    }\n",
              "    80% {\n",
              "      border-color: transparent;\n",
              "      border-right-color: var(--fill-color);\n",
              "      border-bottom-color: var(--fill-color);\n",
              "    }\n",
              "    90% {\n",
              "      border-color: transparent;\n",
              "      border-bottom-color: var(--fill-color);\n",
              "    }\n",
              "  }\n",
              "</style>\n",
              "\n",
              "      <script>\n",
              "        async function quickchart(key) {\n",
              "          const quickchartButtonEl =\n",
              "            document.querySelector('#' + key + ' button');\n",
              "          quickchartButtonEl.disabled = true;  // To prevent multiple clicks.\n",
              "          quickchartButtonEl.classList.add('colab-df-spinner');\n",
              "          try {\n",
              "            const charts = await google.colab.kernel.invokeFunction(\n",
              "                'suggestCharts', [key], {});\n",
              "          } catch (error) {\n",
              "            console.error('Error during call to suggestCharts:', error);\n",
              "          }\n",
              "          quickchartButtonEl.classList.remove('colab-df-spinner');\n",
              "          quickchartButtonEl.classList.add('colab-df-quickchart-complete');\n",
              "        }\n",
              "        (() => {\n",
              "          let quickchartButtonEl =\n",
              "            document.querySelector('#df-ab1bd4db-2ec9-4e96-b85a-d835cb8d7525 button');\n",
              "          quickchartButtonEl.style.display =\n",
              "            google.colab.kernel.accessAllowed ? 'block' : 'none';\n",
              "        })();\n",
              "      </script>\n",
              "    </div>\n",
              "\n",
              "    </div>\n",
              "  </div>\n"
            ],
            "application/vnd.google.colaboratory.intrinsic+json": {
              "type": "dataframe",
              "variable_name": "df_pazienti",
              "summary": "{\n  \"name\": \"df_pazienti\",\n  \"rows\": 4,\n  \"fields\": [\n    {\n      \"column\": \"ID_Paziente\",\n      \"properties\": {\n        \"dtype\": \"string\",\n        \"num_unique_values\": 4,\n        \"samples\": [\n          \"P002\",\n          \"P004\",\n          \"P001\"\n        ],\n        \"semantic_type\": \"\",\n        \"description\": \"\"\n      }\n    },\n    {\n      \"column\": \"Et\\u00e0\",\n      \"properties\": {\n        \"dtype\": \"number\",\n        \"std\": 8,\n        \"min\": 55,\n        \"max\": 75,\n        \"num_unique_values\": 4,\n        \"samples\": [\n          75,\n          55,\n          60\n        ],\n        \"semantic_type\": \"\",\n        \"description\": \"\"\n      }\n    },\n    {\n      \"column\": \"Sesso\",\n      \"properties\": {\n        \"dtype\": \"string\",\n        \"num_unique_values\": 2,\n        \"samples\": [\n          \"F\",\n          \"M\"\n        ],\n        \"semantic_type\": \"\",\n        \"description\": \"\"\n      }\n    },\n    {\n      \"column\": \"Diagnosi\",\n      \"properties\": {\n        \"dtype\": \"string\",\n        \"num_unique_values\": 3,\n        \"samples\": [\n          \"AD\",\n          \"PD\"\n        ],\n        \"semantic_type\": \"\",\n        \"description\": \"\"\n      }\n    },\n    {\n      \"column\": \"MMSE\",\n      \"properties\": {\n        \"dtype\": \"number\",\n        \"std\": 4,\n        \"min\": 18,\n        \"max\": 28,\n        \"num_unique_values\": 4,\n        \"samples\": [\n          25,\n          28\n        ],\n        \"semantic_type\": \"\",\n        \"description\": \"\"\n      }\n    }\n  ]\n}"
            }
          },
          "metadata": {},
          "execution_count": 22
        }
      ]
    },
    {
      "cell_type": "code",
      "source": [
        "# Visualizzare informazioni sul DataFrame\n",
        "print(\"\\nInformazioni sul DataFrame:\")\n",
        "df_pazienti.info()"
      ],
      "metadata": {
        "colab": {
          "base_uri": "https://localhost:8080/"
        },
        "id": "hsKbSSHwMGQQ",
        "outputId": "66698363-e85d-4817-eeff-6de65b35de1c"
      },
      "execution_count": 23,
      "outputs": [
        {
          "output_type": "stream",
          "name": "stdout",
          "text": [
            "\n",
            "Informazioni sul DataFrame:\n",
            "<class 'pandas.core.frame.DataFrame'>\n",
            "RangeIndex: 4 entries, 0 to 3\n",
            "Data columns (total 5 columns):\n",
            " #   Column       Non-Null Count  Dtype \n",
            "---  ------       --------------  ----- \n",
            " 0   ID_Paziente  4 non-null      object\n",
            " 1   Età          4 non-null      int64 \n",
            " 2   Sesso        4 non-null      object\n",
            " 3   Diagnosi     4 non-null      object\n",
            " 4   MMSE         4 non-null      int64 \n",
            "dtypes: int64(2), object(3)\n",
            "memory usage: 292.0+ bytes\n"
          ]
        }
      ]
    },
    {
      "cell_type": "code",
      "source": [
        "# Statistiche descrittive\n",
        "print(\"\\nStatistiche descrittive della colonna 'Età':\")\n",
        "df_pazienti['Età'].describe()"
      ],
      "metadata": {
        "colab": {
          "base_uri": "https://localhost:8080/",
          "height": 379
        },
        "id": "zJ9e9GWCMIqD",
        "outputId": "32f8d8b1-08a2-4dd2-f60e-b57341faa3a4"
      },
      "execution_count": 24,
      "outputs": [
        {
          "output_type": "stream",
          "name": "stdout",
          "text": [
            "\n",
            "Statistiche descrittive della colonna 'Età':\n"
          ]
        },
        {
          "output_type": "execute_result",
          "data": {
            "text/plain": [
              "count     4.000000\n",
              "mean     64.500000\n",
              "std       8.812869\n",
              "min      55.000000\n",
              "25%      58.750000\n",
              "50%      64.000000\n",
              "75%      69.750000\n",
              "max      75.000000\n",
              "Name: Età, dtype: float64"
            ],
            "text/html": [
              "<div>\n",
              "<style scoped>\n",
              "    .dataframe tbody tr th:only-of-type {\n",
              "        vertical-align: middle;\n",
              "    }\n",
              "\n",
              "    .dataframe tbody tr th {\n",
              "        vertical-align: top;\n",
              "    }\n",
              "\n",
              "    .dataframe thead th {\n",
              "        text-align: right;\n",
              "    }\n",
              "</style>\n",
              "<table border=\"1\" class=\"dataframe\">\n",
              "  <thead>\n",
              "    <tr style=\"text-align: right;\">\n",
              "      <th></th>\n",
              "      <th>Età</th>\n",
              "    </tr>\n",
              "  </thead>\n",
              "  <tbody>\n",
              "    <tr>\n",
              "      <th>count</th>\n",
              "      <td>4.000000</td>\n",
              "    </tr>\n",
              "    <tr>\n",
              "      <th>mean</th>\n",
              "      <td>64.500000</td>\n",
              "    </tr>\n",
              "    <tr>\n",
              "      <th>std</th>\n",
              "      <td>8.812869</td>\n",
              "    </tr>\n",
              "    <tr>\n",
              "      <th>min</th>\n",
              "      <td>55.000000</td>\n",
              "    </tr>\n",
              "    <tr>\n",
              "      <th>25%</th>\n",
              "      <td>58.750000</td>\n",
              "    </tr>\n",
              "    <tr>\n",
              "      <th>50%</th>\n",
              "      <td>64.000000</td>\n",
              "    </tr>\n",
              "    <tr>\n",
              "      <th>75%</th>\n",
              "      <td>69.750000</td>\n",
              "    </tr>\n",
              "    <tr>\n",
              "      <th>max</th>\n",
              "      <td>75.000000</td>\n",
              "    </tr>\n",
              "  </tbody>\n",
              "</table>\n",
              "</div><br><label><b>dtype:</b> float64</label>"
            ]
          },
          "metadata": {},
          "execution_count": 24
        }
      ]
    },
    {
      "cell_type": "code",
      "source": [
        "# Selezione di colonne\n",
        "print(\"\\nSolo colonna 'Diagnosi':\")\n",
        "df_pazienti['Diagnosi']"
      ],
      "metadata": {
        "colab": {
          "base_uri": "https://localhost:8080/",
          "height": 257
        },
        "id": "NMW-NP62MK7T",
        "outputId": "9117ecb7-8063-4177-8a63-e5aa766893fb"
      },
      "execution_count": 25,
      "outputs": [
        {
          "output_type": "stream",
          "name": "stdout",
          "text": [
            "\n",
            "Solo colonna 'Diagnosi':\n"
          ]
        },
        {
          "output_type": "execute_result",
          "data": {
            "text/plain": [
              "0    AD\n",
              "1    PD\n",
              "2    AD\n",
              "3    HD\n",
              "Name: Diagnosi, dtype: object"
            ],
            "text/html": [
              "<div>\n",
              "<style scoped>\n",
              "    .dataframe tbody tr th:only-of-type {\n",
              "        vertical-align: middle;\n",
              "    }\n",
              "\n",
              "    .dataframe tbody tr th {\n",
              "        vertical-align: top;\n",
              "    }\n",
              "\n",
              "    .dataframe thead th {\n",
              "        text-align: right;\n",
              "    }\n",
              "</style>\n",
              "<table border=\"1\" class=\"dataframe\">\n",
              "  <thead>\n",
              "    <tr style=\"text-align: right;\">\n",
              "      <th></th>\n",
              "      <th>Diagnosi</th>\n",
              "    </tr>\n",
              "  </thead>\n",
              "  <tbody>\n",
              "    <tr>\n",
              "      <th>0</th>\n",
              "      <td>AD</td>\n",
              "    </tr>\n",
              "    <tr>\n",
              "      <th>1</th>\n",
              "      <td>PD</td>\n",
              "    </tr>\n",
              "    <tr>\n",
              "      <th>2</th>\n",
              "      <td>AD</td>\n",
              "    </tr>\n",
              "    <tr>\n",
              "      <th>3</th>\n",
              "      <td>HD</td>\n",
              "    </tr>\n",
              "  </tbody>\n",
              "</table>\n",
              "</div><br><label><b>dtype:</b> object</label>"
            ]
          },
          "metadata": {},
          "execution_count": 25
        }
      ]
    },
    {
      "cell_type": "code",
      "source": [
        "# Filtro dati (es. pazienti con MMSE < 20)\n",
        "pazienti_basso_mmse = df_pazienti[df_pazienti['MMSE'] < 20]\n",
        "print(\"\\nPazienti con MMSE < 20:\")\n",
        "pazienti_basso_mmse"
      ],
      "metadata": {
        "colab": {
          "base_uri": "https://localhost:8080/",
          "height": 142
        },
        "id": "hFrEGqXmMK0k",
        "outputId": "36289e3a-8a3e-4d55-956a-5a9129098024"
      },
      "execution_count": 26,
      "outputs": [
        {
          "output_type": "stream",
          "name": "stdout",
          "text": [
            "\n",
            "Pazienti con MMSE < 20:\n"
          ]
        },
        {
          "output_type": "execute_result",
          "data": {
            "text/plain": [
              "  ID_Paziente  Età Sesso Diagnosi  MMSE\n",
              "2        P003   68     M       AD    18"
            ],
            "text/html": [
              "\n",
              "  <div id=\"df-86b0eedc-78e2-4a53-bf2c-bea03e53215b\" class=\"colab-df-container\">\n",
              "    <div>\n",
              "<style scoped>\n",
              "    .dataframe tbody tr th:only-of-type {\n",
              "        vertical-align: middle;\n",
              "    }\n",
              "\n",
              "    .dataframe tbody tr th {\n",
              "        vertical-align: top;\n",
              "    }\n",
              "\n",
              "    .dataframe thead th {\n",
              "        text-align: right;\n",
              "    }\n",
              "</style>\n",
              "<table border=\"1\" class=\"dataframe\">\n",
              "  <thead>\n",
              "    <tr style=\"text-align: right;\">\n",
              "      <th></th>\n",
              "      <th>ID_Paziente</th>\n",
              "      <th>Età</th>\n",
              "      <th>Sesso</th>\n",
              "      <th>Diagnosi</th>\n",
              "      <th>MMSE</th>\n",
              "    </tr>\n",
              "  </thead>\n",
              "  <tbody>\n",
              "    <tr>\n",
              "      <th>2</th>\n",
              "      <td>P003</td>\n",
              "      <td>68</td>\n",
              "      <td>M</td>\n",
              "      <td>AD</td>\n",
              "      <td>18</td>\n",
              "    </tr>\n",
              "  </tbody>\n",
              "</table>\n",
              "</div>\n",
              "    <div class=\"colab-df-buttons\">\n",
              "\n",
              "  <div class=\"colab-df-container\">\n",
              "    <button class=\"colab-df-convert\" onclick=\"convertToInteractive('df-86b0eedc-78e2-4a53-bf2c-bea03e53215b')\"\n",
              "            title=\"Convert this dataframe to an interactive table.\"\n",
              "            style=\"display:none;\">\n",
              "\n",
              "  <svg xmlns=\"http://www.w3.org/2000/svg\" height=\"24px\" viewBox=\"0 -960 960 960\">\n",
              "    <path d=\"M120-120v-720h720v720H120Zm60-500h600v-160H180v160Zm220 220h160v-160H400v160Zm0 220h160v-160H400v160ZM180-400h160v-160H180v160Zm440 0h160v-160H620v160ZM180-180h160v-160H180v160Zm440 0h160v-160H620v160Z\"/>\n",
              "  </svg>\n",
              "    </button>\n",
              "\n",
              "  <style>\n",
              "    .colab-df-container {\n",
              "      display:flex;\n",
              "      gap: 12px;\n",
              "    }\n",
              "\n",
              "    .colab-df-convert {\n",
              "      background-color: #E8F0FE;\n",
              "      border: none;\n",
              "      border-radius: 50%;\n",
              "      cursor: pointer;\n",
              "      display: none;\n",
              "      fill: #1967D2;\n",
              "      height: 32px;\n",
              "      padding: 0 0 0 0;\n",
              "      width: 32px;\n",
              "    }\n",
              "\n",
              "    .colab-df-convert:hover {\n",
              "      background-color: #E2EBFA;\n",
              "      box-shadow: 0px 1px 2px rgba(60, 64, 67, 0.3), 0px 1px 3px 1px rgba(60, 64, 67, 0.15);\n",
              "      fill: #174EA6;\n",
              "    }\n",
              "\n",
              "    .colab-df-buttons div {\n",
              "      margin-bottom: 4px;\n",
              "    }\n",
              "\n",
              "    [theme=dark] .colab-df-convert {\n",
              "      background-color: #3B4455;\n",
              "      fill: #D2E3FC;\n",
              "    }\n",
              "\n",
              "    [theme=dark] .colab-df-convert:hover {\n",
              "      background-color: #434B5C;\n",
              "      box-shadow: 0px 1px 3px 1px rgba(0, 0, 0, 0.15);\n",
              "      filter: drop-shadow(0px 1px 2px rgba(0, 0, 0, 0.3));\n",
              "      fill: #FFFFFF;\n",
              "    }\n",
              "  </style>\n",
              "\n",
              "    <script>\n",
              "      const buttonEl =\n",
              "        document.querySelector('#df-86b0eedc-78e2-4a53-bf2c-bea03e53215b button.colab-df-convert');\n",
              "      buttonEl.style.display =\n",
              "        google.colab.kernel.accessAllowed ? 'block' : 'none';\n",
              "\n",
              "      async function convertToInteractive(key) {\n",
              "        const element = document.querySelector('#df-86b0eedc-78e2-4a53-bf2c-bea03e53215b');\n",
              "        const dataTable =\n",
              "          await google.colab.kernel.invokeFunction('convertToInteractive',\n",
              "                                                    [key], {});\n",
              "        if (!dataTable) return;\n",
              "\n",
              "        const docLinkHtml = 'Like what you see? Visit the ' +\n",
              "          '<a target=\"_blank\" href=https://colab.research.google.com/notebooks/data_table.ipynb>data table notebook</a>'\n",
              "          + ' to learn more about interactive tables.';\n",
              "        element.innerHTML = '';\n",
              "        dataTable['output_type'] = 'display_data';\n",
              "        await google.colab.output.renderOutput(dataTable, element);\n",
              "        const docLink = document.createElement('div');\n",
              "        docLink.innerHTML = docLinkHtml;\n",
              "        element.appendChild(docLink);\n",
              "      }\n",
              "    </script>\n",
              "  </div>\n",
              "\n",
              "\n",
              "  <div id=\"id_fc5c8249-d7ee-4d43-b0b2-61f6735142cd\">\n",
              "    <style>\n",
              "      .colab-df-generate {\n",
              "        background-color: #E8F0FE;\n",
              "        border: none;\n",
              "        border-radius: 50%;\n",
              "        cursor: pointer;\n",
              "        display: none;\n",
              "        fill: #1967D2;\n",
              "        height: 32px;\n",
              "        padding: 0 0 0 0;\n",
              "        width: 32px;\n",
              "      }\n",
              "\n",
              "      .colab-df-generate:hover {\n",
              "        background-color: #E2EBFA;\n",
              "        box-shadow: 0px 1px 2px rgba(60, 64, 67, 0.3), 0px 1px 3px 1px rgba(60, 64, 67, 0.15);\n",
              "        fill: #174EA6;\n",
              "      }\n",
              "\n",
              "      [theme=dark] .colab-df-generate {\n",
              "        background-color: #3B4455;\n",
              "        fill: #D2E3FC;\n",
              "      }\n",
              "\n",
              "      [theme=dark] .colab-df-generate:hover {\n",
              "        background-color: #434B5C;\n",
              "        box-shadow: 0px 1px 3px 1px rgba(0, 0, 0, 0.15);\n",
              "        filter: drop-shadow(0px 1px 2px rgba(0, 0, 0, 0.3));\n",
              "        fill: #FFFFFF;\n",
              "      }\n",
              "    </style>\n",
              "    <button class=\"colab-df-generate\" onclick=\"generateWithVariable('pazienti_basso_mmse')\"\n",
              "            title=\"Generate code using this dataframe.\"\n",
              "            style=\"display:none;\">\n",
              "\n",
              "  <svg xmlns=\"http://www.w3.org/2000/svg\" height=\"24px\"viewBox=\"0 0 24 24\"\n",
              "       width=\"24px\">\n",
              "    <path d=\"M7,19H8.4L18.45,9,17,7.55,7,17.6ZM5,21V16.75L18.45,3.32a2,2,0,0,1,2.83,0l1.4,1.43a1.91,1.91,0,0,1,.58,1.4,1.91,1.91,0,0,1-.58,1.4L9.25,21ZM18.45,9,17,7.55Zm-12,3A5.31,5.31,0,0,0,4.9,8.1,5.31,5.31,0,0,0,1,6.5,5.31,5.31,0,0,0,4.9,4.9,5.31,5.31,0,0,0,6.5,1,5.31,5.31,0,0,0,8.1,4.9,5.31,5.31,0,0,0,12,6.5,5.46,5.46,0,0,0,6.5,12Z\"/>\n",
              "  </svg>\n",
              "    </button>\n",
              "    <script>\n",
              "      (() => {\n",
              "      const buttonEl =\n",
              "        document.querySelector('#id_fc5c8249-d7ee-4d43-b0b2-61f6735142cd button.colab-df-generate');\n",
              "      buttonEl.style.display =\n",
              "        google.colab.kernel.accessAllowed ? 'block' : 'none';\n",
              "\n",
              "      buttonEl.onclick = () => {\n",
              "        google.colab.notebook.generateWithVariable('pazienti_basso_mmse');\n",
              "      }\n",
              "      })();\n",
              "    </script>\n",
              "  </div>\n",
              "\n",
              "    </div>\n",
              "  </div>\n"
            ],
            "application/vnd.google.colaboratory.intrinsic+json": {
              "type": "dataframe",
              "variable_name": "pazienti_basso_mmse",
              "summary": "{\n  \"name\": \"pazienti_basso_mmse\",\n  \"rows\": 1,\n  \"fields\": [\n    {\n      \"column\": \"ID_Paziente\",\n      \"properties\": {\n        \"dtype\": \"string\",\n        \"num_unique_values\": 1,\n        \"samples\": [\n          \"P003\"\n        ],\n        \"semantic_type\": \"\",\n        \"description\": \"\"\n      }\n    },\n    {\n      \"column\": \"Et\\u00e0\",\n      \"properties\": {\n        \"dtype\": \"number\",\n        \"std\": null,\n        \"min\": 68,\n        \"max\": 68,\n        \"num_unique_values\": 1,\n        \"samples\": [\n          68\n        ],\n        \"semantic_type\": \"\",\n        \"description\": \"\"\n      }\n    },\n    {\n      \"column\": \"Sesso\",\n      \"properties\": {\n        \"dtype\": \"string\",\n        \"num_unique_values\": 1,\n        \"samples\": [\n          \"M\"\n        ],\n        \"semantic_type\": \"\",\n        \"description\": \"\"\n      }\n    },\n    {\n      \"column\": \"Diagnosi\",\n      \"properties\": {\n        \"dtype\": \"string\",\n        \"num_unique_values\": 1,\n        \"samples\": [\n          \"AD\"\n        ],\n        \"semantic_type\": \"\",\n        \"description\": \"\"\n      }\n    },\n    {\n      \"column\": \"MMSE\",\n      \"properties\": {\n        \"dtype\": \"number\",\n        \"std\": null,\n        \"min\": 18,\n        \"max\": 18,\n        \"num_unique_values\": 1,\n        \"samples\": [\n          18\n        ],\n        \"semantic_type\": \"\",\n        \"description\": \"\"\n      }\n    }\n  ]\n}"
            }
          },
          "metadata": {},
          "execution_count": 26
        }
      ]
    },
    {
      "cell_type": "code",
      "source": [
        "# Filtare i pazienti per diagnosi\n",
        "\n",
        "# -- TODO: scrivere qui il codice"
      ],
      "metadata": {
        "id": "LreIMNRjSdET"
      },
      "execution_count": 27,
      "outputs": []
    },
    {
      "cell_type": "markdown",
      "source": [
        "## 4. Principi base dell'IA e Machine Learning\n",
        "Questa sezione introdurrà i concetti fondamentali che stanno alla base dell'Intelligenza Artificiale (IA) e del Machine Learning (ML), specificamente nel contesto delle loro applicazioni in neurologia."
      ],
      "metadata": {
        "id": "P8JDYx46NYRw"
      }
    },
    {
      "cell_type": "markdown",
      "source": [
        "### 4.1. Cosa sono IA e ML e come si relazionano con la ricerca in neurologia\n",
        "\n",
        "- **Intelligenza Artificiale (IA)**: È un campo vasto dell'informatica che mira a creare macchine o sistemi capaci di svolgere compiti che, se eseguiti da esseri umani, richiederebbero intelligenza. Questo include ragionamento, apprendimento, percezione, comprensione del linguaggio e problem solving.\n",
        " - **In Neurologia**: L'IA può supportare la diagnosi precoce (es. Alzheimer da scansioni cerebrali), la personalizzazione dei trattamenti, la previsione della progressione di malattie e l'analisi di pattern complessi nei dati neuroscientifici.\n",
        "\n",
        "- **Machine Learning** (ML - Apprendimento Automatico): È una sotto-disciplina dell'IA. Invece di programmare esplicitamente ogni regola, il ML permette ai sistemi di \"imparare\" dai dati. Vengono forniti grandi set di dati e il sistema identifica autonomamente pattern, fa previsioni o prende decisioni. È come insegnare mostrando esempi.\n",
        " - **In Neurologia**: Il ML è cruciale per analizzare coorti di pazienti, scoprire biomarcatori da dati multimodali (es. genetica + imaging), prevedere la risposta a farmaci (es. nell'epilessia), o segmentare automaticamente le lesioni cerebrali.\n",
        "\n",
        "- **Deep Learning**: Deep Learning (DL): algoritmi che utilizzano reti neurali per far apprendere alle macchine dai dati senza essere programmate esplicitamente."
      ],
      "metadata": {
        "id": "-8bIhsjPSbR5"
      }
    },
    {
      "cell_type": "markdown",
      "source": [
        "### 4.2. Introduzione al concetto di Modello e Algoritmo\n",
        "\n",
        "Questi due termini sono centrali nel Machine Learning e, sebbene correlati, rappresentano concetti distinti.\n",
        "\n",
        "**Modello** (Il \"cervello\" addestrato che fa previsioni)\n",
        "\n",
        "- **Cos'è**: Immaginate il modello come il risultato finale del processo di apprendimento. Non è solo la sua architettura (la sua struttura di base, come una rete neurale con i suoi strati e connessioni), ma è l'architettura addestrata. È la struttura che ha \"imparato\" dai dati, con tutti i suoi \"pesi\" e \"bias\" (i parametri interni che sono stati regolati durante l'apprendimento) che le permettono di prendere decisioni o fare previsioni su nuovi dati.\n",
        " - **Analogia Medica**: Pensate a un medico esperto. Il modello è l'insieme delle sue conoscenze consolidate, la sua capacità di riconoscere una malattia dai sintomi, di interpretare un'immagine diagnostica, o di prevedere una prognosi, basandosi su anni di esperienza e dati clinici acquisiti. È il \"motore predittivo\" pronto all'uso.\n",
        "- **In pratica**: Se un modello è stato addestrato per riconoscere i segni precoci della demenza da un pattern di atrofia cerebrale su una RM, quando gli presentate una nuova risonanza, è il modello (con i suoi parametri interni ottimizzati) che la analizza e vi fornisce una predizione o una classificazione.\n",
        "\n",
        "**L'Algoritmo** (La \"ricetta\" o il \"processo\" per addestrare il Modello)\n",
        "\n",
        "- **Cos'è**: L'algoritmo è il processo, la procedura o la ricetta che viene utilizzata per costruire o addestrare il modello a partire dai dati. È l'insieme di istruzioni passo-passo che il computer segue per imparare. Non è il risultato finale, ma il \"metodo\" per arrivarci.\n",
        "  - Analogia Medica: Riprendendo l'esempio del medico, l'algoritmo è il metodo di studio che ha seguito: i libri letti, i corsi frequentati, i tirocini in ospedale, le ore di pratica e supervisione. È il processo iterativo attraverso cui ha imparato a distinguere tra diverse patologie, a raffinare la sua diagnosi e a migliorare le sue previsioni.\n",
        "- **Componenti dell'Algoritmo di Addestramento**: Quando parliamo di algoritmo nel contesto del Machine Learning, spesso ci riferiamo all'algoritmo di addestramento che regola i parametri del modello. Questi includono:\n",
        "  - **Funzione di Loss (o Costo)**: Una misura numerica di quanto il modello sta sbagliando rispetto alla \"verità\" dei dati di addestramento. L'obiettivo dell'algoritmo è minimizzare questa \"perdita\".\n",
        "  - **Ottimizzatore:** L'algoritmo matematico che decide come modificare i parametri interni del modello (i pesi) per ridurre la funzione di loss. Esempi comuni sono la Discesa del Gradiente (Gradient Descent) e le sue varianti (Adam, RMSprop).\n",
        "  - **Learning Rate:** Un parametro dell'ottimizzatore che determina la \"dimensione del passo\" con cui i parametri del modello vengono aggiornati in ogni iterazione. Un learning rate troppo alto può far \"saltare\" l'ottimizzazione, uno troppo basso può renderla estremamente lenta.\n",
        "  - **Epoche:** Il numero di volte che l'intero dataset di addestramento viene mostrato all'algoritmo. Ogni epoca è un ciclo completo di apprendimento sul dataset. Più epoche di solito significano più apprendimento, ma anche rischio di overfitting.\n",
        "- **La Relazione**: L'algoritmo (la ricetta) prende i dati (gli ingredienti) e un'architettura iniziale, e li usa per addestrare un modello (il piatto finale). Una volta addestrato, il modello è pronto per fare previsioni su nuovi dati."
      ],
      "metadata": {
        "id": "NRrIsUZrSgF1"
      }
    },
    {
      "cell_type": "markdown",
      "source": [
        "#### Esempio Concettuale: Classificazione di pazienti (Sano/Malato)\n",
        "\n",
        "Immaginiamo di voler creare un modello che classifichi i pazienti come \"Sani\" o \"Malati\" basandosi su alcuni biomarcatori.\n",
        "\n",
        "- **Dati**: Avremmo un dataset di pazienti con i loro biomarcatori e l'etichetta \"Sano\" o \"Malato\".\n",
        "- **Algoritmo di Apprendimento**: Potremmo scegliere un algoritmo come la \"Regressione Logistica\" o un \"Albero Decisionale\". Questo algoritmo definisce come il modello verrà costruito.\n",
        "- **Processo di Addestramento:**\n",
        "  - L'algoritmo analizza i dati.\n",
        "  - In base a una funzione di loss, calcola quanto le sue previsioni iniziali sono lontane dalla realtà.\n",
        "  - L'ottimizzatore (guidato dal learning rate) regola i \"pesi\" del modello per ridurre la loss.\n",
        "  - Questo processo si ripete per diverse epoche.\n",
        "- **Modello Finale**: Alla fine dell'addestramento, otteniamo un modello addestrato. Questo modello è ora capace di prendere i biomarcatori di un nuovo paziente (che non ha mai visto) e predire se è \"Sano\" o \"Malato\" con una certa probabilità."
      ],
      "metadata": {
        "id": "JBkRQLhtSqa1"
      }
    },
    {
      "cell_type": "code",
      "source": [
        "# Piccola dimostrazione concettuale (senza training reale, solo per illustrare l'idea)\n",
        "from sklearn.linear_model import LogisticRegression\n",
        "import numpy as np\n",
        "\n",
        "# Supponiamo di avere dati di esempio:\n",
        "# Caratteristiche (es. biomarcatori X1, X2) e etichette (0=Sano, 1=Malato)\n",
        "X = np.array([\n",
        "    [1.2, 0.5],\n",
        "    [2.1, 1.8],\n",
        "    [0.9, 0.3],\n",
        "    [2.5, 2.0],\n",
        "    [1.0, 0.6]\n",
        "])\n",
        "y = np.array([0, 1, 0, 1, 0])\n",
        "\n",
        "# L'Algoritmo (in questo caso, Logistic Regression)\n",
        "# Questo è l'oggetto che useremo per addestrare il nostro modello\n",
        "algoritmo_classificazione = LogisticRegression()\n",
        "\n",
        "# Il processo di \"apprendimento\" o \"addestramento\" del modello\n",
        "# Qui l'algoritmo \"impara\" dai dati X e dalle etichette y\n",
        "print(\"Addestramento del modello...\")\n",
        "modello_addestrato = algoritmo_classificazione.fit(X, y)\n",
        "print(\"Modello addestrato con successo!\")\n",
        "\n",
        "# Il Modello (ora possiamo usarlo per fare previsioni su nuovi dati)\n",
        "nuovi_dati_paziente = np.array([[1.5, 0.7]]) # Un nuovo paziente con nuovi biomarcatori\n",
        "\n",
        "predizione = modello_addestrato.predict(nuovi_dati_paziente)\n",
        "probabilita = modello_addestrato.predict_proba(nuovi_dati_paziente)\n",
        "\n",
        "print(f\"\\nNuovi dati paziente: {nuovi_dati_paziente}\")\n",
        "print(f\"Predizione (0=Sano, 1=Malato): {predizione[0]}\")\n",
        "print(f\"Probabilità (Sano, Malato): {probabilita[0]}\")\n",
        "\n",
        "# Nota: In un caso reale, avremmo bisogno di molti più dati e un processo di validazione robusto!"
      ],
      "metadata": {
        "colab": {
          "base_uri": "https://localhost:8080/"
        },
        "id": "_hNFNZTiMVy8",
        "outputId": "37f94e7e-f655-4ba7-bb1d-e161dd98366c"
      },
      "execution_count": 28,
      "outputs": [
        {
          "output_type": "stream",
          "name": "stdout",
          "text": [
            "Addestramento del modello...\n",
            "Modello addestrato con successo!\n",
            "\n",
            "Nuovi dati paziente: [[1.5 0.7]]\n",
            "Predizione (0=Sano, 1=Malato): 0\n",
            "Probabilità (Sano, Malato): [0.69270307 0.30729693]\n"
          ]
        }
      ]
    },
    {
      "cell_type": "code",
      "source": [],
      "metadata": {
        "id": "BC-fTxhHSP8j"
      },
      "execution_count": 28,
      "outputs": []
    },
    {
      "cell_type": "markdown",
      "source": [
        "### 4.3. Il Ciclo di Vita Semplificato di un Modello di Machine Learning: Dall'idea al risultato\n",
        "\n",
        "Vediamo ora, con un esempio pratico, come un medico o un ricercatore potrebbe approcciare l'uso del Machine Learning per un problema di classificazione, come prevedere la presenza di una malattia neurologica basandosi su dati clinici e biomarcatori.\n"
      ],
      "metadata": {
        "id": "y9buq-HObz0t"
      }
    },
    {
      "cell_type": "markdown",
      "source": [
        "\n",
        "#### Passo 0: Caricamento dei Dati (dal CSV)\n",
        "\n",
        "Il passo (zero) è sempre caricare i dati su cui il nostro modello imparerà. Useremo Pandas per leggere un file .csv che contiene le informazioni dei pazienti. Immaginiamo che il nostro file dati_pazienti_fittizi.csv contenga dati anonimi di pazienti."
      ],
      "metadata": {
        "id": "QSd05eX2b651"
      }
    },
    {
      "cell_type": "code",
      "source": [
        "# Assicuriamoci che pandas sia importato (dovrebbe esserlo dalla sezione precedente)\n",
        "import pandas as pd\n",
        "\n",
        "# Carichiamo il dataset dal file CSV\n",
        "# Se il tuo file fosse su GitHub, potresti clonare il repo o caricarlo su Colab Files\n",
        "# Per questa demo, abbiamo generato il file poco sopra.\n",
        "try:\n",
        "    df_pazienti = pd.read_csv('data/data_fake_example.csv')\n",
        "    print(\"Dataset caricato con successo:\")\n",
        "    print(df_pazienti.head())\n",
        "except FileNotFoundError:\n",
        "    print(\"Errore: Il file 'dati_pazienti_fittizi.csv' non trovato. Assicurati che sia nella stessa directory o che sia stato creato.\")\n",
        "\n",
        "# Verifichiamo le dimensioni del dataset\n",
        "print(f\"\\nDimensioni del dataset: {df_pazienti.shape} (righe, colonne)\")"
      ],
      "metadata": {
        "colab": {
          "base_uri": "https://localhost:8080/"
        },
        "id": "vGQf0Rrqb6Yf",
        "outputId": "21358899-1848-4155-eb2e-11ea4e8b1b6e"
      },
      "execution_count": 36,
      "outputs": [
        {
          "output_type": "stream",
          "name": "stdout",
          "text": [
            "Dataset caricato con successo:\n",
            "   Età  Biomarcatore_A  Biomarcatore_B  Malattia_Presente\n",
            "0   69        0.767411        5.536681                  0\n",
            "1   63        1.972258        5.841177                  1\n",
            "2   71        2.758117        6.624577                  1\n",
            "3   80        2.156229        6.580703                  1\n",
            "4   62        1.843488        2.933496                  1\n",
            "\n",
            "Dimensioni del dataset: (200, 4) (righe, colonne)\n"
          ]
        }
      ]
    },
    {
      "cell_type": "code",
      "source": [
        "import matplotlib.pyplot as plt # Per creare grafici\n",
        "import seaborn as sns # Per grafici più belli e complessi\n",
        "\n",
        "# Impostazioni grafiche per una migliore leggibilità\n",
        "plt.style.use('seaborn-v0_8-darkgrid') # Un bel tema grafico\n",
        "plt.rcParams.update({'font.size': 12}) # Dimensione font di default\n",
        "\n",
        "print(\"Inizio Analisi Esplorativa dei Dati (EDA)...\")"
      ],
      "metadata": {
        "colab": {
          "base_uri": "https://localhost:8080/"
        },
        "id": "2LICbLcYB81L",
        "outputId": "e982054b-1223-4b78-9cc7-ad67feeb2b9c"
      },
      "execution_count": 37,
      "outputs": [
        {
          "output_type": "stream",
          "name": "stdout",
          "text": [
            "Inizio Analisi Esplorativa dei Dati (EDA)...\n"
          ]
        }
      ]
    },
    {
      "cell_type": "code",
      "source": [
        "print(\"\\nPrime 5 righe del dataset:\")\n",
        "df_pazienti.head()\n"
      ],
      "metadata": {
        "colab": {
          "base_uri": "https://localhost:8080/",
          "height": 254
        },
        "id": "c3p8pnMaCI8L",
        "outputId": "f784f1cc-6c81-4e4c-dd3d-a824cd64b8a6"
      },
      "execution_count": 38,
      "outputs": [
        {
          "output_type": "stream",
          "name": "stdout",
          "text": [
            "\n",
            "Prime 5 righe del dataset:\n"
          ]
        },
        {
          "output_type": "execute_result",
          "data": {
            "text/plain": [
              "   Età  Biomarcatore_A  Biomarcatore_B  Malattia_Presente\n",
              "0   69        0.767411        5.536681                  0\n",
              "1   63        1.972258        5.841177                  1\n",
              "2   71        2.758117        6.624577                  1\n",
              "3   80        2.156229        6.580703                  1\n",
              "4   62        1.843488        2.933496                  1"
            ],
            "text/html": [
              "\n",
              "  <div id=\"df-e9d73bec-e81d-4075-b2b4-de1d51e40efa\" class=\"colab-df-container\">\n",
              "    <div>\n",
              "<style scoped>\n",
              "    .dataframe tbody tr th:only-of-type {\n",
              "        vertical-align: middle;\n",
              "    }\n",
              "\n",
              "    .dataframe tbody tr th {\n",
              "        vertical-align: top;\n",
              "    }\n",
              "\n",
              "    .dataframe thead th {\n",
              "        text-align: right;\n",
              "    }\n",
              "</style>\n",
              "<table border=\"1\" class=\"dataframe\">\n",
              "  <thead>\n",
              "    <tr style=\"text-align: right;\">\n",
              "      <th></th>\n",
              "      <th>Età</th>\n",
              "      <th>Biomarcatore_A</th>\n",
              "      <th>Biomarcatore_B</th>\n",
              "      <th>Malattia_Presente</th>\n",
              "    </tr>\n",
              "  </thead>\n",
              "  <tbody>\n",
              "    <tr>\n",
              "      <th>0</th>\n",
              "      <td>69</td>\n",
              "      <td>0.767411</td>\n",
              "      <td>5.536681</td>\n",
              "      <td>0</td>\n",
              "    </tr>\n",
              "    <tr>\n",
              "      <th>1</th>\n",
              "      <td>63</td>\n",
              "      <td>1.972258</td>\n",
              "      <td>5.841177</td>\n",
              "      <td>1</td>\n",
              "    </tr>\n",
              "    <tr>\n",
              "      <th>2</th>\n",
              "      <td>71</td>\n",
              "      <td>2.758117</td>\n",
              "      <td>6.624577</td>\n",
              "      <td>1</td>\n",
              "    </tr>\n",
              "    <tr>\n",
              "      <th>3</th>\n",
              "      <td>80</td>\n",
              "      <td>2.156229</td>\n",
              "      <td>6.580703</td>\n",
              "      <td>1</td>\n",
              "    </tr>\n",
              "    <tr>\n",
              "      <th>4</th>\n",
              "      <td>62</td>\n",
              "      <td>1.843488</td>\n",
              "      <td>2.933496</td>\n",
              "      <td>1</td>\n",
              "    </tr>\n",
              "  </tbody>\n",
              "</table>\n",
              "</div>\n",
              "    <div class=\"colab-df-buttons\">\n",
              "\n",
              "  <div class=\"colab-df-container\">\n",
              "    <button class=\"colab-df-convert\" onclick=\"convertToInteractive('df-e9d73bec-e81d-4075-b2b4-de1d51e40efa')\"\n",
              "            title=\"Convert this dataframe to an interactive table.\"\n",
              "            style=\"display:none;\">\n",
              "\n",
              "  <svg xmlns=\"http://www.w3.org/2000/svg\" height=\"24px\" viewBox=\"0 -960 960 960\">\n",
              "    <path d=\"M120-120v-720h720v720H120Zm60-500h600v-160H180v160Zm220 220h160v-160H400v160Zm0 220h160v-160H400v160ZM180-400h160v-160H180v160Zm440 0h160v-160H620v160ZM180-180h160v-160H180v160Zm440 0h160v-160H620v160Z\"/>\n",
              "  </svg>\n",
              "    </button>\n",
              "\n",
              "  <style>\n",
              "    .colab-df-container {\n",
              "      display:flex;\n",
              "      gap: 12px;\n",
              "    }\n",
              "\n",
              "    .colab-df-convert {\n",
              "      background-color: #E8F0FE;\n",
              "      border: none;\n",
              "      border-radius: 50%;\n",
              "      cursor: pointer;\n",
              "      display: none;\n",
              "      fill: #1967D2;\n",
              "      height: 32px;\n",
              "      padding: 0 0 0 0;\n",
              "      width: 32px;\n",
              "    }\n",
              "\n",
              "    .colab-df-convert:hover {\n",
              "      background-color: #E2EBFA;\n",
              "      box-shadow: 0px 1px 2px rgba(60, 64, 67, 0.3), 0px 1px 3px 1px rgba(60, 64, 67, 0.15);\n",
              "      fill: #174EA6;\n",
              "    }\n",
              "\n",
              "    .colab-df-buttons div {\n",
              "      margin-bottom: 4px;\n",
              "    }\n",
              "\n",
              "    [theme=dark] .colab-df-convert {\n",
              "      background-color: #3B4455;\n",
              "      fill: #D2E3FC;\n",
              "    }\n",
              "\n",
              "    [theme=dark] .colab-df-convert:hover {\n",
              "      background-color: #434B5C;\n",
              "      box-shadow: 0px 1px 3px 1px rgba(0, 0, 0, 0.15);\n",
              "      filter: drop-shadow(0px 1px 2px rgba(0, 0, 0, 0.3));\n",
              "      fill: #FFFFFF;\n",
              "    }\n",
              "  </style>\n",
              "\n",
              "    <script>\n",
              "      const buttonEl =\n",
              "        document.querySelector('#df-e9d73bec-e81d-4075-b2b4-de1d51e40efa button.colab-df-convert');\n",
              "      buttonEl.style.display =\n",
              "        google.colab.kernel.accessAllowed ? 'block' : 'none';\n",
              "\n",
              "      async function convertToInteractive(key) {\n",
              "        const element = document.querySelector('#df-e9d73bec-e81d-4075-b2b4-de1d51e40efa');\n",
              "        const dataTable =\n",
              "          await google.colab.kernel.invokeFunction('convertToInteractive',\n",
              "                                                    [key], {});\n",
              "        if (!dataTable) return;\n",
              "\n",
              "        const docLinkHtml = 'Like what you see? Visit the ' +\n",
              "          '<a target=\"_blank\" href=https://colab.research.google.com/notebooks/data_table.ipynb>data table notebook</a>'\n",
              "          + ' to learn more about interactive tables.';\n",
              "        element.innerHTML = '';\n",
              "        dataTable['output_type'] = 'display_data';\n",
              "        await google.colab.output.renderOutput(dataTable, element);\n",
              "        const docLink = document.createElement('div');\n",
              "        docLink.innerHTML = docLinkHtml;\n",
              "        element.appendChild(docLink);\n",
              "      }\n",
              "    </script>\n",
              "  </div>\n",
              "\n",
              "\n",
              "    <div id=\"df-4fc2e184-9eb2-448c-a337-c583aa6f3023\">\n",
              "      <button class=\"colab-df-quickchart\" onclick=\"quickchart('df-4fc2e184-9eb2-448c-a337-c583aa6f3023')\"\n",
              "                title=\"Suggest charts\"\n",
              "                style=\"display:none;\">\n",
              "\n",
              "<svg xmlns=\"http://www.w3.org/2000/svg\" height=\"24px\"viewBox=\"0 0 24 24\"\n",
              "     width=\"24px\">\n",
              "    <g>\n",
              "        <path d=\"M19 3H5c-1.1 0-2 .9-2 2v14c0 1.1.9 2 2 2h14c1.1 0 2-.9 2-2V5c0-1.1-.9-2-2-2zM9 17H7v-7h2v7zm4 0h-2V7h2v10zm4 0h-2v-4h2v4z\"/>\n",
              "    </g>\n",
              "</svg>\n",
              "      </button>\n",
              "\n",
              "<style>\n",
              "  .colab-df-quickchart {\n",
              "      --bg-color: #E8F0FE;\n",
              "      --fill-color: #1967D2;\n",
              "      --hover-bg-color: #E2EBFA;\n",
              "      --hover-fill-color: #174EA6;\n",
              "      --disabled-fill-color: #AAA;\n",
              "      --disabled-bg-color: #DDD;\n",
              "  }\n",
              "\n",
              "  [theme=dark] .colab-df-quickchart {\n",
              "      --bg-color: #3B4455;\n",
              "      --fill-color: #D2E3FC;\n",
              "      --hover-bg-color: #434B5C;\n",
              "      --hover-fill-color: #FFFFFF;\n",
              "      --disabled-bg-color: #3B4455;\n",
              "      --disabled-fill-color: #666;\n",
              "  }\n",
              "\n",
              "  .colab-df-quickchart {\n",
              "    background-color: var(--bg-color);\n",
              "    border: none;\n",
              "    border-radius: 50%;\n",
              "    cursor: pointer;\n",
              "    display: none;\n",
              "    fill: var(--fill-color);\n",
              "    height: 32px;\n",
              "    padding: 0;\n",
              "    width: 32px;\n",
              "  }\n",
              "\n",
              "  .colab-df-quickchart:hover {\n",
              "    background-color: var(--hover-bg-color);\n",
              "    box-shadow: 0 1px 2px rgba(60, 64, 67, 0.3), 0 1px 3px 1px rgba(60, 64, 67, 0.15);\n",
              "    fill: var(--button-hover-fill-color);\n",
              "  }\n",
              "\n",
              "  .colab-df-quickchart-complete:disabled,\n",
              "  .colab-df-quickchart-complete:disabled:hover {\n",
              "    background-color: var(--disabled-bg-color);\n",
              "    fill: var(--disabled-fill-color);\n",
              "    box-shadow: none;\n",
              "  }\n",
              "\n",
              "  .colab-df-spinner {\n",
              "    border: 2px solid var(--fill-color);\n",
              "    border-color: transparent;\n",
              "    border-bottom-color: var(--fill-color);\n",
              "    animation:\n",
              "      spin 1s steps(1) infinite;\n",
              "  }\n",
              "\n",
              "  @keyframes spin {\n",
              "    0% {\n",
              "      border-color: transparent;\n",
              "      border-bottom-color: var(--fill-color);\n",
              "      border-left-color: var(--fill-color);\n",
              "    }\n",
              "    20% {\n",
              "      border-color: transparent;\n",
              "      border-left-color: var(--fill-color);\n",
              "      border-top-color: var(--fill-color);\n",
              "    }\n",
              "    30% {\n",
              "      border-color: transparent;\n",
              "      border-left-color: var(--fill-color);\n",
              "      border-top-color: var(--fill-color);\n",
              "      border-right-color: var(--fill-color);\n",
              "    }\n",
              "    40% {\n",
              "      border-color: transparent;\n",
              "      border-right-color: var(--fill-color);\n",
              "      border-top-color: var(--fill-color);\n",
              "    }\n",
              "    60% {\n",
              "      border-color: transparent;\n",
              "      border-right-color: var(--fill-color);\n",
              "    }\n",
              "    80% {\n",
              "      border-color: transparent;\n",
              "      border-right-color: var(--fill-color);\n",
              "      border-bottom-color: var(--fill-color);\n",
              "    }\n",
              "    90% {\n",
              "      border-color: transparent;\n",
              "      border-bottom-color: var(--fill-color);\n",
              "    }\n",
              "  }\n",
              "</style>\n",
              "\n",
              "      <script>\n",
              "        async function quickchart(key) {\n",
              "          const quickchartButtonEl =\n",
              "            document.querySelector('#' + key + ' button');\n",
              "          quickchartButtonEl.disabled = true;  // To prevent multiple clicks.\n",
              "          quickchartButtonEl.classList.add('colab-df-spinner');\n",
              "          try {\n",
              "            const charts = await google.colab.kernel.invokeFunction(\n",
              "                'suggestCharts', [key], {});\n",
              "          } catch (error) {\n",
              "            console.error('Error during call to suggestCharts:', error);\n",
              "          }\n",
              "          quickchartButtonEl.classList.remove('colab-df-spinner');\n",
              "          quickchartButtonEl.classList.add('colab-df-quickchart-complete');\n",
              "        }\n",
              "        (() => {\n",
              "          let quickchartButtonEl =\n",
              "            document.querySelector('#df-4fc2e184-9eb2-448c-a337-c583aa6f3023 button');\n",
              "          quickchartButtonEl.style.display =\n",
              "            google.colab.kernel.accessAllowed ? 'block' : 'none';\n",
              "        })();\n",
              "      </script>\n",
              "    </div>\n",
              "\n",
              "    </div>\n",
              "  </div>\n"
            ],
            "application/vnd.google.colaboratory.intrinsic+json": {
              "type": "dataframe",
              "variable_name": "df_pazienti",
              "summary": "{\n  \"name\": \"df_pazienti\",\n  \"rows\": 200,\n  \"fields\": [\n    {\n      \"column\": \"Et\\u00e0\",\n      \"properties\": {\n        \"dtype\": \"number\",\n        \"std\": 9,\n        \"min\": 38,\n        \"max\": 90,\n        \"num_unique_values\": 39,\n        \"samples\": [\n          89,\n          49,\n          62\n        ],\n        \"semantic_type\": \"\",\n        \"description\": \"\"\n      }\n    },\n    {\n      \"column\": \"Biomarcatore_A\",\n      \"properties\": {\n        \"dtype\": \"number\",\n        \"std\": 0.6569159194476103,\n        \"min\": 0.1,\n        \"max\": 3.027546304310736,\n        \"num_unique_values\": 199,\n        \"samples\": [\n          0.6194093963310847,\n          1.0633475505440342,\n          0.6666087325263079\n        ],\n        \"semantic_type\": \"\",\n        \"description\": \"\"\n      }\n    },\n    {\n      \"column\": \"Biomarcatore_B\",\n      \"properties\": {\n        \"dtype\": \"number\",\n        \"std\": 1.4805057165330637,\n        \"min\": 0.1380989898963909,\n        \"max\": 10.779097235982082,\n        \"num_unique_values\": 200,\n        \"samples\": [\n          3.960635607109019,\n          6.138453830739901,\n          3.904450052424295\n        ],\n        \"semantic_type\": \"\",\n        \"description\": \"\"\n      }\n    },\n    {\n      \"column\": \"Malattia_Presente\",\n      \"properties\": {\n        \"dtype\": \"number\",\n        \"std\": 0,\n        \"min\": 0,\n        \"max\": 1,\n        \"num_unique_values\": 2,\n        \"samples\": [\n          1,\n          0\n        ],\n        \"semantic_type\": \"\",\n        \"description\": \"\"\n      }\n    }\n  ]\n}"
            }
          },
          "metadata": {},
          "execution_count": 38
        }
      ]
    },
    {
      "cell_type": "code",
      "source": [
        "\n",
        "print(\"\\nInformazioni sul dataset (tipi di dati, valori non nulli):\")\n",
        "df_pazienti.info(verbose= True)"
      ],
      "metadata": {
        "colab": {
          "base_uri": "https://localhost:8080/"
        },
        "id": "T6MBhT1ZCKB-",
        "outputId": "d1acaafa-112e-408d-c6db-e1214f664fab"
      },
      "execution_count": 39,
      "outputs": [
        {
          "output_type": "stream",
          "name": "stdout",
          "text": [
            "\n",
            "Informazioni sul dataset (tipi di dati, valori non nulli):\n",
            "<class 'pandas.core.frame.DataFrame'>\n",
            "RangeIndex: 200 entries, 0 to 199\n",
            "Data columns (total 4 columns):\n",
            " #   Column             Non-Null Count  Dtype  \n",
            "---  ------             --------------  -----  \n",
            " 0   Età                200 non-null    int64  \n",
            " 1   Biomarcatore_A     200 non-null    float64\n",
            " 2   Biomarcatore_B     200 non-null    float64\n",
            " 3   Malattia_Presente  200 non-null    int64  \n",
            "dtypes: float64(2), int64(2)\n",
            "memory usage: 6.4 KB\n"
          ]
        }
      ]
    },
    {
      "cell_type": "code",
      "source": [
        "\n",
        "\n",
        "print(\"\\nStatistiche descrittive delle colonne numeriche:\")\n",
        "# Cosa ci dicono queste statistiche?\n",
        "# - count: numero di osservazioni non mancanti\n",
        "# - mean: valore medio\n",
        "# - std: deviazione standard (quanto i dati sono sparsi)\n",
        "# - min/max: valori minimo e massimo\n",
        "# - 25%/50%/75%: quartili (il 50% è la mediana)\n",
        "df_pazienti.describe()\n"
      ],
      "metadata": {
        "colab": {
          "base_uri": "https://localhost:8080/",
          "height": 346
        },
        "id": "jEOd02_DB8os",
        "outputId": "eeeae4c3-1fe1-49d2-abc4-5dedadcb1bc8"
      },
      "execution_count": 40,
      "outputs": [
        {
          "output_type": "stream",
          "name": "stdout",
          "text": [
            "\n",
            "Statistiche descrittive delle colonne numeriche:\n"
          ]
        },
        {
          "output_type": "execute_result",
          "data": {
            "text/plain": [
              "              Età  Biomarcatore_A  Biomarcatore_B  Malattia_Presente\n",
              "count  200.000000      200.000000      200.000000         200.000000\n",
              "mean    64.040000        1.145758        5.128802           0.295000\n",
              "std      9.314624        0.656916        1.480506           0.457187\n",
              "min     38.000000        0.100000        0.138099           0.000000\n",
              "25%     57.000000        0.694555        4.091244           0.000000\n",
              "50%     64.500000        0.946358        5.118259           0.000000\n",
              "75%     69.250000        1.565004        6.030847           1.000000\n",
              "max     90.000000        3.027546       10.779097           1.000000"
            ],
            "text/html": [
              "\n",
              "  <div id=\"df-c66295b9-d9ef-4a18-8482-3880b0a0d9d1\" class=\"colab-df-container\">\n",
              "    <div>\n",
              "<style scoped>\n",
              "    .dataframe tbody tr th:only-of-type {\n",
              "        vertical-align: middle;\n",
              "    }\n",
              "\n",
              "    .dataframe tbody tr th {\n",
              "        vertical-align: top;\n",
              "    }\n",
              "\n",
              "    .dataframe thead th {\n",
              "        text-align: right;\n",
              "    }\n",
              "</style>\n",
              "<table border=\"1\" class=\"dataframe\">\n",
              "  <thead>\n",
              "    <tr style=\"text-align: right;\">\n",
              "      <th></th>\n",
              "      <th>Età</th>\n",
              "      <th>Biomarcatore_A</th>\n",
              "      <th>Biomarcatore_B</th>\n",
              "      <th>Malattia_Presente</th>\n",
              "    </tr>\n",
              "  </thead>\n",
              "  <tbody>\n",
              "    <tr>\n",
              "      <th>count</th>\n",
              "      <td>200.000000</td>\n",
              "      <td>200.000000</td>\n",
              "      <td>200.000000</td>\n",
              "      <td>200.000000</td>\n",
              "    </tr>\n",
              "    <tr>\n",
              "      <th>mean</th>\n",
              "      <td>64.040000</td>\n",
              "      <td>1.145758</td>\n",
              "      <td>5.128802</td>\n",
              "      <td>0.295000</td>\n",
              "    </tr>\n",
              "    <tr>\n",
              "      <th>std</th>\n",
              "      <td>9.314624</td>\n",
              "      <td>0.656916</td>\n",
              "      <td>1.480506</td>\n",
              "      <td>0.457187</td>\n",
              "    </tr>\n",
              "    <tr>\n",
              "      <th>min</th>\n",
              "      <td>38.000000</td>\n",
              "      <td>0.100000</td>\n",
              "      <td>0.138099</td>\n",
              "      <td>0.000000</td>\n",
              "    </tr>\n",
              "    <tr>\n",
              "      <th>25%</th>\n",
              "      <td>57.000000</td>\n",
              "      <td>0.694555</td>\n",
              "      <td>4.091244</td>\n",
              "      <td>0.000000</td>\n",
              "    </tr>\n",
              "    <tr>\n",
              "      <th>50%</th>\n",
              "      <td>64.500000</td>\n",
              "      <td>0.946358</td>\n",
              "      <td>5.118259</td>\n",
              "      <td>0.000000</td>\n",
              "    </tr>\n",
              "    <tr>\n",
              "      <th>75%</th>\n",
              "      <td>69.250000</td>\n",
              "      <td>1.565004</td>\n",
              "      <td>6.030847</td>\n",
              "      <td>1.000000</td>\n",
              "    </tr>\n",
              "    <tr>\n",
              "      <th>max</th>\n",
              "      <td>90.000000</td>\n",
              "      <td>3.027546</td>\n",
              "      <td>10.779097</td>\n",
              "      <td>1.000000</td>\n",
              "    </tr>\n",
              "  </tbody>\n",
              "</table>\n",
              "</div>\n",
              "    <div class=\"colab-df-buttons\">\n",
              "\n",
              "  <div class=\"colab-df-container\">\n",
              "    <button class=\"colab-df-convert\" onclick=\"convertToInteractive('df-c66295b9-d9ef-4a18-8482-3880b0a0d9d1')\"\n",
              "            title=\"Convert this dataframe to an interactive table.\"\n",
              "            style=\"display:none;\">\n",
              "\n",
              "  <svg xmlns=\"http://www.w3.org/2000/svg\" height=\"24px\" viewBox=\"0 -960 960 960\">\n",
              "    <path d=\"M120-120v-720h720v720H120Zm60-500h600v-160H180v160Zm220 220h160v-160H400v160Zm0 220h160v-160H400v160ZM180-400h160v-160H180v160Zm440 0h160v-160H620v160ZM180-180h160v-160H180v160Zm440 0h160v-160H620v160Z\"/>\n",
              "  </svg>\n",
              "    </button>\n",
              "\n",
              "  <style>\n",
              "    .colab-df-container {\n",
              "      display:flex;\n",
              "      gap: 12px;\n",
              "    }\n",
              "\n",
              "    .colab-df-convert {\n",
              "      background-color: #E8F0FE;\n",
              "      border: none;\n",
              "      border-radius: 50%;\n",
              "      cursor: pointer;\n",
              "      display: none;\n",
              "      fill: #1967D2;\n",
              "      height: 32px;\n",
              "      padding: 0 0 0 0;\n",
              "      width: 32px;\n",
              "    }\n",
              "\n",
              "    .colab-df-convert:hover {\n",
              "      background-color: #E2EBFA;\n",
              "      box-shadow: 0px 1px 2px rgba(60, 64, 67, 0.3), 0px 1px 3px 1px rgba(60, 64, 67, 0.15);\n",
              "      fill: #174EA6;\n",
              "    }\n",
              "\n",
              "    .colab-df-buttons div {\n",
              "      margin-bottom: 4px;\n",
              "    }\n",
              "\n",
              "    [theme=dark] .colab-df-convert {\n",
              "      background-color: #3B4455;\n",
              "      fill: #D2E3FC;\n",
              "    }\n",
              "\n",
              "    [theme=dark] .colab-df-convert:hover {\n",
              "      background-color: #434B5C;\n",
              "      box-shadow: 0px 1px 3px 1px rgba(0, 0, 0, 0.15);\n",
              "      filter: drop-shadow(0px 1px 2px rgba(0, 0, 0, 0.3));\n",
              "      fill: #FFFFFF;\n",
              "    }\n",
              "  </style>\n",
              "\n",
              "    <script>\n",
              "      const buttonEl =\n",
              "        document.querySelector('#df-c66295b9-d9ef-4a18-8482-3880b0a0d9d1 button.colab-df-convert');\n",
              "      buttonEl.style.display =\n",
              "        google.colab.kernel.accessAllowed ? 'block' : 'none';\n",
              "\n",
              "      async function convertToInteractive(key) {\n",
              "        const element = document.querySelector('#df-c66295b9-d9ef-4a18-8482-3880b0a0d9d1');\n",
              "        const dataTable =\n",
              "          await google.colab.kernel.invokeFunction('convertToInteractive',\n",
              "                                                    [key], {});\n",
              "        if (!dataTable) return;\n",
              "\n",
              "        const docLinkHtml = 'Like what you see? Visit the ' +\n",
              "          '<a target=\"_blank\" href=https://colab.research.google.com/notebooks/data_table.ipynb>data table notebook</a>'\n",
              "          + ' to learn more about interactive tables.';\n",
              "        element.innerHTML = '';\n",
              "        dataTable['output_type'] = 'display_data';\n",
              "        await google.colab.output.renderOutput(dataTable, element);\n",
              "        const docLink = document.createElement('div');\n",
              "        docLink.innerHTML = docLinkHtml;\n",
              "        element.appendChild(docLink);\n",
              "      }\n",
              "    </script>\n",
              "  </div>\n",
              "\n",
              "\n",
              "    <div id=\"df-7366869b-dd81-4c3a-97d3-71073bb8a4a4\">\n",
              "      <button class=\"colab-df-quickchart\" onclick=\"quickchart('df-7366869b-dd81-4c3a-97d3-71073bb8a4a4')\"\n",
              "                title=\"Suggest charts\"\n",
              "                style=\"display:none;\">\n",
              "\n",
              "<svg xmlns=\"http://www.w3.org/2000/svg\" height=\"24px\"viewBox=\"0 0 24 24\"\n",
              "     width=\"24px\">\n",
              "    <g>\n",
              "        <path d=\"M19 3H5c-1.1 0-2 .9-2 2v14c0 1.1.9 2 2 2h14c1.1 0 2-.9 2-2V5c0-1.1-.9-2-2-2zM9 17H7v-7h2v7zm4 0h-2V7h2v10zm4 0h-2v-4h2v4z\"/>\n",
              "    </g>\n",
              "</svg>\n",
              "      </button>\n",
              "\n",
              "<style>\n",
              "  .colab-df-quickchart {\n",
              "      --bg-color: #E8F0FE;\n",
              "      --fill-color: #1967D2;\n",
              "      --hover-bg-color: #E2EBFA;\n",
              "      --hover-fill-color: #174EA6;\n",
              "      --disabled-fill-color: #AAA;\n",
              "      --disabled-bg-color: #DDD;\n",
              "  }\n",
              "\n",
              "  [theme=dark] .colab-df-quickchart {\n",
              "      --bg-color: #3B4455;\n",
              "      --fill-color: #D2E3FC;\n",
              "      --hover-bg-color: #434B5C;\n",
              "      --hover-fill-color: #FFFFFF;\n",
              "      --disabled-bg-color: #3B4455;\n",
              "      --disabled-fill-color: #666;\n",
              "  }\n",
              "\n",
              "  .colab-df-quickchart {\n",
              "    background-color: var(--bg-color);\n",
              "    border: none;\n",
              "    border-radius: 50%;\n",
              "    cursor: pointer;\n",
              "    display: none;\n",
              "    fill: var(--fill-color);\n",
              "    height: 32px;\n",
              "    padding: 0;\n",
              "    width: 32px;\n",
              "  }\n",
              "\n",
              "  .colab-df-quickchart:hover {\n",
              "    background-color: var(--hover-bg-color);\n",
              "    box-shadow: 0 1px 2px rgba(60, 64, 67, 0.3), 0 1px 3px 1px rgba(60, 64, 67, 0.15);\n",
              "    fill: var(--button-hover-fill-color);\n",
              "  }\n",
              "\n",
              "  .colab-df-quickchart-complete:disabled,\n",
              "  .colab-df-quickchart-complete:disabled:hover {\n",
              "    background-color: var(--disabled-bg-color);\n",
              "    fill: var(--disabled-fill-color);\n",
              "    box-shadow: none;\n",
              "  }\n",
              "\n",
              "  .colab-df-spinner {\n",
              "    border: 2px solid var(--fill-color);\n",
              "    border-color: transparent;\n",
              "    border-bottom-color: var(--fill-color);\n",
              "    animation:\n",
              "      spin 1s steps(1) infinite;\n",
              "  }\n",
              "\n",
              "  @keyframes spin {\n",
              "    0% {\n",
              "      border-color: transparent;\n",
              "      border-bottom-color: var(--fill-color);\n",
              "      border-left-color: var(--fill-color);\n",
              "    }\n",
              "    20% {\n",
              "      border-color: transparent;\n",
              "      border-left-color: var(--fill-color);\n",
              "      border-top-color: var(--fill-color);\n",
              "    }\n",
              "    30% {\n",
              "      border-color: transparent;\n",
              "      border-left-color: var(--fill-color);\n",
              "      border-top-color: var(--fill-color);\n",
              "      border-right-color: var(--fill-color);\n",
              "    }\n",
              "    40% {\n",
              "      border-color: transparent;\n",
              "      border-right-color: var(--fill-color);\n",
              "      border-top-color: var(--fill-color);\n",
              "    }\n",
              "    60% {\n",
              "      border-color: transparent;\n",
              "      border-right-color: var(--fill-color);\n",
              "    }\n",
              "    80% {\n",
              "      border-color: transparent;\n",
              "      border-right-color: var(--fill-color);\n",
              "      border-bottom-color: var(--fill-color);\n",
              "    }\n",
              "    90% {\n",
              "      border-color: transparent;\n",
              "      border-bottom-color: var(--fill-color);\n",
              "    }\n",
              "  }\n",
              "</style>\n",
              "\n",
              "      <script>\n",
              "        async function quickchart(key) {\n",
              "          const quickchartButtonEl =\n",
              "            document.querySelector('#' + key + ' button');\n",
              "          quickchartButtonEl.disabled = true;  // To prevent multiple clicks.\n",
              "          quickchartButtonEl.classList.add('colab-df-spinner');\n",
              "          try {\n",
              "            const charts = await google.colab.kernel.invokeFunction(\n",
              "                'suggestCharts', [key], {});\n",
              "          } catch (error) {\n",
              "            console.error('Error during call to suggestCharts:', error);\n",
              "          }\n",
              "          quickchartButtonEl.classList.remove('colab-df-spinner');\n",
              "          quickchartButtonEl.classList.add('colab-df-quickchart-complete');\n",
              "        }\n",
              "        (() => {\n",
              "          let quickchartButtonEl =\n",
              "            document.querySelector('#df-7366869b-dd81-4c3a-97d3-71073bb8a4a4 button');\n",
              "          quickchartButtonEl.style.display =\n",
              "            google.colab.kernel.accessAllowed ? 'block' : 'none';\n",
              "        })();\n",
              "      </script>\n",
              "    </div>\n",
              "\n",
              "    </div>\n",
              "  </div>\n"
            ],
            "application/vnd.google.colaboratory.intrinsic+json": {
              "type": "dataframe",
              "summary": "{\n  \"name\": \"df_pazienti\",\n  \"rows\": 8,\n  \"fields\": [\n    {\n      \"column\": \"Et\\u00e0\",\n      \"properties\": {\n        \"dtype\": \"number\",\n        \"std\": 56.20524970896956,\n        \"min\": 9.31462350582547,\n        \"max\": 200.0,\n        \"num_unique_values\": 8,\n        \"samples\": [\n          64.04,\n          64.5,\n          200.0\n        ],\n        \"semantic_type\": \"\",\n        \"description\": \"\"\n      }\n    },\n    {\n      \"column\": \"Biomarcatore_A\",\n      \"properties\": {\n        \"dtype\": \"number\",\n        \"std\": 70.30511680393032,\n        \"min\": 0.1,\n        \"max\": 200.0,\n        \"num_unique_values\": 8,\n        \"samples\": [\n          1.1457575499955284,\n          0.9463576031453065,\n          200.0\n        ],\n        \"semantic_type\": \"\",\n        \"description\": \"\"\n      }\n    },\n    {\n      \"column\": \"Biomarcatore_B\",\n      \"properties\": {\n        \"dtype\": \"number\",\n        \"std\": 69.12871995799773,\n        \"min\": 0.1380989898963909,\n        \"max\": 200.0,\n        \"num_unique_values\": 8,\n        \"samples\": [\n          5.128802280348315,\n          5.118259023185036,\n          200.0\n        ],\n        \"semantic_type\": \"\",\n        \"description\": \"\"\n      }\n    },\n    {\n      \"column\": \"Malattia_Presente\",\n      \"properties\": {\n        \"dtype\": \"number\",\n        \"std\": 70.5729003738704,\n        \"min\": 0.0,\n        \"max\": 200.0,\n        \"num_unique_values\": 5,\n        \"samples\": [\n          0.295,\n          1.0,\n          0.4571871613491704\n        ],\n        \"semantic_type\": \"\",\n        \"description\": \"\"\n      }\n    }\n  ]\n}"
            }
          },
          "metadata": {},
          "execution_count": 40
        }
      ]
    },
    {
      "cell_type": "markdown",
      "source": [
        "#### Passo 1: Analisi Esplorativa\n",
        "\n",
        "Procediamo con l'analisi dei dati per avere un'idea di eventuali comportamenti che il nostro modello potrebbe/dovrebbe imparare a riconoscere. Partiamo quindi con un analisi delle distribuzioni, correlazioni e relazioni tra le variabili."
      ],
      "metadata": {
        "id": "g7_8zG4zCfIO"
      }
    },
    {
      "cell_type": "markdown",
      "source": [
        "##### 1.1: Analisi distribuzioni"
      ],
      "metadata": {
        "id": "iSshBUHFFDTg"
      }
    },
    {
      "cell_type": "markdown",
      "source": [
        "**Età**"
      ],
      "metadata": {
        "id": "C0O6f1lvCkyu"
      }
    },
    {
      "cell_type": "code",
      "source": [
        "plt.figure(figsize=(8, 5))\n",
        "sns.histplot(df_pazienti['Età'], bins=15, kde=True) # kde=True aggiunge una stima della densità\n",
        "plt.title('Distribuzione dell\\'Età dei Pazienti')\n",
        "plt.xlabel('Età (anni)')\n",
        "plt.ylabel('Frequenza')\n",
        "plt.grid(True)\n",
        "plt.show()"
      ],
      "metadata": {
        "colab": {
          "base_uri": "https://localhost:8080/",
          "height": 506
        },
        "id": "sd8ytVusCe6-",
        "outputId": "87b831fc-43e1-4a5a-9bc1-150f911938de"
      },
      "execution_count": 41,
      "outputs": [
        {
          "output_type": "display_data",
          "data": {
            "text/plain": [
              "<Figure size 800x500 with 1 Axes>"
            ],
            "image/png": "[encoded data removed]"
          },
          "metadata": {}
        }
      ]
    },
    {
      "cell_type": "markdown",
      "source": [
        "**Biomarcatore A e B**"
      ],
      "metadata": {
        "id": "tevHPeCRCy6o"
      }
    },
    {
      "cell_type": "code",
      "source": [
        "plt.figure(figsize=(8, 5))\n",
        "sns.histplot(df_pazienti['Biomarcatore_A'], bins=15, kde=True, color='skyblue')\n",
        "plt.title('Distribuzione del Biomarcatore A')\n",
        "plt.xlabel('Valore Biomarcatore A')\n",
        "plt.ylabel('Frequenza')\n",
        "plt.grid(True)\n",
        "plt.show()\n",
        "\n",
        "## Biomarker B\n",
        "\n",
        "plt.figure(figsize=(8, 5))\n",
        "sns.histplot(df_pazienti['Biomarcatore_B'], bins=15, kde=True, color='lightcoral')\n",
        "plt.title('Distribuzione del Biomarcatore B (Neutro)')\n",
        "plt.xlabel('Valore Biomarcatore B')\n",
        "plt.ylabel('Frequenza')\n",
        "plt.grid(True)\n",
        "plt.show()"
      ],
      "metadata": {
        "colab": {
          "base_uri": "https://localhost:8080/",
          "height": 973
        },
        "id": "aeqNAoBpCypL",
        "outputId": "8e7d285b-3bef-47b0-a013-bc018ffb9622"
      },
      "execution_count": 42,
      "outputs": [
        {
          "output_type": "display_data",
          "data": {
            "text/plain": [
              "<Figure size 800x500 with 1 Axes>"
            ],
            "image/png": "[encoded data removed]"
          },
          "metadata": {}
        },
        {
          "output_type": "display_data",
          "data": {
            "text/plain": [
              "<Figure size 800x500 with 1 Axes>"
            ],
            "image/png": "[encoded data removed]"
          },
          "metadata": {}
        }
      ]
    },
    {
      "cell_type": "markdown",
      "source": [
        "**Distribuzione della Malattia (Sano vs Malato)**"
      ],
      "metadata": {
        "id": "VbULSiqxFJU6"
      }
    },
    {
      "cell_type": "code",
      "source": [
        "plt.figure(figsize=(6, 4))\n",
        "sns.countplot(x='Malattia_Presente', data=df_pazienti, palette='viridis')\n",
        "plt.title('Distribuzione della Malattia Presente')\n",
        "plt.xlabel('Stato di Malattia (0=Sano, 1=Malato)')\n",
        "plt.ylabel('Conteggio Pazienti')\n",
        "plt.xticks([0, 1], ['Sano', 'Malato']) # Rende le etichette più chiare\n",
        "plt.grid(axis='y', linestyle='--', alpha=0.7)\n",
        "plt.show()"
      ],
      "metadata": {
        "colab": {
          "base_uri": "https://localhost:8080/",
          "height": 511
        },
        "id": "JSf2G5JPCyT1",
        "outputId": "95c20f05-ed1c-4ce8-a6fd-42884b001c97"
      },
      "execution_count": 43,
      "outputs": [
        {
          "output_type": "stream",
          "name": "stderr",
          "text": [
            "/tmp/ipython-input-43-944926495.py:2: FutureWarning: \n",
            "\n",
            "Passing `palette` without assigning `hue` is deprecated and will be removed in v0.14.0. Assign the `x` variable to `hue` and set `legend=False` for the same effect.\n",
            "\n",
            "  sns.countplot(x='Malattia_Presente', data=df_pazienti, palette='viridis')\n"
          ]
        },
        {
          "output_type": "display_data",
          "data": {
            "text/plain": [
              "<Figure size 600x400 with 1 Axes>"
            ],
            "image/png": "[encoded data removed]"
          },
          "metadata": {}
        }
      ]
    },
    {
      "cell_type": "markdown",
      "source": [
        "##### 1.2: Relazioni tra Variabili e Target\n",
        "\n",
        "Vediamo come le nostre \"features\" (Età, Biomarcatori) si relazionano con la variabile \"target\" (Malattia_Presente). Questo ci dà un'idea preliminare di quali features potrebbero essere più utili per il modello.\n",
        "\n"
      ],
      "metadata": {
        "id": "-ghGTH6aFZRi"
      }
    },
    {
      "cell_type": "markdown",
      "source": [
        "**Biomarcatore A vs Malattia Presente**"
      ],
      "metadata": {
        "id": "7WQbHfOVFiSj"
      }
    },
    {
      "cell_type": "code",
      "source": [
        "plt.figure(figsize=(8, 5))\n",
        "sns.boxplot(x='Malattia_Presente', y='Biomarcatore_A', data=df_pazienti, palette='pastel')\n",
        "plt.title('Biomarcatore A in base allo Stato di Malattia')\n",
        "plt.xlabel('Stato di Malattia (0=Sano, 1=Malato)')\n",
        "plt.ylabel('Valore Biomarcatore A')\n",
        "plt.xticks([0, 1], ['Sano', 'Malato'])\n",
        "plt.grid(True)\n",
        "plt.show()\n",
        "# Spiegazione: Ci aspettiamo di vedere valori medi più alti di Biomarcatore A per i pazienti Malati (1)\n",
        "# e valori più bassi per i Sani (0), confermando la correlazione positiva.\n",
        "\n",
        "\n",
        "\n",
        "# Spiegazione: il marcatore B dovrebbe avre un impatto neutro\n",
        "sns.boxplot(x='Malattia_Presente', y='Biomarcatore_B', data=df_pazienti, palette='pastel')\n",
        "plt.title('Biomarcatore B in base allo Stato di Malattia')\n",
        "plt.xlabel('Stato di Malattia (0=Sano, 1=Malato)')\n",
        "plt.ylabel('Valore Biomarcatore B')\n",
        "plt.xticks([0, 1], ['Sano', 'Malato'])\n",
        "plt.grid(True)\n",
        "plt.show()"
      ],
      "metadata": {
        "colab": {
          "base_uri": "https://localhost:8080/",
          "height": 1000
        },
        "id": "vvHBe7iZFZIF",
        "outputId": "30126bd8-df8e-457e-84e4-b3ea955b0b6f"
      },
      "execution_count": 44,
      "outputs": [
        {
          "output_type": "stream",
          "name": "stderr",
          "text": [
            "/tmp/ipython-input-44-2109664919.py:2: FutureWarning: \n",
            "\n",
            "Passing `palette` without assigning `hue` is deprecated and will be removed in v0.14.0. Assign the `x` variable to `hue` and set `legend=False` for the same effect.\n",
            "\n",
            "  sns.boxplot(x='Malattia_Presente', y='Biomarcatore_A', data=df_pazienti, palette='pastel')\n"
          ]
        },
        {
          "output_type": "display_data",
          "data": {
            "text/plain": [
              "<Figure size 800x500 with 1 Axes>"
            ],
            "image/png": "[encoded data removed]"
          },
          "metadata": {}
        },
        {
          "output_type": "stream",
          "name": "stderr",
          "text": [
            "/tmp/ipython-input-44-2109664919.py:15: FutureWarning: \n",
            "\n",
            "Passing `palette` without assigning `hue` is deprecated and will be removed in v0.14.0. Assign the `x` variable to `hue` and set `legend=False` for the same effect.\n",
            "\n",
            "  sns.boxplot(x='Malattia_Presente', y='Biomarcatore_B', data=df_pazienti, palette='pastel')\n"
          ]
        },
        {
          "output_type": "display_data",
          "data": {
            "text/plain": [
              "<Figure size 640x480 with 1 Axes>"
            ],
            "image/png": "[encoded data removed]"
          },
          "metadata": {}
        }
      ]
    },
    {
      "cell_type": "markdown",
      "source": [
        "**Età vs Malattia Presente**\n",
        "\n",
        "Ricordiamo che l'età dovrebbe avere una correlazione negativa con Malattia_Presente (più anziani, più probabilità di essere Sani)."
      ],
      "metadata": {
        "id": "MGA27gZqFxIi"
      }
    },
    {
      "cell_type": "code",
      "source": [
        "plt.figure(figsize=(8, 5))\n",
        "sns.boxplot(x='Malattia_Presente', y='Età', data=df_pazienti, palette='coolwarm')\n",
        "plt.title('Età in base allo Stato di Malattia')\n",
        "plt.xlabel('Stato di Malattia (0=Sano, 1=Malato)')\n",
        "plt.ylabel('Età (anni)')\n",
        "plt.xticks([0, 1], ['Sano', 'Malato'])\n",
        "plt.grid(True)\n",
        "plt.show()\n",
        "# Spiegazione: Ci aspettiamo di vedere un'età media più alta per i pazienti Sani (0)\n",
        "# e più bassa per i Malati (1), confermando la correlazione negativa."
      ],
      "metadata": {
        "colab": {
          "base_uri": "https://localhost:8080/",
          "height": 588
        },
        "id": "9MadpX7zFZFe",
        "outputId": "c6c5b1ad-e370-4ab4-e542-c6ebe56dd21e"
      },
      "execution_count": 45,
      "outputs": [
        {
          "output_type": "stream",
          "name": "stderr",
          "text": [
            "/tmp/ipython-input-45-759252338.py:2: FutureWarning: \n",
            "\n",
            "Passing `palette` without assigning `hue` is deprecated and will be removed in v0.14.0. Assign the `x` variable to `hue` and set `legend=False` for the same effect.\n",
            "\n",
            "  sns.boxplot(x='Malattia_Presente', y='Età', data=df_pazienti, palette='coolwarm')\n"
          ]
        },
        {
          "output_type": "display_data",
          "data": {
            "text/plain": [
              "<Figure size 800x500 with 1 Axes>"
            ],
            "image/png": "[encoded data removed]"
          },
          "metadata": {}
        }
      ]
    },
    {
      "cell_type": "markdown",
      "source": [
        "**Esempio di scatterplot**"
      ],
      "metadata": {
        "id": "BXd-4klxHDp1"
      }
    },
    {
      "cell_type": "code",
      "source": [
        "plt.figure(figsize=(10, 7))\n",
        "sns.scatterplot(x='Biomarcatore_A', y='Biomarcatore_B', hue='Malattia_Presente', data=df_pazienti,\n",
        "                palette='viridis', s=100, alpha=0.7)\n",
        "plt.title('Relazione tra Biomarcatori A e B, colorata per Stato di Malattia')\n",
        "plt.xlabel('Biomarcatore A')\n",
        "plt.ylabel('Biomarcatore B')\n",
        "plt.legend(title='Stato Malattia', labels=['Sano', 'Malato'])\n",
        "plt.grid(True)\n",
        "plt.show()\n",
        "# Spiegazione: Questo grafico ci aiuta a visualizzare se le classi (Sano/Malato)\n",
        "# sono separabili visivamente nello spazio dei biomarcatori.\n",
        "# Dovremmo vedere i punti 'Malato' raggruppati verso valori più alti di Biomarcatore A,\n",
        "# mentre Biomarcatore B è più disperso per entrambe le classi."
      ],
      "metadata": {
        "colab": {
          "base_uri": "https://localhost:8080/",
          "height": 660
        },
        "id": "lPaKZX1dFZBV",
        "outputId": "b8e6bcd9-cfa9-45fb-f6a4-2f07f8f004c4"
      },
      "execution_count": 46,
      "outputs": [
        {
          "output_type": "display_data",
          "data": {
            "text/plain": [
              "<Figure size 1000x700 with 1 Axes>"
            ],
            "image/png": "[encoded data removed]"
          },
          "metadata": {}
        }
      ]
    },
    {
      "cell_type": "markdown",
      "source": [
        "##### 1.3: Matrice di Correlazione\n",
        "\n",
        "La matrice di correlazione ci mostra le relazioni lineari tra tutte le coppie di variabili numeriche nel nostro dataset. I valori vanno da -1 (perfetta correlazione negativa) a +1 (perfetta correlazione positiva), con 0 che indica assenza di correlazione lineare"
      ],
      "metadata": {
        "id": "I2SQGK_sHGc_"
      }
    },
    {
      "cell_type": "code",
      "source": [
        "plt.figure(figsize=(9, 7))\n",
        "correlation_matrix = df_pazienti.corr()\n",
        "sns.heatmap(correlation_matrix, annot=True, cmap='coolwarm', fmt=\".2f\", linewidths=.5)\n",
        "plt.title('Matrice di Correlazione tra le Variabili')\n",
        "plt.show()\n",
        "# Spiegazione:\n",
        "# - Cerca valori vicini a 1 o -1 (correlazioni forti).\n",
        "# - I valori diagonali sono sempre 1 (una variabile è perfettamente correlata con se stessa).\n",
        "# - Verranno confermate le correlazioni tra Biomarcatore_A e Malattia_Presente (positivo),\n",
        "#   e tra Età e Malattia_Presente (negativo), mentre Biomarcatore_B sarà vicino a zero."
      ],
      "metadata": {
        "colab": {
          "base_uri": "https://localhost:8080/",
          "height": 640
        },
        "id": "OElbBkAEHLCP",
        "outputId": "1d34f696-c103-4b92-cf54-240207a47174"
      },
      "execution_count": 47,
      "outputs": [
        {
          "output_type": "display_data",
          "data": {
            "text/plain": [
              "<Figure size 900x700 with 2 Axes>"
            ],
            "image/png": "[encoded data removed]"
          },
          "metadata": {}
        }
      ]
    },
    {
      "cell_type": "markdown",
      "source": [
        "Questa matrice conferma quanto sopra ipotizzato qualitativamente"
      ],
      "metadata": {
        "id": "UapFPDcpHGUa"
      }
    },
    {
      "cell_type": "markdown",
      "source": [
        "#### Passo 2: Preparazione e Divisione del Dataset (Training e Test)\n",
        "\n",
        "Prima di addestrare un modello, è fondamentale dividere il nostro dataset in due parti:\n",
        "\n",
        "_Dataset di Training_ (Addestramento): La parte dei dati che il modello \"vedrà\" e da cui imparerà i pattern.\n",
        "\n",
        "_Dataset di Test_: Una parte dei dati che il modello non ha mai visto durante l'addestramento. Verrà usata solo alla fine per valutare quanto bene il modello generalizza a nuovi dati reali. Questo è cruciale per capire se il nostro \"medico AI\" è davvero competente o se ha semplicemente \"imparato a memoria\" i casi che ha già visto.\n",
        "\n",
        "Useremo la libreria scikit-learn, uno standard de facto per il Machine Learning in Python, per questa operazione."
      ],
      "metadata": {
        "id": "9Vx1J41VeLJt"
      }
    },
    {
      "cell_type": "code",
      "source": [
        "from sklearn.model_selection import train_test_split\n",
        "\n",
        "# Definiamo le FEATURES (i dati di input che useremo per predire)\n",
        "# In questo caso: 'Età', 'Biomarcatore_A', 'Biomarcatore_B'\n",
        "features = df_pazienti[['Età', 'Biomarcatore_A', 'Biomarcatore_B']]\n",
        "\n",
        "# Definiamo la TARGET (ciò che vogliamo predire)\n",
        "# In questo caso: 'Malattia_Presente'\n",
        "target = df_pazienti['Malattia_Presente']\n",
        "\n",
        "# Dividiamo il dataset in training e test\n",
        "test_size=0.3 # @param  - significa che il 30% dei dati andrà nel set di test\n",
        "random_state=42 # @param - assicura che la divisione sia sempre la stessa ogni volta che eseguiamo il codice (riproducibilità)\n",
        "X_train, X_test, y_train, y_test = train_test_split(features, target, test_size=test_size, random_state=random_state)\n",
        "\n",
        "print(\"\\nDataset diviso in Training e Test:\")\n",
        "print(f\"Dimensioni X_train (Features di training): {X_train.shape}\")\n",
        "print(f\"Dimensioni y_train (Target di training): {y_train.shape}\")\n",
        "print(f\"Dimensioni X_test (Features di test): {X_test.shape}\")\n",
        "print(f\"Dimensioni y_test (Target di test): {y_test.shape}\")"
      ],
      "metadata": {
        "colab": {
          "base_uri": "https://localhost:8080/"
        },
        "id": "YvQH6EOIePQ_",
        "outputId": "950c2cf8-2ce4-42ed-8631-e2f0951af680"
      },
      "execution_count": 48,
      "outputs": [
        {
          "output_type": "stream",
          "name": "stdout",
          "text": [
            "\n",
            "Dataset diviso in Training e Test:\n",
            "Dimensioni X_train (Features di training): (140, 3)\n",
            "Dimensioni y_train (Target di training): (140,)\n",
            "Dimensioni X_test (Features di test): (60, 3)\n",
            "Dimensioni y_test (Target di test): (60,)\n"
          ]
        }
      ]
    },
    {
      "cell_type": "markdown",
      "source": [
        "#### Passo 3: Addestramento del Modello (Training)\n",
        "\n",
        "Ora che abbiamo i dati preparati, possiamo scegliere un algoritmo di Machine Learning e usarlo per addestrare il nostro modello sul set di training. Useremo un semplice ma efficace algoritmo chiamato \"Regressione Logistica\", spesso usato per problemi di classificazione (es. sì/no, malato/sano)."
      ],
      "metadata": {
        "id": "UCZ69ObxeW1m"
      }
    },
    {
      "cell_type": "code",
      "source": [
        "from sklearn.linear_model import LogisticRegression\n",
        "\n",
        "# Scegliamo il nostro ALGORITMO: Regressione Logistica\n",
        "# Questo è l'algoritmo che userà i dati per imparare\n",
        "modello_classificatore = LogisticRegression(random_state=42, max_iter=5, )\n",
        "\n",
        "# ADDESTRAMENTO del MODELLO\n",
        "# Qui l'algoritmo impara dai dati di training (X_train) e dalle risposte corrette (y_train)\n",
        "print(\"\\nInizio addestramento del modello...\")\n",
        "modello_classificatore.fit(X_train, y_train)\n",
        "print(\"Addestramento del modello completato!\")\n",
        "# Ora 'modello_classificatore' è il nostro MODELLO ADDETRATO!"
      ],
      "metadata": {
        "colab": {
          "base_uri": "https://localhost:8080/"
        },
        "id": "w27PjpbRecki",
        "outputId": "5ec9fbbb-afa3-4922-e9e2-5adbd2eb4e0a"
      },
      "execution_count": 49,
      "outputs": [
        {
          "output_type": "stream",
          "name": "stdout",
          "text": [
            "\n",
            "Inizio addestramento del modello...\n",
            "Addestramento del modello completato!\n"
          ]
        },
        {
          "output_type": "stream",
          "name": "stderr",
          "text": [
            "/usr/local/lib/python3.11/dist-packages/sklearn/linear_model/_logistic.py:465: ConvergenceWarning: lbfgs failed to converge (status=1):\n",
            "STOP: TOTAL NO. OF ITERATIONS REACHED LIMIT.\n",
            "\n",
            "Increase the number of iterations (max_iter) or scale the data as shown in:\n",
            "    https://scikit-learn.org/stable/modules/preprocessing.html\n",
            "Please also refer to the documentation for alternative solver options:\n",
            "    https://scikit-learn.org/stable/modules/linear_model.html#logistic-regression\n",
            "  n_iter_i = _check_optimize_result(\n"
          ]
        }
      ]
    },
    {
      "cell_type": "markdown",
      "source": [
        "#### Passo 4: Valutazione del Modello (Test)\n",
        "\n",
        "Dopo l'addestramento, dobbiamo verificare quanto bene il nostro modello si comporta su dati che non ha mai visto.\n",
        "\n",
        "Alcune metriche di valutazione dei risultati possono essere:\n",
        "\n",
        "- _Accuratezza_: Quante volte il modello ha indovinato correttamente (sia sano che malato)\n",
        "- _Precisione_: Di tutte le volte che il modello ha detto \"Malato\", quante erano *veramente* malate?\n",
        "- _Recall_: Di tutte le persone *veramente* malate, quante sono state identificate dal modello? Solitmente usata nei triage\n",
        "\n",
        "Usiamo il dataset di test per simulare come si comporterebbe il modello su nuovi pazienti."
      ],
      "metadata": {
        "id": "Y1lFa8FWehmr"
      }
    },
    {
      "cell_type": "code",
      "source": [
        "from sklearn.metrics import accuracy_score, classification_report, recall_score, f1_score\n",
        "\n",
        "# Facciamo previsioni sul dataset di TEST\n",
        "# Il modello_classificatore ora prende i dati di test (X_test) e predice y_pred (le sue risposte)\n",
        "y_pred = modello_classificatore.predict(X_test)\n",
        "\n",
        "print(\"\\nPrevisioni del modello sul set di test:\")\n",
        "\n",
        "result = pd.DataFrame({'Predicted': y_pred,\n",
        "                       'Real': y_test.values})\n",
        "\n",
        "# Valutiamo l'accuratezza del modello\n",
        "# L'accuratezza è la percentuale di previsioni corrette sul set di test\n",
        "accuratezza = accuracy_score(y_test, y_pred)\n",
        "print(f\"\\nAccuratezza del modello sul set di test: {accuratezza:.2f}\")\n",
        "result.head(10)\n"
      ],
      "metadata": {
        "colab": {
          "base_uri": "https://localhost:8080/",
          "height": 440
        },
        "id": "usTBTNzMekOI",
        "outputId": "afd9f1f9-3c98-413f-de23-984a6b405297"
      },
      "execution_count": 50,
      "outputs": [
        {
          "output_type": "stream",
          "name": "stdout",
          "text": [
            "\n",
            "Previsioni del modello sul set di test:\n",
            "\n",
            "Accuratezza del modello sul set di test: 0.62\n"
          ]
        },
        {
          "output_type": "execute_result",
          "data": {
            "text/plain": [
              "   Predicted  Real\n",
              "0          0     1\n",
              "1          0     0\n",
              "2          0     1\n",
              "3          0     0\n",
              "4          0     0\n",
              "5          0     0\n",
              "6          0     1\n",
              "7          0     1\n",
              "8          0     1\n",
              "9          0     1"
            ],
            "text/html": [
              "\n",
              "  <div id=\"df-0847e39e-d3a6-4ade-b3b4-a40f9b971650\" class=\"colab-df-container\">\n",
              "    <div>\n",
              "<style scoped>\n",
              "    .dataframe tbody tr th:only-of-type {\n",
              "        vertical-align: middle;\n",
              "    }\n",
              "\n",
              "    .dataframe tbody tr th {\n",
              "        vertical-align: top;\n",
              "    }\n",
              "\n",
              "    .dataframe thead th {\n",
              "        text-align: right;\n",
              "    }\n",
              "</style>\n",
              "<table border=\"1\" class=\"dataframe\">\n",
              "  <thead>\n",
              "    <tr style=\"text-align: right;\">\n",
              "      <th></th>\n",
              "      <th>Predicted</th>\n",
              "      <th>Real</th>\n",
              "    </tr>\n",
              "  </thead>\n",
              "  <tbody>\n",
              "    <tr>\n",
              "      <th>0</th>\n",
              "      <td>0</td>\n",
              "      <td>1</td>\n",
              "    </tr>\n",
              "    <tr>\n",
              "      <th>1</th>\n",
              "      <td>0</td>\n",
              "      <td>0</td>\n",
              "    </tr>\n",
              "    <tr>\n",
              "      <th>2</th>\n",
              "      <td>0</td>\n",
              "      <td>1</td>\n",
              "    </tr>\n",
              "    <tr>\n",
              "      <th>3</th>\n",
              "      <td>0</td>\n",
              "      <td>0</td>\n",
              "    </tr>\n",
              "    <tr>\n",
              "      <th>4</th>\n",
              "      <td>0</td>\n",
              "      <td>0</td>\n",
              "    </tr>\n",
              "    <tr>\n",
              "      <th>5</th>\n",
              "      <td>0</td>\n",
              "      <td>0</td>\n",
              "    </tr>\n",
              "    <tr>\n",
              "      <th>6</th>\n",
              "      <td>0</td>\n",
              "      <td>1</td>\n",
              "    </tr>\n",
              "    <tr>\n",
              "      <th>7</th>\n",
              "      <td>0</td>\n",
              "      <td>1</td>\n",
              "    </tr>\n",
              "    <tr>\n",
              "      <th>8</th>\n",
              "      <td>0</td>\n",
              "      <td>1</td>\n",
              "    </tr>\n",
              "    <tr>\n",
              "      <th>9</th>\n",
              "      <td>0</td>\n",
              "      <td>1</td>\n",
              "    </tr>\n",
              "  </tbody>\n",
              "</table>\n",
              "</div>\n",
              "    <div class=\"colab-df-buttons\">\n",
              "\n",
              "  <div class=\"colab-df-container\">\n",
              "    <button class=\"colab-df-convert\" onclick=\"convertToInteractive('df-0847e39e-d3a6-4ade-b3b4-a40f9b971650')\"\n",
              "            title=\"Convert this dataframe to an interactive table.\"\n",
              "            style=\"display:none;\">\n",
              "\n",
              "  <svg xmlns=\"http://www.w3.org/2000/svg\" height=\"24px\" viewBox=\"0 -960 960 960\">\n",
              "    <path d=\"M120-120v-720h720v720H120Zm60-500h600v-160H180v160Zm220 220h160v-160H400v160Zm0 220h160v-160H400v160ZM180-400h160v-160H180v160Zm440 0h160v-160H620v160ZM180-180h160v-160H180v160Zm440 0h160v-160H620v160Z\"/>\n",
              "  </svg>\n",
              "    </button>\n",
              "\n",
              "  <style>\n",
              "    .colab-df-container {\n",
              "      display:flex;\n",
              "      gap: 12px;\n",
              "    }\n",
              "\n",
              "    .colab-df-convert {\n",
              "      background-color: #E8F0FE;\n",
              "      border: none;\n",
              "      border-radius: 50%;\n",
              "      cursor: pointer;\n",
              "      display: none;\n",
              "      fill: #1967D2;\n",
              "      height: 32px;\n",
              "      padding: 0 0 0 0;\n",
              "      width: 32px;\n",
              "    }\n",
              "\n",
              "    .colab-df-convert:hover {\n",
              "      background-color: #E2EBFA;\n",
              "      box-shadow: 0px 1px 2px rgba(60, 64, 67, 0.3), 0px 1px 3px 1px rgba(60, 64, 67, 0.15);\n",
              "      fill: #174EA6;\n",
              "    }\n",
              "\n",
              "    .colab-df-buttons div {\n",
              "      margin-bottom: 4px;\n",
              "    }\n",
              "\n",
              "    [theme=dark] .colab-df-convert {\n",
              "      background-color: #3B4455;\n",
              "      fill: #D2E3FC;\n",
              "    }\n",
              "\n",
              "    [theme=dark] .colab-df-convert:hover {\n",
              "      background-color: #434B5C;\n",
              "      box-shadow: 0px 1px 3px 1px rgba(0, 0, 0, 0.15);\n",
              "      filter: drop-shadow(0px 1px 2px rgba(0, 0, 0, 0.3));\n",
              "      fill: #FFFFFF;\n",
              "    }\n",
              "  </style>\n",
              "\n",
              "    <script>\n",
              "      const buttonEl =\n",
              "        document.querySelector('#df-0847e39e-d3a6-4ade-b3b4-a40f9b971650 button.colab-df-convert');\n",
              "      buttonEl.style.display =\n",
              "        google.colab.kernel.accessAllowed ? 'block' : 'none';\n",
              "\n",
              "      async function convertToInteractive(key) {\n",
              "        const element = document.querySelector('#df-0847e39e-d3a6-4ade-b3b4-a40f9b971650');\n",
              "        const dataTable =\n",
              "          await google.colab.kernel.invokeFunction('convertToInteractive',\n",
              "                                                    [key], {});\n",
              "        if (!dataTable) return;\n",
              "\n",
              "        const docLinkHtml = 'Like what you see? Visit the ' +\n",
              "          '<a target=\"_blank\" href=https://colab.research.google.com/notebooks/data_table.ipynb>data table notebook</a>'\n",
              "          + ' to learn more about interactive tables.';\n",
              "        element.innerHTML = '';\n",
              "        dataTable['output_type'] = 'display_data';\n",
              "        await google.colab.output.renderOutput(dataTable, element);\n",
              "        const docLink = document.createElement('div');\n",
              "        docLink.innerHTML = docLinkHtml;\n",
              "        element.appendChild(docLink);\n",
              "      }\n",
              "    </script>\n",
              "  </div>\n",
              "\n",
              "\n",
              "    <div id=\"df-2cc73c46-9265-461a-b773-32dbe6f4352b\">\n",
              "      <button class=\"colab-df-quickchart\" onclick=\"quickchart('df-2cc73c46-9265-461a-b773-32dbe6f4352b')\"\n",
              "                title=\"Suggest charts\"\n",
              "                style=\"display:none;\">\n",
              "\n",
              "<svg xmlns=\"http://www.w3.org/2000/svg\" height=\"24px\"viewBox=\"0 0 24 24\"\n",
              "     width=\"24px\">\n",
              "    <g>\n",
              "        <path d=\"M19 3H5c-1.1 0-2 .9-2 2v14c0 1.1.9 2 2 2h14c1.1 0 2-.9 2-2V5c0-1.1-.9-2-2-2zM9 17H7v-7h2v7zm4 0h-2V7h2v10zm4 0h-2v-4h2v4z\"/>\n",
              "    </g>\n",
              "</svg>\n",
              "      </button>\n",
              "\n",
              "<style>\n",
              "  .colab-df-quickchart {\n",
              "      --bg-color: #E8F0FE;\n",
              "      --fill-color: #1967D2;\n",
              "      --hover-bg-color: #E2EBFA;\n",
              "      --hover-fill-color: #174EA6;\n",
              "      --disabled-fill-color: #AAA;\n",
              "      --disabled-bg-color: #DDD;\n",
              "  }\n",
              "\n",
              "  [theme=dark] .colab-df-quickchart {\n",
              "      --bg-color: #3B4455;\n",
              "      --fill-color: #D2E3FC;\n",
              "      --hover-bg-color: #434B5C;\n",
              "      --hover-fill-color: #FFFFFF;\n",
              "      --disabled-bg-color: #3B4455;\n",
              "      --disabled-fill-color: #666;\n",
              "  }\n",
              "\n",
              "  .colab-df-quickchart {\n",
              "    background-color: var(--bg-color);\n",
              "    border: none;\n",
              "    border-radius: 50%;\n",
              "    cursor: pointer;\n",
              "    display: none;\n",
              "    fill: var(--fill-color);\n",
              "    height: 32px;\n",
              "    padding: 0;\n",
              "    width: 32px;\n",
              "  }\n",
              "\n",
              "  .colab-df-quickchart:hover {\n",
              "    background-color: var(--hover-bg-color);\n",
              "    box-shadow: 0 1px 2px rgba(60, 64, 67, 0.3), 0 1px 3px 1px rgba(60, 64, 67, 0.15);\n",
              "    fill: var(--button-hover-fill-color);\n",
              "  }\n",
              "\n",
              "  .colab-df-quickchart-complete:disabled,\n",
              "  .colab-df-quickchart-complete:disabled:hover {\n",
              "    background-color: var(--disabled-bg-color);\n",
              "    fill: var(--disabled-fill-color);\n",
              "    box-shadow: none;\n",
              "  }\n",
              "\n",
              "  .colab-df-spinner {\n",
              "    border: 2px solid var(--fill-color);\n",
              "    border-color: transparent;\n",
              "    border-bottom-color: var(--fill-color);\n",
              "    animation:\n",
              "      spin 1s steps(1) infinite;\n",
              "  }\n",
              "\n",
              "  @keyframes spin {\n",
              "    0% {\n",
              "      border-color: transparent;\n",
              "      border-bottom-color: var(--fill-color);\n",
              "      border-left-color: var(--fill-color);\n",
              "    }\n",
              "    20% {\n",
              "      border-color: transparent;\n",
              "      border-left-color: var(--fill-color);\n",
              "      border-top-color: var(--fill-color);\n",
              "    }\n",
              "    30% {\n",
              "      border-color: transparent;\n",
              "      border-left-color: var(--fill-color);\n",
              "      border-top-color: var(--fill-color);\n",
              "      border-right-color: var(--fill-color);\n",
              "    }\n",
              "    40% {\n",
              "      border-color: transparent;\n",
              "      border-right-color: var(--fill-color);\n",
              "      border-top-color: var(--fill-color);\n",
              "    }\n",
              "    60% {\n",
              "      border-color: transparent;\n",
              "      border-right-color: var(--fill-color);\n",
              "    }\n",
              "    80% {\n",
              "      border-color: transparent;\n",
              "      border-right-color: var(--fill-color);\n",
              "      border-bottom-color: var(--fill-color);\n",
              "    }\n",
              "    90% {\n",
              "      border-color: transparent;\n",
              "      border-bottom-color: var(--fill-color);\n",
              "    }\n",
              "  }\n",
              "</style>\n",
              "\n",
              "      <script>\n",
              "        async function quickchart(key) {\n",
              "          const quickchartButtonEl =\n",
              "            document.querySelector('#' + key + ' button');\n",
              "          quickchartButtonEl.disabled = true;  // To prevent multiple clicks.\n",
              "          quickchartButtonEl.classList.add('colab-df-spinner');\n",
              "          try {\n",
              "            const charts = await google.colab.kernel.invokeFunction(\n",
              "                'suggestCharts', [key], {});\n",
              "          } catch (error) {\n",
              "            console.error('Error during call to suggestCharts:', error);\n",
              "          }\n",
              "          quickchartButtonEl.classList.remove('colab-df-spinner');\n",
              "          quickchartButtonEl.classList.add('colab-df-quickchart-complete');\n",
              "        }\n",
              "        (() => {\n",
              "          let quickchartButtonEl =\n",
              "            document.querySelector('#df-2cc73c46-9265-461a-b773-32dbe6f4352b button');\n",
              "          quickchartButtonEl.style.display =\n",
              "            google.colab.kernel.accessAllowed ? 'block' : 'none';\n",
              "        })();\n",
              "      </script>\n",
              "    </div>\n",
              "\n",
              "    </div>\n",
              "  </div>\n"
            ],
            "application/vnd.google.colaboratory.intrinsic+json": {
              "type": "dataframe",
              "variable_name": "result",
              "summary": "{\n  \"name\": \"result\",\n  \"rows\": 60,\n  \"fields\": [\n    {\n      \"column\": \"Predicted\",\n      \"properties\": {\n        \"dtype\": \"number\",\n        \"std\": 0,\n        \"min\": 0,\n        \"max\": 0,\n        \"num_unique_values\": 1,\n        \"samples\": [\n          0\n        ],\n        \"semantic_type\": \"\",\n        \"description\": \"\"\n      }\n    },\n    {\n      \"column\": \"Real\",\n      \"properties\": {\n        \"dtype\": \"number\",\n        \"std\": 0,\n        \"min\": 0,\n        \"max\": 1,\n        \"num_unique_values\": 2,\n        \"samples\": [\n          0\n        ],\n        \"semantic_type\": \"\",\n        \"description\": \"\"\n      }\n    }\n  ]\n}"
            }
          },
          "metadata": {},
          "execution_count": 50
        }
      ]
    },
    {
      "cell_type": "markdown",
      "source": [
        "#### Passo 5: analisi dei risutati\n",
        "Dopo aver addestrato e testato il nostro modello, è essenziale visualizzare e interpretare i suoi risultati in modo più approfondito rispetto alla semplice accuratezza. Questo ci permette di capire meglio i tipi di errori che il modello commette."
      ],
      "metadata": {
        "id": "F8THthmMHwKT"
      }
    },
    {
      "cell_type": "markdown",
      "source": [
        "##### 5.1: Matrice di Confusione\n",
        "\n",
        "La Matrice di Confusione è uno strumento fondamentale per valutare le prestazioni di un algoritmo di classificazione. Ci mostra il numero di previsioni corrette e scorrette, suddivise per ogni classe.\n",
        "\n",
        "- _True Positives (TP)_: Veri Positivi - Il modello ha predetto \"Malato\" e il paziente era realmente \"Malato\". (L'ideale in diagnosi!)\n",
        "\n",
        "- _True Negatives (TN)_: Veri Negativi - Il modello ha predetto \"Sano\" e il - paziente era realmente \"Sano\".\n",
        "\n",
        "- _False Positives (FP)_: Falsi Positivi - Il modello ha predetto \"Malato\" ma il paziente era realmente \"Sano\". (Un \"falso allarme\")\n",
        "\n",
        "- _False Negatives (FN)_: Falsi Negativi - Il modello ha predetto \"Sano\" ma il paziente era realmente \"Malato\". (Un errore grave in diagnosi, una \"mancata diagnosi\")\n",
        "\n",
        "**Metriche: matrice di confusione**\n",
        "\n",
        "![Grund truth vs Predicted](https://www.yourdatateacher.com/wp-content/uploads/2021/06/confusion-matrix.png)\n",
        "\n",
        "**Precision:**\n",
        "Di tutte le volte che il modello ha detto \"Malato\", quante erano *veramente* malate?\n",
        "$$ Precision = \\frac{TP}{TP + FP} $$\n",
        "\n",
        "\n",
        "**Recall:** Di tutte le persone *veramente* malate, quante sono state identificate dal modello?\n",
        "$$ Recall = \\frac{TP}{TP + FN} $$\n",
        "\n",
        "\n",
        "**Accuracy:**  Quante volte il modello ha indovinato correttamente (sia sano che malato)\n",
        "\n",
        "$$ Accuracy = \\frac{TP + TN}{TP + TN + FP + FN} $$\n",
        "\n",
        "\n",
        "_Precision vs Accuracy_\n",
        "\n",
        "![Precision vs Accuracy](https://cdn.prod.website-files.com/664db9f463bc34a570da9909/66577e2c7a34a0458da590fc_accuracy-precision.jpeg)\n",
        "\n",
        "\n",
        "_Table_\n",
        "\n",
        "![Table](https://stevengong.co/attachments/Pasted-image-20220916131435.png)"
      ],
      "metadata": {
        "id": "xl44FVZMfvQO"
      }
    },
    {
      "cell_type": "code",
      "source": [
        "from sklearn.metrics import confusion_matrix, ConfusionMatrixDisplay\n",
        "\n",
        "# Genera la matrice di confusione\n",
        "cm = confusion_matrix(y_test, y_pred)\n",
        "\n",
        "# Visualizza la matrice di confusione\n",
        "plt.figure(figsize=(7, 6))\n",
        "disp = ConfusionMatrixDisplay(confusion_matrix=cm, display_labels=['Sano', 'Malato'])\n",
        "disp.plot(cmap=plt.cm.Blues, values_format='d') # 'd' per mostrare numeri interi\n",
        "plt.title('Matrice di Confusione')\n",
        "plt.show()\n",
        "\n",
        "print(\"\\nSpiegazione Matrice di Confusione:\")\n",
        "print(f\"TP (Malato correttamente identificato): {cm[1, 1]}\")\n",
        "print(f\"TN (Sano correttamente identificato): {cm[0, 0]}\")\n",
        "print(f\"FP (Falsi Positivi - Sano identificato come Malato): {cm[0, 1]}\")\n",
        "print(f\"FN (Falsi Negativi - Malato identificato come Sano): {cm[1, 0]}\")"
      ],
      "metadata": {
        "colab": {
          "base_uri": "https://localhost:8080/",
          "height": 606
        },
        "id": "5XSPHoPzJD3k",
        "outputId": "dc306137-73b8-4289-a7b0-d7663ce09891"
      },
      "execution_count": 51,
      "outputs": [
        {
          "output_type": "display_data",
          "data": {
            "text/plain": [
              "<Figure size 700x600 with 0 Axes>"
            ]
          },
          "metadata": {}
        },
        {
          "output_type": "display_data",
          "data": {
            "text/plain": [
              "<Figure size 640x480 with 2 Axes>"
            ],
            "image/png": "[encoded data removed]"
          },
          "metadata": {}
        },
        {
          "output_type": "stream",
          "name": "stdout",
          "text": [
            "\n",
            "Spiegazione Matrice di Confusione:\n",
            "TP (Malato correttamente identificato): 0\n",
            "TN (Sano correttamente identificato): 37\n",
            "FP (Falsi Positivi - Sano identificato come Malato): 0\n",
            "FN (Falsi Negativi - Malato identificato come Sano): 23\n"
          ]
        }
      ]
    },
    {
      "cell_type": "markdown",
      "source": [],
      "metadata": {
        "id": "KeLiwDyoMtcd"
      }
    },
    {
      "cell_type": "code",
      "source": [
        "# Interpretazione Semplificata:\n",
        "# - Accuratezza: Quante volte il modello ha indovinato correttamente (sia sano che malato)\n",
        "# - Precisione: Di tutte le volte che il modello ha detto \"Malato\", quante erano *veramente* malate?\n",
        "# - Richiamo (Recall): Di tutte le persone *veramente* malate, quante sono state identificate dal modello?\n",
        "#   In neurologia, il richiamo per la classe 'Malato' è spesso cruciale per non perdere diagnosi.\n",
        "\n",
        "\n",
        "# Valutiamo l'accuratezza del modello\n",
        "# L'accuratezza è la percentuale di previsioni corrette sul set di test\n",
        "accuratezza = accuracy_score(y_test, y_pred)\n",
        "print(f\"\\nAccuratezza del modello sul set di test: {accuratezza:.2f}\")\n",
        "\n",
        "# Valutiamo l'accuratezza del modello\n",
        "# L'accuratezza è la percentuale di previsioni corrette sul set di test\n",
        "recall = recall_score(y_test, y_pred)\n",
        "print(f\"\\nAccuratezza del modello sul set di test: {recall:.2f}\")\n",
        "\n",
        "\n",
        "\n",
        "\n"
      ],
      "metadata": {
        "colab": {
          "base_uri": "https://localhost:8080/"
        },
        "id": "V34Y5BFOMtM1",
        "outputId": "12e6f4b5-6da9-46c9-9218-5054d44c21da"
      },
      "execution_count": 52,
      "outputs": [
        {
          "output_type": "stream",
          "name": "stdout",
          "text": [
            "\n",
            "Accuratezza del modello sul set di test: 0.62\n",
            "\n",
            "Accuratezza del modello sul set di test: 0.00\n"
          ]
        }
      ]
    },
    {
      "cell_type": "code",
      "source": [
        "# Report di classificazione più dettagliato (utile per problemi medici)\n",
        "# Mostra precisione, richiamo e F1-score per ogni classe\n",
        "# Nota: i nomi delle classi 'Sano' e 'Malato' sono solo per chiarezza di visualizzazione\n",
        "print(\"\\nReport di Classificazione:\")\n",
        "report = classification_report(y_test, y_pred, target_names=['Sano', 'Malato'])\n",
        "print(report)"
      ],
      "metadata": {
        "colab": {
          "base_uri": "https://localhost:8080/"
        },
        "id": "7zSd7Wz9M1bi",
        "outputId": "b597a9e5-3e06-49e2-9dd4-c53aaa37e0ec"
      },
      "execution_count": 53,
      "outputs": [
        {
          "output_type": "stream",
          "name": "stdout",
          "text": [
            "\n",
            "Report di Classificazione:\n",
            "              precision    recall  f1-score   support\n",
            "\n",
            "        Sano       0.62      1.00      0.76        37\n",
            "      Malato       0.00      0.00      0.00        23\n",
            "\n",
            "    accuracy                           0.62        60\n",
            "   macro avg       0.31      0.50      0.38        60\n",
            "weighted avg       0.38      0.62      0.47        60\n",
            "\n"
          ]
        },
        {
          "output_type": "stream",
          "name": "stderr",
          "text": [
            "/usr/local/lib/python3.11/dist-packages/sklearn/metrics/_classification.py:1565: UndefinedMetricWarning: Precision is ill-defined and being set to 0.0 in labels with no predicted samples. Use `zero_division` parameter to control this behavior.\n",
            "  _warn_prf(average, modifier, f\"{metric.capitalize()} is\", len(result))\n",
            "/usr/local/lib/python3.11/dist-packages/sklearn/metrics/_classification.py:1565: UndefinedMetricWarning: Precision is ill-defined and being set to 0.0 in labels with no predicted samples. Use `zero_division` parameter to control this behavior.\n",
            "  _warn_prf(average, modifier, f\"{metric.capitalize()} is\", len(result))\n",
            "/usr/local/lib/python3.11/dist-packages/sklearn/metrics/_classification.py:1565: UndefinedMetricWarning: Precision is ill-defined and being set to 0.0 in labels with no predicted samples. Use `zero_division` parameter to control this behavior.\n",
            "  _warn_prf(average, modifier, f\"{metric.capitalize()} is\", len(result))\n"
          ]
        }
      ]
    },
    {
      "cell_type": "markdown",
      "source": [
        "#### 5.2: Curva ROC (Receiver Operating Characteristic) e AUC (Area Under the Curve)\n",
        "\n",
        "La curva ROC è un grafico che mostra la capacità di un modello di classificazione di distinguere tra le classi a diverse soglie di classificazione.\n",
        "\n",
        "L'asse Y rappresenta il True Positive Rate (TPR) o \"Sensitivity\" (Sensibilità - quanti malati sono stati correttamente identificati).\n",
        "\n",
        "L'asse X rappresenta il False Positive Rate (FPR) o \"(1 - Specificity)\" (1 - Specificità - quanti sani sono stati erroneamente identificati come malati).\n",
        "\n",
        "Una curva ROC ideale si avvicina all'angolo superiore sinistro (alto TPR, basso FPR).\n",
        "\n",
        "L'Area Under the Curve (AUC) è un valore singolo che riassume le prestazioni complessive del modello. Un AUC di 1.0 indica un classificatore perfetto, mentre un AUC di 0.5 indica un classificatore che non è migliore di una scelta casuale."
      ],
      "metadata": {
        "id": "bsvFbVI7d-qd"
      }
    },
    {
      "cell_type": "code",
      "source": [
        "from sklearn.metrics import roc_curve, auc\n",
        "\n",
        "# Ottenere le probabilità delle predizioni per la classe positiva (Malato = 1)\n",
        "# Il modello_classificatore.predict_proba restituisce le probabilità per ogni classe.\n",
        "# Vogliamo la probabilità per la classe 1 (colonna con indice 1).\n",
        "y_probs = modello_classificatore.predict_proba(X_test)[:, 1]\n",
        "\n",
        "# Calcolare il True Positive Rate (TPR) e False Positive Rate (FPR)\n",
        "fpr, tpr, thresholds = roc_curve(y_test, y_probs)\n",
        "\n",
        "# Calcolare l'Area Under the Curve (AUC)\n",
        "roc_auc = auc(fpr, tpr)\n",
        "\n",
        "# Plot della Curva ROC\n",
        "plt.figure(figsize=(8, 6))\n",
        "plt.plot(fpr, tpr, color='darkorange', lw=2, label=f'Curva ROC (AUC = {roc_auc:.2f})')\n",
        "plt.plot([0, 1], [0, 1], color='navy', lw=2, linestyle='--', label='Classificatore Casuale (AUC = 0.5)')\n",
        "plt.xlim([0.0, 1.0])\n",
        "plt.ylim([0.0, 1.05])\n",
        "plt.xlabel('False Positive Rate (1 - Specificità)')\n",
        "plt.ylabel('True Positive Rate (Sensibilità)')\n",
        "plt.title('Curva ROC')\n",
        "plt.legend(loc=\"lower right\")\n",
        "plt.grid(True)\n",
        "plt.show()\n",
        "\n",
        "print(\"\\nSpiegazione Curva ROC e AUC:\")\n",
        "print(f\"L'AUC (Area Under the Curve) è di {roc_auc:.2f}.\")\n",
        "print(\"Più l'AUC è vicino a 1, migliore è la capacità del modello di distinguere tra pazienti sani e malati.\")\n",
        "print(\"Una curva che si avvicina all'angolo superiore sinistro indica un modello con alta sensibilità e alta specificità.\")"
      ],
      "metadata": {
        "colab": {
          "base_uri": "https://localhost:8080/",
          "height": 665
        },
        "id": "qbZsRO32MSnM",
        "outputId": "9312a9ad-00de-45a0-9712-bbedcc979549"
      },
      "execution_count": 54,
      "outputs": [
        {
          "output_type": "display_data",
          "data": {
            "text/plain": [
              "<Figure size 800x600 with 1 Axes>"
            ],
            "image/png": "[encoded data removed]"
          },
          "metadata": {}
        },
        {
          "output_type": "stream",
          "name": "stdout",
          "text": [
            "\n",
            "Spiegazione Curva ROC e AUC:\n",
            "L'AUC (Area Under the Curve) è di 0.66.\n",
            "Più l'AUC è vicino a 1, migliore è la capacità del modello di distinguere tra pazienti sani e malati.\n",
            "Una curva che si avvicina all'angolo superiore sinistro indica un modello con alta sensibilità e alta specificità.\n"
          ]
        }
      ]
    },
    {
      "cell_type": "code",
      "source": [],
      "metadata": {
        "id": "9kkV5cmiMawS"
      },
      "execution_count": 54,
      "outputs": []
    }
  ]
}