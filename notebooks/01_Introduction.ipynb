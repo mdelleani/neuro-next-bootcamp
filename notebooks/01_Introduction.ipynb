{
  "nbformat": 4,
  "nbformat_minor": 0,
  "metadata": {
    "colab": {
      "provenance": [],
      "toc_visible": true,
      "authorship_tag": "ABX9TyOtu9arcxCNNxWOxPAx32zh",
      "include_colab_link": true
    },
    "kernelspec": {
      "name": "python3",
      "display_name": "Python 3"
    },
    "language_info": {
      "name": "python"
    }
  },
  "cells": [
    {
      "cell_type": "markdown",
      "metadata": {
        "id": "view-in-github",
        "colab_type": "text"
      },
      "source": [
        "<a href=\"https://colab.research.google.com/github/mdelleani/neuro-next-bootcamp/blob/main/notebooks/01_Introduction.ipynb\" target=\"_parent\"><img src=\"https://colab.research.google.com/assets/colab-badge.svg\" alt=\"Open In Colab\"/></a>"
      ]
    },
    {
      "cell_type": "markdown",
      "source": [
        "# 🐍 Introduzione a Python per la Ricerca in IA e Neurologia 🧠\n",
        "\n",
        "**Sessione Interattiva | Parte I: Concetti Base di Python e Fondamenti di IA**\n",
        "\n",
        "* **Tutor:** S. D'Amico\n",
        "* **Docente:** Mattia Delleani\n",
        "* **Orario:** 16:45 - 18:00\n",
        "\n",
        "---\n",
        "\n",
        "Benvenuti a questa sessione interattiva! L'obiettivo è fornire una base solida di programmazione Python e introdurre i concetti chiave dell'Intelligenza Artificiale e del Machine Learning, con un focus sulle loro applicazioni nella ricerca e pratica neurologica.\n",
        "\n",
        "---\n",
        "\n",
        "## 1. Perché Python per la ricerca medica e l'IA?\n",
        "\n",
        "Python è diventato il linguaggio di riferimento per la scienza dei dati, il Machine Learning e l'Intelligenza Artificiale, e per ottime ragioni:\n",
        "\n",
        "* **Sintassi Semplice e Leggibile:** Facile da imparare, anche per chi non ha esperienza di programmazione.\n",
        "* **Ampia Libreria di Ecosistema:** Migliaia di librerie e framework pronti all'uso per analisi dati, visualizzazione, Machine Learning e Deep Learning.\n",
        "* **Versatilità:** Usato in un'ampia gamma di settori, dalla neurologia all'economia, dalla web development alla robotica.\n",
        "* **Comunità Vasta:** Molto supporto online, tutorial e risorse.\n",
        "* **Compatibilità con la Ricerca Medica:** Strumenti specifici per l'elaborazione di immagini mediche (es. `nibabel`), analisi di segnali (es. `mne`), e modellazione statistica.\n"
      ],
      "metadata": {
        "id": "5_0MK2CbEWJW"
      }
    },
    {
      "cell_type": "markdown",
      "source": [
        "### Applicazioni in Neurologia:\n",
        "\n",
        "* **Analisi di Dati EEG/MEG:** Elaborazione e interpretazione di segnali cerebrali.\n",
        "* **Imaging Cerebrale:** Segmentazione, analisi e classificazione di immagini RM, TC, PET.\n",
        "* **Diagnosi e Prognosi:** Sviluppo di modelli predittivi per malattie neurodegenerative (Alzheimer, Parkinson), ictus, epilessia.\n",
        "* **Scoperta di Biomarcatori:** Analisi di dati genomici e proteomici.\n",
        "* **Sviluppo di Farmaci:** Simulazioni e analisi di risposte ai trattamenti.\n"
      ],
      "metadata": {
        "id": "mgGzxfa3S_YH"
      }
    },
    {
      "cell_type": "markdown",
      "source": [
        "---\n",
        "## 2. Fondamentali di Python\n",
        "\n",
        "Iniziamo con gli \"elementi costitutivi\" del linguaggio.\n",
        "\n",
        "### 2.1. Variabili e Tipi di Dati\n",
        "\n",
        "Una variabile è un contenitore per memorizzare dati. In Python non è necessario dichiarare il tipo di dato, viene inferito automaticamente.\n",
        "\n"
      ],
      "metadata": {
        "id": "8nJmZAyhS5MM"
      }
    },
    {
      "cell_type": "code",
      "execution_count": 1,
      "metadata": {
        "colab": {
          "base_uri": "https://localhost:8080/"
        },
        "id": "i11R6_EZDz-k",
        "outputId": "2cd796e3-3a4c-4d3f-8d4e-948b29d9189a"
      },
      "outputs": [
        {
          "output_type": "stream",
          "name": "stdout",
          "text": [
            "Tipo di eta_paziente: <class 'int'>\n",
            "Tipo di peso_kg: <class 'float'>\n",
            "Tipo di diagnosi: <class 'str'>\n",
            "Tipo di ha_precedenti_familiari: <class 'bool'>\n",
            "\n",
            "Il paziente Mario Rossi ha 65 anni.\n",
            "La sua diagnosi è: Sclerosi Multipla.\n"
          ]
        }
      ],
      "source": [
        "# Variabili numeriche\n",
        "eta_paziente = 65\n",
        "peso_kg = 72.5\n",
        "temperatura_c = 37.0\n",
        "\n",
        "# Variabili di testo (stringhe)\n",
        "nome_paziente = \"Mario Rossi\"\n",
        "diagnosi = \"Sclerosi Multipla\"\n",
        "\n",
        "# Variabili booleane (Vero/Falso)\n",
        "ha_precedenti_familiari = True\n",
        "risposta_terapia = False\n",
        "\n",
        "# Stampa i tipi di dati\n",
        "print(f\"Tipo di eta_paziente: {type(eta_paziente)}\")\n",
        "print(f\"Tipo di peso_kg: {type(peso_kg)}\")\n",
        "print(f\"Tipo di diagnosi: {type(diagnosi)}\")\n",
        "print(f\"Tipo di ha_precedenti_familiari: {type(ha_precedenti_familiari)}\")\n",
        "\n",
        "# Esempio di stampa delle variabili\n",
        "print(f\"\\nIl paziente {nome_paziente} ha {eta_paziente} anni.\")\n",
        "print(f\"La sua diagnosi è: {diagnosi}.\")"
      ]
    },
    {
      "cell_type": "markdown",
      "source": [
        "### 2.2 Strutture di Controllo: Condizioni (if/elif/else) e Cicli (for/while)\n",
        "\n",
        "Queste strutture permettono al nostro codice di prendere decisioni e ripetere operazioni.\n",
        "\n",
        "**Condizioni** (if/elif/else)"
      ],
      "metadata": {
        "id": "fEwcqUQ5FARo"
      }
    },
    {
      "cell_type": "code",
      "source": [
        "punteggio_mmse = 24 # Mini Mental State Examination\n",
        "\n",
        "if punteggio_mmse < 20:\n",
        "    print(\"Sospetto deficit cognitivo severo.\")\n",
        "elif punteggio_mmse >= 20 and punteggio_mmse < 25:\n",
        "    print(\"Sospetto deficit cognitivo lieve-moderato.\")\n",
        "else:\n",
        "    print(\"Funzioni cognitive nella norma per l'età.\")\n",
        "\n",
        "# Esempio con un'altra variabile\n",
        "livello_proteina = 0.8 # in ng/mL\n",
        "soglia_allarme = 1.0\n",
        "\n",
        "if livello_proteina > soglia_allarme:\n",
        "    print(\"Livello proteina superiore alla soglia di allarme. Richiede attenzione.\")\n",
        "else:\n",
        "    print(\"Livello proteina nella norma.\")"
      ],
      "metadata": {
        "colab": {
          "base_uri": "https://localhost:8080/"
        },
        "id": "AcnVLe-TFABg",
        "outputId": "ee18f193-0f89-4046-bb0d-685484a13a9a"
      },
      "execution_count": 2,
      "outputs": [
        {
          "output_type": "stream",
          "name": "stdout",
          "text": [
            "Sospetto deficit cognitivo lieve-moderato.\n",
            "Livello proteina nella norma.\n"
          ]
        }
      ]
    },
    {
      "cell_type": "markdown",
      "source": [
        "**Cicli** (for)\n",
        "\n",
        "Utili per iterare su sequenze di elementi."
      ],
      "metadata": {
        "id": "JZsrwkVuIQL_"
      }
    },
    {
      "cell_type": "code",
      "source": [
        "farmaci_prescritti = [\"Levodopa\", \"Carbidopa\", \"Entacapone\"]\n",
        "\n",
        "print(\"Farmaci prescritti al paziente:\")\n",
        "for farmaco in farmaci_prescritti:\n",
        "    print(f\"- {farmaco}\")\n",
        "\n",
        "# Iterare sui numeri (es. giorni di osservazione)\n",
        "print(\"\\nRegistrazioni giornaliere:\")\n",
        "for giorno in range(1, 6): # da 1 a 5\n",
        "    print(f\"Giorno {giorno}: Dati registrati.\")"
      ],
      "metadata": {
        "colab": {
          "base_uri": "https://localhost:8080/"
        },
        "id": "1tRB8wYAEdMa",
        "outputId": "03348a8e-b00a-4e0d-c5b2-b0e06543eef8"
      },
      "execution_count": 3,
      "outputs": [
        {
          "output_type": "stream",
          "name": "stdout",
          "text": [
            "Farmaci prescritti al paziente:\n",
            "- Levodopa\n",
            "- Carbidopa\n",
            "- Entacapone\n",
            "\n",
            "Registrazioni giornaliere:\n",
            "Giorno 1: Dati registrati.\n",
            "Giorno 2: Dati registrati.\n",
            "Giorno 3: Dati registrati.\n",
            "Giorno 4: Dati registrati.\n",
            "Giorno 5: Dati registrati.\n"
          ]
        }
      ]
    },
    {
      "cell_type": "markdown",
      "source": [
        "**Cicli** (while)\n",
        "\n",
        "Utili quando non si sa a priori quante volte si deve ripetere un'operazione."
      ],
      "metadata": {
        "id": "R6gOtsAHIiXy"
      }
    },
    {
      "cell_type": "code",
      "source": [
        "# Simulazione di un campionamento dati fino a che non si raggiunge un numero sufficiente\n",
        "dati_raccolti = 0\n",
        "dati_necessari = 5\n",
        "\n",
        "print(\"\\nInizio raccolta dati:\")\n",
        "while dati_raccolti < dati_necessari:\n",
        "    dati_raccolti += 1 # Incrementa di 1\n",
        "    print(f\"Dati raccolti: {dati_raccolti}\")\n",
        "print(\"Raccolta dati completata.\")"
      ],
      "metadata": {
        "colab": {
          "base_uri": "https://localhost:8080/"
        },
        "id": "kxSwvLuWIXya",
        "outputId": "af0e9a21-da3b-4db7-b959-3021e85426d7"
      },
      "execution_count": 4,
      "outputs": [
        {
          "output_type": "stream",
          "name": "stdout",
          "text": [
            "\n",
            "Inizio raccolta dati:\n",
            "Dati raccolti: 1\n",
            "Dati raccolti: 2\n",
            "Dati raccolti: 3\n",
            "Dati raccolti: 4\n",
            "Dati raccolti: 5\n",
            "Raccolta dati completata.\n"
          ]
        }
      ]
    },
    {
      "cell_type": "markdown",
      "source": [
        "### 2.3. Funzioni: Definire e Utilizzare\n",
        "\n",
        "Le funzioni sono blocchi di codice riutilizzabili che eseguono un compito specifico. Aiutano a organizzare il codice e renderlo più leggibile"
      ],
      "metadata": {
        "id": "b6obj0--I0mX"
      }
    },
    {
      "cell_type": "code",
      "source": [
        "# Funzione per calcolare l'indice di massa corporea (BMI)\n",
        "def calcola_bmi(peso_kg, altezza_cm):\n",
        "    \"\"\"\n",
        "    Calcola l'Indice di Massa Corporea (BMI).\n",
        "    peso_kg: peso in chilogrammi\n",
        "    altezza_cm: altezza in centimetri\n",
        "    \"\"\"\n",
        "    altezza_metri = altezza_cm / 100\n",
        "    bmi = peso_kg / (altezza_metri ** 2)\n",
        "    return bmi\n",
        "\n",
        "# Funzione per classificare il BMI\n",
        "def classifica_bmi(bmi_valore):\n",
        "    if bmi_valore < 18.5:\n",
        "        return \"Sottopeso\"\n",
        "    elif 18.5 <= bmi_valore < 25:\n",
        "        return \"Normopeso\"\n",
        "    elif 25 <= bmi_valore < 30:\n",
        "        return \"Sovrappeso\"\n",
        "    else:\n",
        "        return \"Obeso\""
      ],
      "metadata": {
        "id": "hMFb_nPsIszC"
      },
      "execution_count": 6,
      "outputs": []
    },
    {
      "cell_type": "code",
      "source": [
        "# Utilizzo delle funzioni\n",
        "paziente_peso = 70\n",
        "paziente_altezza = 175\n",
        "\n",
        "bmi_paziente = calcola_bmi(paziente_peso, paziente_altezza)\n",
        "classificazione = classifica_bmi(bmi_paziente)\n",
        "\n",
        "print(f\"\\nIl paziente con peso {paziente_peso} kg e altezza {paziente_altezza} cm ha un BMI di: {bmi_paziente:.2f}\")\n",
        "print(f\"Classificazione BMI: {classificazione}\")"
      ],
      "metadata": {
        "colab": {
          "base_uri": "https://localhost:8080/"
        },
        "id": "yVvYY1YWI8Rt",
        "outputId": "22325fbd-47ff-4076-8a48-11c57acbe9d6"
      },
      "execution_count": 7,
      "outputs": [
        {
          "output_type": "stream",
          "name": "stdout",
          "text": [
            "\n",
            "Il paziente con peso 70 kg e altezza 175 cm ha un BMI di: 22.86\n",
            "Classificazione BMI: Normopeso\n"
          ]
        }
      ]
    },
    {
      "cell_type": "markdown",
      "source": [
        "### 2.4. Strutture Dati (Liste, Tuple, Dizionari, Set)\n",
        "\n",
        "Queste strutture ci permettono di organizzare collezioni di dati.\n",
        "\n",
        "**Liste** (mutabili, ordinate, permettono duplicati)"
      ],
      "metadata": {
        "id": "93hnpwGkJQLi"
      }
    },
    {
      "cell_type": "code",
      "source": [
        "# Lista di sintomi\n",
        "sintomi_paziente = [\"cefalea\", \"vertigini\", \"nausea\", \"cefalea\"]\n",
        "print(f\"\\nLista sintomi: {sintomi_paziente}\")\n",
        "\n",
        "# Aggiungere un elemento\n",
        "sintomi_paziente.append(\"affaticamento\")\n",
        "print(f\"Lista sintomi aggiornata: {sintomi_paziente}\")\n",
        "\n",
        "# Accedere a un elemento\n",
        "print(f\"Primo sintomo: {sintomi_paziente[0]}\") # Indice 0\n",
        "print(f\"Ultimo sintomo: {sintomi_paziente[-1]}\") # Indice -1"
      ],
      "metadata": {
        "colab": {
          "base_uri": "https://localhost:8080/"
        },
        "id": "8EU-wzEJJNwL",
        "outputId": "7b6ae506-c708-4c18-f3b2-284e5b62d5f6"
      },
      "execution_count": 8,
      "outputs": [
        {
          "output_type": "stream",
          "name": "stdout",
          "text": [
            "\n",
            "Lista sintomi: ['cefalea', 'vertigini', 'nausea', 'cefalea']\n",
            "Lista sintomi aggiornata: ['cefalea', 'vertigini', 'nausea', 'cefalea', 'affaticamento']\n",
            "Primo sintomo: cefalea\n",
            "Ultimo sintomo: affaticamento\n"
          ]
        }
      ]
    },
    {
      "cell_type": "markdown",
      "source": [
        "**Tuple** (immutabili, ordinate, permettono duplicati)\n",
        "\n",
        "Utili per dati che non devono essere modificati dopo la creazione."
      ],
      "metadata": {
        "id": "OdkVU_djJdsg"
      }
    },
    {
      "cell_type": "code",
      "source": [
        "# Tupla di coordinate di un punto cerebrale (x, y, z)\n",
        "coordinate_lesione = (45, 23, 10)\n",
        "print(f\"\\nCoordinate lesione: {coordinate_lesione}\")\n",
        "\n",
        "# Non è possibile modificare una tupla: coordinate_lesione[0] = 50 darà errore!"
      ],
      "metadata": {
        "colab": {
          "base_uri": "https://localhost:8080/"
        },
        "id": "ba5u1a6rJKJJ",
        "outputId": "bdfbf253-c981-49bf-9f1f-052f5ffc540c"
      },
      "execution_count": 9,
      "outputs": [
        {
          "output_type": "stream",
          "name": "stdout",
          "text": [
            "\n",
            "Coordinate lesione: (45, 23, 10)\n"
          ]
        }
      ]
    },
    {
      "cell_type": "markdown",
      "source": [
        "**Dizionari** (mutabili, non ordinati prima di Python 3.7, chiave-valore)\n",
        "\n",
        "Ideali per rappresentare dati strutturati, come record di pazienti."
      ],
      "metadata": {
        "id": "WxkjKER_JkfG"
      }
    },
    {
      "cell_type": "code",
      "source": [
        "# Dati di un paziente in un dizionario\n",
        "dati_paziente_dict = {\n",
        "    \"ID\": \"PZ001\",\n",
        "    \"Nome\": \"Anna\",\n",
        "    \"Cognome\": \"Verdi\",\n",
        "    \"Età\": 58,\n",
        "    \"Diagnosi\": \"Morbo di Alzheimer\",\n",
        "    \"Farmaci\": [\"Donepezil\", \"Memantina\"]\n",
        "}\n",
        "print(f\"\\nDati paziente (Dizionario): {dati_paziente_dict}\")\n",
        "\n",
        "# Accedere a un valore tramite chiave\n",
        "print(f\"Diagnosi del paziente: {dati_paziente_dict['Diagnosi']}\")\n",
        "\n",
        "# Aggiungere una nuova chiave-valore\n",
        "dati_paziente_dict[\"Data_diagnosi\"] = \"2023-01-15\"\n",
        "print(f\"Dati paziente aggiornati: {dati_paziente_dict}\")"
      ],
      "metadata": {
        "colab": {
          "base_uri": "https://localhost:8080/"
        },
        "id": "pHSlEnRJJhId",
        "outputId": "4c3b90e9-4184-462e-8ca5-f977a8917872"
      },
      "execution_count": 10,
      "outputs": [
        {
          "output_type": "stream",
          "name": "stdout",
          "text": [
            "\n",
            "Dati paziente (Dizionario): {'ID': 'PZ001', 'Nome': 'Anna', 'Cognome': 'Verdi', 'Età': 58, 'Diagnosi': 'Morbo di Alzheimer', 'Farmaci': ['Donepezil', 'Memantina']}\n",
            "Diagnosi del paziente: Morbo di Alzheimer\n",
            "Dati paziente aggiornati: {'ID': 'PZ001', 'Nome': 'Anna', 'Cognome': 'Verdi', 'Età': 58, 'Diagnosi': 'Morbo di Alzheimer', 'Farmaci': ['Donepezil', 'Memantina'], 'Data_diagnosi': '2023-01-15'}\n"
          ]
        }
      ]
    },
    {
      "cell_type": "markdown",
      "source": [
        "**Set** (mutabili, non ordinati, non permettono duplicati)\n",
        "\n",
        "Utili per collezioni uniche di elementi."
      ],
      "metadata": {
        "id": "oS3EPbxyJsip"
      }
    },
    {
      "cell_type": "code",
      "source": [
        "# Sintomi unici (rimuove i duplicati)\n",
        "sintomi_unici = set(sintomi_paziente)\n",
        "print(f\"\\nSet di sintomi unici: {sintomi_unici}\")\n",
        "\n",
        "# Aggiungere un elemento\n",
        "sintomi_unici.add(\"febbre\")\n",
        "print(f\"Set di sintomi dopo aggiunta: {sintomi_unici}\")"
      ],
      "metadata": {
        "colab": {
          "base_uri": "https://localhost:8080/"
        },
        "id": "mYLeTwO0JpEz",
        "outputId": "17c0fd55-e897-4db7-a97f-b572573073e3"
      },
      "execution_count": 11,
      "outputs": [
        {
          "output_type": "stream",
          "name": "stdout",
          "text": [
            "\n",
            "Set di sintomi unici: {'nausea', 'vertigini', 'affaticamento', 'cefalea'}\n",
            "Set di sintomi dopo aggiunta: {'cefalea', 'affaticamento', 'vertigini', 'febbre', 'nausea'}\n"
          ]
        }
      ]
    },
    {
      "cell_type": "markdown",
      "source": [
        "## 3. Introduzione all'Analisi Dati con Python\n",
        "Per l'analisi dei dati in Python, ci affidiamo a potenti librerie.\n",
        "\n"
      ],
      "metadata": {
        "id": "L_LMJdQ9Lqau"
      }
    },
    {
      "cell_type": "markdown",
      "source": [
        "### 3.1. Panoramica sulle Librerie Chiave: NumPy e Pandas\n",
        "\n",
        "- **NumPy** (Numerical Python): La base per il calcolo numerico in Python. Offre strutture dati efficienti (array multi-dimensionali) e funzioni per operazioni matematiche su di essi. Essenziale per l'algebra lineare, trasformate, ecc. \\\n",
        "\n",
        "- **Pandas** (Panel Data): Costruita su NumPy, fornisce strutture dati flessibili e potenti per lavorare con dati tabellari (simili a fogli di calcolo o tabelle di database). I suoi oggetti principali sono Series (colonne) e DataFrame (tabelle)."
      ],
      "metadata": {
        "id": "Qt1APNzkLuIK"
      }
    },
    {
      "cell_type": "code",
      "source": [
        "import numpy as np # Convenzione per importare NumPy\n",
        "import pandas as pd # Convenzione per importare Pandas\n",
        "\n",
        "# Esempio NumPy: Creare un array di misurazioni\n",
        "pressione_sistolica = np.array([120, 125, 118, 130, 122])\n",
        "print(f\"\\nArray NumPy pressione sistolica: {pressione_sistolica}\")\n",
        "print(f\"Media pressione: {np.mean(pressione_sistolica):.2f}\")\n",
        "print(f\"Deviazione standard pressione: {np.std(pressione_sistolica):.2f}\")\n",
        "\n",
        "\n",
        "\n",
        "\n",
        "\n"
      ],
      "metadata": {
        "colab": {
          "base_uri": "https://localhost:8080/"
        },
        "id": "wgpmlwtNLpzg",
        "outputId": "03ad4641-90ba-4ef0-aa7d-dab4483bb9ce"
      },
      "execution_count": 12,
      "outputs": [
        {
          "output_type": "stream",
          "name": "stdout",
          "text": [
            "\n",
            "Array NumPy pressione sistolica: [120 125 118 130 122]\n",
            "Media pressione: 123.00\n",
            "Deviazione standard pressione: 4.20\n",
            "\n",
            "DataFrame dei dati clinici:\n",
            "  ID_Paziente  Età Sesso Diagnosi  MMSE\n",
            "0        P001   60     M       AD    22\n",
            "1        P002   75     F       PD    25\n",
            "2        P003   68     M       AD    18\n",
            "3        P004   55     F       HD    28\n",
            "\n",
            "Prime 2 righe del DataFrame:\n",
            "  ID_Paziente  Età Sesso Diagnosi  MMSE\n",
            "0        P001   60     M       AD    22\n",
            "1        P002   75     F       PD    25\n",
            "\n",
            "Informazioni sul DataFrame:\n",
            "<class 'pandas.core.frame.DataFrame'>\n",
            "RangeIndex: 4 entries, 0 to 3\n",
            "Data columns (total 5 columns):\n",
            " #   Column       Non-Null Count  Dtype \n",
            "---  ------       --------------  ----- \n",
            " 0   ID_Paziente  4 non-null      object\n",
            " 1   Età          4 non-null      int64 \n",
            " 2   Sesso        4 non-null      object\n",
            " 3   Diagnosi     4 non-null      object\n",
            " 4   MMSE         4 non-null      int64 \n",
            "dtypes: int64(2), object(3)\n",
            "memory usage: 292.0+ bytes\n",
            "\n",
            "Statistiche descrittive della colonna 'Età':\n",
            "count     4.000000\n",
            "mean     64.500000\n",
            "std       8.812869\n",
            "min      55.000000\n",
            "25%      58.750000\n",
            "50%      64.000000\n",
            "75%      69.750000\n",
            "max      75.000000\n",
            "Name: Età, dtype: float64\n",
            "\n",
            "Solo colonna 'Diagnosi':\n",
            "0    AD\n",
            "1    PD\n",
            "2    AD\n",
            "3    HD\n",
            "Name: Diagnosi, dtype: object\n",
            "\n",
            "Pazienti con MMSE < 20:\n",
            "  ID_Paziente  Età Sesso Diagnosi  MMSE\n",
            "2        P003   68     M       AD    18\n"
          ]
        }
      ]
    },
    {
      "cell_type": "code",
      "source": [
        "# Esempio Pandas: Creare un DataFrame da un dizionario\n",
        "dati_clinici = {\n",
        "    'ID_Paziente': ['P001', 'P002', 'P003', 'P004'],\n",
        "    'Età': [60, 75, 68, 55],\n",
        "    'Sesso': ['M', 'F', 'M', 'F'],\n",
        "    'Diagnosi': ['AD', 'PD', 'AD', 'HD'],\n",
        "    'MMSE': [22, 25, 18, 28]\n",
        "}\n",
        "df_pazienti = pd.DataFrame(dati_clinici)\n",
        "print(\"\\nDataFrame dei dati clinici:\")\n",
        "df_pazienti\n"
      ],
      "metadata": {
        "colab": {
          "base_uri": "https://localhost:8080/",
          "height": 207
        },
        "id": "AglCJIz7LlJU",
        "outputId": "f77f6fc5-1ba8-4387-b337-310eb65ad31c"
      },
      "execution_count": 13,
      "outputs": [
        {
          "output_type": "stream",
          "name": "stdout",
          "text": [
            "\n",
            "DataFrame dei dati clinici:\n"
          ]
        },
        {
          "output_type": "execute_result",
          "data": {
            "text/plain": [
              "  ID_Paziente  Età Sesso Diagnosi  MMSE\n",
              "0        P001   60     M       AD    22\n",
              "1        P002   75     F       PD    25\n",
              "2        P003   68     M       AD    18\n",
              "3        P004   55     F       HD    28"
            ],
            "text/html": [
              "\n",
              "  <div id=\"df-d6104914-2b52-436d-93c8-5a6947a809d8\" class=\"colab-df-container\">\n",
              "    <div>\n",
              "<style scoped>\n",
              "    .dataframe tbody tr th:only-of-type {\n",
              "        vertical-align: middle;\n",
              "    }\n",
              "\n",
              "    .dataframe tbody tr th {\n",
              "        vertical-align: top;\n",
              "    }\n",
              "\n",
              "    .dataframe thead th {\n",
              "        text-align: right;\n",
              "    }\n",
              "</style>\n",
              "<table border=\"1\" class=\"dataframe\">\n",
              "  <thead>\n",
              "    <tr style=\"text-align: right;\">\n",
              "      <th></th>\n",
              "      <th>ID_Paziente</th>\n",
              "      <th>Età</th>\n",
              "      <th>Sesso</th>\n",
              "      <th>Diagnosi</th>\n",
              "      <th>MMSE</th>\n",
              "    </tr>\n",
              "  </thead>\n",
              "  <tbody>\n",
              "    <tr>\n",
              "      <th>0</th>\n",
              "      <td>P001</td>\n",
              "      <td>60</td>\n",
              "      <td>M</td>\n",
              "      <td>AD</td>\n",
              "      <td>22</td>\n",
              "    </tr>\n",
              "    <tr>\n",
              "      <th>1</th>\n",
              "      <td>P002</td>\n",
              "      <td>75</td>\n",
              "      <td>F</td>\n",
              "      <td>PD</td>\n",
              "      <td>25</td>\n",
              "    </tr>\n",
              "    <tr>\n",
              "      <th>2</th>\n",
              "      <td>P003</td>\n",
              "      <td>68</td>\n",
              "      <td>M</td>\n",
              "      <td>AD</td>\n",
              "      <td>18</td>\n",
              "    </tr>\n",
              "    <tr>\n",
              "      <th>3</th>\n",
              "      <td>P004</td>\n",
              "      <td>55</td>\n",
              "      <td>F</td>\n",
              "      <td>HD</td>\n",
              "      <td>28</td>\n",
              "    </tr>\n",
              "  </tbody>\n",
              "</table>\n",
              "</div>\n",
              "    <div class=\"colab-df-buttons\">\n",
              "\n",
              "  <div class=\"colab-df-container\">\n",
              "    <button class=\"colab-df-convert\" onclick=\"convertToInteractive('df-d6104914-2b52-436d-93c8-5a6947a809d8')\"\n",
              "            title=\"Convert this dataframe to an interactive table.\"\n",
              "            style=\"display:none;\">\n",
              "\n",
              "  <svg xmlns=\"http://www.w3.org/2000/svg\" height=\"24px\" viewBox=\"0 -960 960 960\">\n",
              "    <path d=\"M120-120v-720h720v720H120Zm60-500h600v-160H180v160Zm220 220h160v-160H400v160Zm0 220h160v-160H400v160ZM180-400h160v-160H180v160Zm440 0h160v-160H620v160ZM180-180h160v-160H180v160Zm440 0h160v-160H620v160Z\"/>\n",
              "  </svg>\n",
              "    </button>\n",
              "\n",
              "  <style>\n",
              "    .colab-df-container {\n",
              "      display:flex;\n",
              "      gap: 12px;\n",
              "    }\n",
              "\n",
              "    .colab-df-convert {\n",
              "      background-color: #E8F0FE;\n",
              "      border: none;\n",
              "      border-radius: 50%;\n",
              "      cursor: pointer;\n",
              "      display: none;\n",
              "      fill: #1967D2;\n",
              "      height: 32px;\n",
              "      padding: 0 0 0 0;\n",
              "      width: 32px;\n",
              "    }\n",
              "\n",
              "    .colab-df-convert:hover {\n",
              "      background-color: #E2EBFA;\n",
              "      box-shadow: 0px 1px 2px rgba(60, 64, 67, 0.3), 0px 1px 3px 1px rgba(60, 64, 67, 0.15);\n",
              "      fill: #174EA6;\n",
              "    }\n",
              "\n",
              "    .colab-df-buttons div {\n",
              "      margin-bottom: 4px;\n",
              "    }\n",
              "\n",
              "    [theme=dark] .colab-df-convert {\n",
              "      background-color: #3B4455;\n",
              "      fill: #D2E3FC;\n",
              "    }\n",
              "\n",
              "    [theme=dark] .colab-df-convert:hover {\n",
              "      background-color: #434B5C;\n",
              "      box-shadow: 0px 1px 3px 1px rgba(0, 0, 0, 0.15);\n",
              "      filter: drop-shadow(0px 1px 2px rgba(0, 0, 0, 0.3));\n",
              "      fill: #FFFFFF;\n",
              "    }\n",
              "  </style>\n",
              "\n",
              "    <script>\n",
              "      const buttonEl =\n",
              "        document.querySelector('#df-d6104914-2b52-436d-93c8-5a6947a809d8 button.colab-df-convert');\n",
              "      buttonEl.style.display =\n",
              "        google.colab.kernel.accessAllowed ? 'block' : 'none';\n",
              "\n",
              "      async function convertToInteractive(key) {\n",
              "        const element = document.querySelector('#df-d6104914-2b52-436d-93c8-5a6947a809d8');\n",
              "        const dataTable =\n",
              "          await google.colab.kernel.invokeFunction('convertToInteractive',\n",
              "                                                    [key], {});\n",
              "        if (!dataTable) return;\n",
              "\n",
              "        const docLinkHtml = 'Like what you see? Visit the ' +\n",
              "          '<a target=\"_blank\" href=https://colab.research.google.com/notebooks/data_table.ipynb>data table notebook</a>'\n",
              "          + ' to learn more about interactive tables.';\n",
              "        element.innerHTML = '';\n",
              "        dataTable['output_type'] = 'display_data';\n",
              "        await google.colab.output.renderOutput(dataTable, element);\n",
              "        const docLink = document.createElement('div');\n",
              "        docLink.innerHTML = docLinkHtml;\n",
              "        element.appendChild(docLink);\n",
              "      }\n",
              "    </script>\n",
              "  </div>\n",
              "\n",
              "\n",
              "    <div id=\"df-51a0d851-b224-4e36-bd4b-125888db194c\">\n",
              "      <button class=\"colab-df-quickchart\" onclick=\"quickchart('df-51a0d851-b224-4e36-bd4b-125888db194c')\"\n",
              "                title=\"Suggest charts\"\n",
              "                style=\"display:none;\">\n",
              "\n",
              "<svg xmlns=\"http://www.w3.org/2000/svg\" height=\"24px\"viewBox=\"0 0 24 24\"\n",
              "     width=\"24px\">\n",
              "    <g>\n",
              "        <path d=\"M19 3H5c-1.1 0-2 .9-2 2v14c0 1.1.9 2 2 2h14c1.1 0 2-.9 2-2V5c0-1.1-.9-2-2-2zM9 17H7v-7h2v7zm4 0h-2V7h2v10zm4 0h-2v-4h2v4z\"/>\n",
              "    </g>\n",
              "</svg>\n",
              "      </button>\n",
              "\n",
              "<style>\n",
              "  .colab-df-quickchart {\n",
              "      --bg-color: #E8F0FE;\n",
              "      --fill-color: #1967D2;\n",
              "      --hover-bg-color: #E2EBFA;\n",
              "      --hover-fill-color: #174EA6;\n",
              "      --disabled-fill-color: #AAA;\n",
              "      --disabled-bg-color: #DDD;\n",
              "  }\n",
              "\n",
              "  [theme=dark] .colab-df-quickchart {\n",
              "      --bg-color: #3B4455;\n",
              "      --fill-color: #D2E3FC;\n",
              "      --hover-bg-color: #434B5C;\n",
              "      --hover-fill-color: #FFFFFF;\n",
              "      --disabled-bg-color: #3B4455;\n",
              "      --disabled-fill-color: #666;\n",
              "  }\n",
              "\n",
              "  .colab-df-quickchart {\n",
              "    background-color: var(--bg-color);\n",
              "    border: none;\n",
              "    border-radius: 50%;\n",
              "    cursor: pointer;\n",
              "    display: none;\n",
              "    fill: var(--fill-color);\n",
              "    height: 32px;\n",
              "    padding: 0;\n",
              "    width: 32px;\n",
              "  }\n",
              "\n",
              "  .colab-df-quickchart:hover {\n",
              "    background-color: var(--hover-bg-color);\n",
              "    box-shadow: 0 1px 2px rgba(60, 64, 67, 0.3), 0 1px 3px 1px rgba(60, 64, 67, 0.15);\n",
              "    fill: var(--button-hover-fill-color);\n",
              "  }\n",
              "\n",
              "  .colab-df-quickchart-complete:disabled,\n",
              "  .colab-df-quickchart-complete:disabled:hover {\n",
              "    background-color: var(--disabled-bg-color);\n",
              "    fill: var(--disabled-fill-color);\n",
              "    box-shadow: none;\n",
              "  }\n",
              "\n",
              "  .colab-df-spinner {\n",
              "    border: 2px solid var(--fill-color);\n",
              "    border-color: transparent;\n",
              "    border-bottom-color: var(--fill-color);\n",
              "    animation:\n",
              "      spin 1s steps(1) infinite;\n",
              "  }\n",
              "\n",
              "  @keyframes spin {\n",
              "    0% {\n",
              "      border-color: transparent;\n",
              "      border-bottom-color: var(--fill-color);\n",
              "      border-left-color: var(--fill-color);\n",
              "    }\n",
              "    20% {\n",
              "      border-color: transparent;\n",
              "      border-left-color: var(--fill-color);\n",
              "      border-top-color: var(--fill-color);\n",
              "    }\n",
              "    30% {\n",
              "      border-color: transparent;\n",
              "      border-left-color: var(--fill-color);\n",
              "      border-top-color: var(--fill-color);\n",
              "      border-right-color: var(--fill-color);\n",
              "    }\n",
              "    40% {\n",
              "      border-color: transparent;\n",
              "      border-right-color: var(--fill-color);\n",
              "      border-top-color: var(--fill-color);\n",
              "    }\n",
              "    60% {\n",
              "      border-color: transparent;\n",
              "      border-right-color: var(--fill-color);\n",
              "    }\n",
              "    80% {\n",
              "      border-color: transparent;\n",
              "      border-right-color: var(--fill-color);\n",
              "      border-bottom-color: var(--fill-color);\n",
              "    }\n",
              "    90% {\n",
              "      border-color: transparent;\n",
              "      border-bottom-color: var(--fill-color);\n",
              "    }\n",
              "  }\n",
              "</style>\n",
              "\n",
              "      <script>\n",
              "        async function quickchart(key) {\n",
              "          const quickchartButtonEl =\n",
              "            document.querySelector('#' + key + ' button');\n",
              "          quickchartButtonEl.disabled = true;  // To prevent multiple clicks.\n",
              "          quickchartButtonEl.classList.add('colab-df-spinner');\n",
              "          try {\n",
              "            const charts = await google.colab.kernel.invokeFunction(\n",
              "                'suggestCharts', [key], {});\n",
              "          } catch (error) {\n",
              "            console.error('Error during call to suggestCharts:', error);\n",
              "          }\n",
              "          quickchartButtonEl.classList.remove('colab-df-spinner');\n",
              "          quickchartButtonEl.classList.add('colab-df-quickchart-complete');\n",
              "        }\n",
              "        (() => {\n",
              "          let quickchartButtonEl =\n",
              "            document.querySelector('#df-51a0d851-b224-4e36-bd4b-125888db194c button');\n",
              "          quickchartButtonEl.style.display =\n",
              "            google.colab.kernel.accessAllowed ? 'block' : 'none';\n",
              "        })();\n",
              "      </script>\n",
              "    </div>\n",
              "\n",
              "  <div id=\"id_ebbede4a-8b19-40f6-87b4-22935311fc7a\">\n",
              "    <style>\n",
              "      .colab-df-generate {\n",
              "        background-color: #E8F0FE;\n",
              "        border: none;\n",
              "        border-radius: 50%;\n",
              "        cursor: pointer;\n",
              "        display: none;\n",
              "        fill: #1967D2;\n",
              "        height: 32px;\n",
              "        padding: 0 0 0 0;\n",
              "        width: 32px;\n",
              "      }\n",
              "\n",
              "      .colab-df-generate:hover {\n",
              "        background-color: #E2EBFA;\n",
              "        box-shadow: 0px 1px 2px rgba(60, 64, 67, 0.3), 0px 1px 3px 1px rgba(60, 64, 67, 0.15);\n",
              "        fill: #174EA6;\n",
              "      }\n",
              "\n",
              "      [theme=dark] .colab-df-generate {\n",
              "        background-color: #3B4455;\n",
              "        fill: #D2E3FC;\n",
              "      }\n",
              "\n",
              "      [theme=dark] .colab-df-generate:hover {\n",
              "        background-color: #434B5C;\n",
              "        box-shadow: 0px 1px 3px 1px rgba(0, 0, 0, 0.15);\n",
              "        filter: drop-shadow(0px 1px 2px rgba(0, 0, 0, 0.3));\n",
              "        fill: #FFFFFF;\n",
              "      }\n",
              "    </style>\n",
              "    <button class=\"colab-df-generate\" onclick=\"generateWithVariable('df_pazienti')\"\n",
              "            title=\"Generate code using this dataframe.\"\n",
              "            style=\"display:none;\">\n",
              "\n",
              "  <svg xmlns=\"http://www.w3.org/2000/svg\" height=\"24px\"viewBox=\"0 0 24 24\"\n",
              "       width=\"24px\">\n",
              "    <path d=\"M7,19H8.4L18.45,9,17,7.55,7,17.6ZM5,21V16.75L18.45,3.32a2,2,0,0,1,2.83,0l1.4,1.43a1.91,1.91,0,0,1,.58,1.4,1.91,1.91,0,0,1-.58,1.4L9.25,21ZM18.45,9,17,7.55Zm-12,3A5.31,5.31,0,0,0,4.9,8.1,5.31,5.31,0,0,0,1,6.5,5.31,5.31,0,0,0,4.9,4.9,5.31,5.31,0,0,0,6.5,1,5.31,5.31,0,0,0,8.1,4.9,5.31,5.31,0,0,0,12,6.5,5.46,5.46,0,0,0,6.5,12Z\"/>\n",
              "  </svg>\n",
              "    </button>\n",
              "    <script>\n",
              "      (() => {\n",
              "      const buttonEl =\n",
              "        document.querySelector('#id_ebbede4a-8b19-40f6-87b4-22935311fc7a button.colab-df-generate');\n",
              "      buttonEl.style.display =\n",
              "        google.colab.kernel.accessAllowed ? 'block' : 'none';\n",
              "\n",
              "      buttonEl.onclick = () => {\n",
              "        google.colab.notebook.generateWithVariable('df_pazienti');\n",
              "      }\n",
              "      })();\n",
              "    </script>\n",
              "  </div>\n",
              "\n",
              "    </div>\n",
              "  </div>\n"
            ],
            "application/vnd.google.colaboratory.intrinsic+json": {
              "type": "dataframe",
              "variable_name": "df_pazienti",
              "summary": "{\n  \"name\": \"df_pazienti\",\n  \"rows\": 4,\n  \"fields\": [\n    {\n      \"column\": \"ID_Paziente\",\n      \"properties\": {\n        \"dtype\": \"string\",\n        \"num_unique_values\": 4,\n        \"samples\": [\n          \"P002\",\n          \"P004\",\n          \"P001\"\n        ],\n        \"semantic_type\": \"\",\n        \"description\": \"\"\n      }\n    },\n    {\n      \"column\": \"Et\\u00e0\",\n      \"properties\": {\n        \"dtype\": \"number\",\n        \"std\": 8,\n        \"min\": 55,\n        \"max\": 75,\n        \"num_unique_values\": 4,\n        \"samples\": [\n          75,\n          55,\n          60\n        ],\n        \"semantic_type\": \"\",\n        \"description\": \"\"\n      }\n    },\n    {\n      \"column\": \"Sesso\",\n      \"properties\": {\n        \"dtype\": \"string\",\n        \"num_unique_values\": 2,\n        \"samples\": [\n          \"F\",\n          \"M\"\n        ],\n        \"semantic_type\": \"\",\n        \"description\": \"\"\n      }\n    },\n    {\n      \"column\": \"Diagnosi\",\n      \"properties\": {\n        \"dtype\": \"string\",\n        \"num_unique_values\": 3,\n        \"samples\": [\n          \"AD\",\n          \"PD\"\n        ],\n        \"semantic_type\": \"\",\n        \"description\": \"\"\n      }\n    },\n    {\n      \"column\": \"MMSE\",\n      \"properties\": {\n        \"dtype\": \"number\",\n        \"std\": 4,\n        \"min\": 18,\n        \"max\": 28,\n        \"num_unique_values\": 4,\n        \"samples\": [\n          25,\n          28\n        ],\n        \"semantic_type\": \"\",\n        \"description\": \"\"\n      }\n    }\n  ]\n}"
            }
          },
          "metadata": {},
          "execution_count": 13
        }
      ]
    },
    {
      "cell_type": "code",
      "source": [
        "# Visualizzare le prime righe\n",
        "print(\"\\nPrime 2 righe del DataFrame:\")\n",
        "df_pazienti.head(2)"
      ],
      "metadata": {
        "colab": {
          "base_uri": "https://localhost:8080/",
          "height": 145
        },
        "id": "hVnvNpoUMDLK",
        "outputId": "5b268321-1e6e-4197-a2f3-9052b6264239"
      },
      "execution_count": 14,
      "outputs": [
        {
          "output_type": "stream",
          "name": "stdout",
          "text": [
            "\n",
            "Prime 2 righe del DataFrame:\n"
          ]
        },
        {
          "output_type": "execute_result",
          "data": {
            "text/plain": [
              "  ID_Paziente  Età Sesso Diagnosi  MMSE\n",
              "0        P001   60     M       AD    22\n",
              "1        P002   75     F       PD    25"
            ],
            "text/html": [
              "\n",
              "  <div id=\"df-ec4cf52a-f0fc-4cb0-9585-c873c773e19b\" class=\"colab-df-container\">\n",
              "    <div>\n",
              "<style scoped>\n",
              "    .dataframe tbody tr th:only-of-type {\n",
              "        vertical-align: middle;\n",
              "    }\n",
              "\n",
              "    .dataframe tbody tr th {\n",
              "        vertical-align: top;\n",
              "    }\n",
              "\n",
              "    .dataframe thead th {\n",
              "        text-align: right;\n",
              "    }\n",
              "</style>\n",
              "<table border=\"1\" class=\"dataframe\">\n",
              "  <thead>\n",
              "    <tr style=\"text-align: right;\">\n",
              "      <th></th>\n",
              "      <th>ID_Paziente</th>\n",
              "      <th>Età</th>\n",
              "      <th>Sesso</th>\n",
              "      <th>Diagnosi</th>\n",
              "      <th>MMSE</th>\n",
              "    </tr>\n",
              "  </thead>\n",
              "  <tbody>\n",
              "    <tr>\n",
              "      <th>0</th>\n",
              "      <td>P001</td>\n",
              "      <td>60</td>\n",
              "      <td>M</td>\n",
              "      <td>AD</td>\n",
              "      <td>22</td>\n",
              "    </tr>\n",
              "    <tr>\n",
              "      <th>1</th>\n",
              "      <td>P002</td>\n",
              "      <td>75</td>\n",
              "      <td>F</td>\n",
              "      <td>PD</td>\n",
              "      <td>25</td>\n",
              "    </tr>\n",
              "  </tbody>\n",
              "</table>\n",
              "</div>\n",
              "    <div class=\"colab-df-buttons\">\n",
              "\n",
              "  <div class=\"colab-df-container\">\n",
              "    <button class=\"colab-df-convert\" onclick=\"convertToInteractive('df-ec4cf52a-f0fc-4cb0-9585-c873c773e19b')\"\n",
              "            title=\"Convert this dataframe to an interactive table.\"\n",
              "            style=\"display:none;\">\n",
              "\n",
              "  <svg xmlns=\"http://www.w3.org/2000/svg\" height=\"24px\" viewBox=\"0 -960 960 960\">\n",
              "    <path d=\"M120-120v-720h720v720H120Zm60-500h600v-160H180v160Zm220 220h160v-160H400v160Zm0 220h160v-160H400v160ZM180-400h160v-160H180v160Zm440 0h160v-160H620v160ZM180-180h160v-160H180v160Zm440 0h160v-160H620v160Z\"/>\n",
              "  </svg>\n",
              "    </button>\n",
              "\n",
              "  <style>\n",
              "    .colab-df-container {\n",
              "      display:flex;\n",
              "      gap: 12px;\n",
              "    }\n",
              "\n",
              "    .colab-df-convert {\n",
              "      background-color: #E8F0FE;\n",
              "      border: none;\n",
              "      border-radius: 50%;\n",
              "      cursor: pointer;\n",
              "      display: none;\n",
              "      fill: #1967D2;\n",
              "      height: 32px;\n",
              "      padding: 0 0 0 0;\n",
              "      width: 32px;\n",
              "    }\n",
              "\n",
              "    .colab-df-convert:hover {\n",
              "      background-color: #E2EBFA;\n",
              "      box-shadow: 0px 1px 2px rgba(60, 64, 67, 0.3), 0px 1px 3px 1px rgba(60, 64, 67, 0.15);\n",
              "      fill: #174EA6;\n",
              "    }\n",
              "\n",
              "    .colab-df-buttons div {\n",
              "      margin-bottom: 4px;\n",
              "    }\n",
              "\n",
              "    [theme=dark] .colab-df-convert {\n",
              "      background-color: #3B4455;\n",
              "      fill: #D2E3FC;\n",
              "    }\n",
              "\n",
              "    [theme=dark] .colab-df-convert:hover {\n",
              "      background-color: #434B5C;\n",
              "      box-shadow: 0px 1px 3px 1px rgba(0, 0, 0, 0.15);\n",
              "      filter: drop-shadow(0px 1px 2px rgba(0, 0, 0, 0.3));\n",
              "      fill: #FFFFFF;\n",
              "    }\n",
              "  </style>\n",
              "\n",
              "    <script>\n",
              "      const buttonEl =\n",
              "        document.querySelector('#df-ec4cf52a-f0fc-4cb0-9585-c873c773e19b button.colab-df-convert');\n",
              "      buttonEl.style.display =\n",
              "        google.colab.kernel.accessAllowed ? 'block' : 'none';\n",
              "\n",
              "      async function convertToInteractive(key) {\n",
              "        const element = document.querySelector('#df-ec4cf52a-f0fc-4cb0-9585-c873c773e19b');\n",
              "        const dataTable =\n",
              "          await google.colab.kernel.invokeFunction('convertToInteractive',\n",
              "                                                    [key], {});\n",
              "        if (!dataTable) return;\n",
              "\n",
              "        const docLinkHtml = 'Like what you see? Visit the ' +\n",
              "          '<a target=\"_blank\" href=https://colab.research.google.com/notebooks/data_table.ipynb>data table notebook</a>'\n",
              "          + ' to learn more about interactive tables.';\n",
              "        element.innerHTML = '';\n",
              "        dataTable['output_type'] = 'display_data';\n",
              "        await google.colab.output.renderOutput(dataTable, element);\n",
              "        const docLink = document.createElement('div');\n",
              "        docLink.innerHTML = docLinkHtml;\n",
              "        element.appendChild(docLink);\n",
              "      }\n",
              "    </script>\n",
              "  </div>\n",
              "\n",
              "\n",
              "    <div id=\"df-c9a33797-4ec1-4561-a634-5741813ffece\">\n",
              "      <button class=\"colab-df-quickchart\" onclick=\"quickchart('df-c9a33797-4ec1-4561-a634-5741813ffece')\"\n",
              "                title=\"Suggest charts\"\n",
              "                style=\"display:none;\">\n",
              "\n",
              "<svg xmlns=\"http://www.w3.org/2000/svg\" height=\"24px\"viewBox=\"0 0 24 24\"\n",
              "     width=\"24px\">\n",
              "    <g>\n",
              "        <path d=\"M19 3H5c-1.1 0-2 .9-2 2v14c0 1.1.9 2 2 2h14c1.1 0 2-.9 2-2V5c0-1.1-.9-2-2-2zM9 17H7v-7h2v7zm4 0h-2V7h2v10zm4 0h-2v-4h2v4z\"/>\n",
              "    </g>\n",
              "</svg>\n",
              "      </button>\n",
              "\n",
              "<style>\n",
              "  .colab-df-quickchart {\n",
              "      --bg-color: #E8F0FE;\n",
              "      --fill-color: #1967D2;\n",
              "      --hover-bg-color: #E2EBFA;\n",
              "      --hover-fill-color: #174EA6;\n",
              "      --disabled-fill-color: #AAA;\n",
              "      --disabled-bg-color: #DDD;\n",
              "  }\n",
              "\n",
              "  [theme=dark] .colab-df-quickchart {\n",
              "      --bg-color: #3B4455;\n",
              "      --fill-color: #D2E3FC;\n",
              "      --hover-bg-color: #434B5C;\n",
              "      --hover-fill-color: #FFFFFF;\n",
              "      --disabled-bg-color: #3B4455;\n",
              "      --disabled-fill-color: #666;\n",
              "  }\n",
              "\n",
              "  .colab-df-quickchart {\n",
              "    background-color: var(--bg-color);\n",
              "    border: none;\n",
              "    border-radius: 50%;\n",
              "    cursor: pointer;\n",
              "    display: none;\n",
              "    fill: var(--fill-color);\n",
              "    height: 32px;\n",
              "    padding: 0;\n",
              "    width: 32px;\n",
              "  }\n",
              "\n",
              "  .colab-df-quickchart:hover {\n",
              "    background-color: var(--hover-bg-color);\n",
              "    box-shadow: 0 1px 2px rgba(60, 64, 67, 0.3), 0 1px 3px 1px rgba(60, 64, 67, 0.15);\n",
              "    fill: var(--button-hover-fill-color);\n",
              "  }\n",
              "\n",
              "  .colab-df-quickchart-complete:disabled,\n",
              "  .colab-df-quickchart-complete:disabled:hover {\n",
              "    background-color: var(--disabled-bg-color);\n",
              "    fill: var(--disabled-fill-color);\n",
              "    box-shadow: none;\n",
              "  }\n",
              "\n",
              "  .colab-df-spinner {\n",
              "    border: 2px solid var(--fill-color);\n",
              "    border-color: transparent;\n",
              "    border-bottom-color: var(--fill-color);\n",
              "    animation:\n",
              "      spin 1s steps(1) infinite;\n",
              "  }\n",
              "\n",
              "  @keyframes spin {\n",
              "    0% {\n",
              "      border-color: transparent;\n",
              "      border-bottom-color: var(--fill-color);\n",
              "      border-left-color: var(--fill-color);\n",
              "    }\n",
              "    20% {\n",
              "      border-color: transparent;\n",
              "      border-left-color: var(--fill-color);\n",
              "      border-top-color: var(--fill-color);\n",
              "    }\n",
              "    30% {\n",
              "      border-color: transparent;\n",
              "      border-left-color: var(--fill-color);\n",
              "      border-top-color: var(--fill-color);\n",
              "      border-right-color: var(--fill-color);\n",
              "    }\n",
              "    40% {\n",
              "      border-color: transparent;\n",
              "      border-right-color: var(--fill-color);\n",
              "      border-top-color: var(--fill-color);\n",
              "    }\n",
              "    60% {\n",
              "      border-color: transparent;\n",
              "      border-right-color: var(--fill-color);\n",
              "    }\n",
              "    80% {\n",
              "      border-color: transparent;\n",
              "      border-right-color: var(--fill-color);\n",
              "      border-bottom-color: var(--fill-color);\n",
              "    }\n",
              "    90% {\n",
              "      border-color: transparent;\n",
              "      border-bottom-color: var(--fill-color);\n",
              "    }\n",
              "  }\n",
              "</style>\n",
              "\n",
              "      <script>\n",
              "        async function quickchart(key) {\n",
              "          const quickchartButtonEl =\n",
              "            document.querySelector('#' + key + ' button');\n",
              "          quickchartButtonEl.disabled = true;  // To prevent multiple clicks.\n",
              "          quickchartButtonEl.classList.add('colab-df-spinner');\n",
              "          try {\n",
              "            const charts = await google.colab.kernel.invokeFunction(\n",
              "                'suggestCharts', [key], {});\n",
              "          } catch (error) {\n",
              "            console.error('Error during call to suggestCharts:', error);\n",
              "          }\n",
              "          quickchartButtonEl.classList.remove('colab-df-spinner');\n",
              "          quickchartButtonEl.classList.add('colab-df-quickchart-complete');\n",
              "        }\n",
              "        (() => {\n",
              "          let quickchartButtonEl =\n",
              "            document.querySelector('#df-c9a33797-4ec1-4561-a634-5741813ffece button');\n",
              "          quickchartButtonEl.style.display =\n",
              "            google.colab.kernel.accessAllowed ? 'block' : 'none';\n",
              "        })();\n",
              "      </script>\n",
              "    </div>\n",
              "\n",
              "    </div>\n",
              "  </div>\n"
            ],
            "application/vnd.google.colaboratory.intrinsic+json": {
              "type": "dataframe",
              "variable_name": "df_pazienti",
              "summary": "{\n  \"name\": \"df_pazienti\",\n  \"rows\": 4,\n  \"fields\": [\n    {\n      \"column\": \"ID_Paziente\",\n      \"properties\": {\n        \"dtype\": \"string\",\n        \"num_unique_values\": 4,\n        \"samples\": [\n          \"P002\",\n          \"P004\",\n          \"P001\"\n        ],\n        \"semantic_type\": \"\",\n        \"description\": \"\"\n      }\n    },\n    {\n      \"column\": \"Et\\u00e0\",\n      \"properties\": {\n        \"dtype\": \"number\",\n        \"std\": 8,\n        \"min\": 55,\n        \"max\": 75,\n        \"num_unique_values\": 4,\n        \"samples\": [\n          75,\n          55,\n          60\n        ],\n        \"semantic_type\": \"\",\n        \"description\": \"\"\n      }\n    },\n    {\n      \"column\": \"Sesso\",\n      \"properties\": {\n        \"dtype\": \"string\",\n        \"num_unique_values\": 2,\n        \"samples\": [\n          \"F\",\n          \"M\"\n        ],\n        \"semantic_type\": \"\",\n        \"description\": \"\"\n      }\n    },\n    {\n      \"column\": \"Diagnosi\",\n      \"properties\": {\n        \"dtype\": \"string\",\n        \"num_unique_values\": 3,\n        \"samples\": [\n          \"AD\",\n          \"PD\"\n        ],\n        \"semantic_type\": \"\",\n        \"description\": \"\"\n      }\n    },\n    {\n      \"column\": \"MMSE\",\n      \"properties\": {\n        \"dtype\": \"number\",\n        \"std\": 4,\n        \"min\": 18,\n        \"max\": 28,\n        \"num_unique_values\": 4,\n        \"samples\": [\n          25,\n          28\n        ],\n        \"semantic_type\": \"\",\n        \"description\": \"\"\n      }\n    }\n  ]\n}"
            }
          },
          "metadata": {},
          "execution_count": 14
        }
      ]
    },
    {
      "cell_type": "code",
      "source": [
        "# Visualizzare informazioni sul DataFrame\n",
        "print(\"\\nInformazioni sul DataFrame:\")\n",
        "df_pazienti.info()"
      ],
      "metadata": {
        "colab": {
          "base_uri": "https://localhost:8080/"
        },
        "id": "hsKbSSHwMGQQ",
        "outputId": "098a9cda-39dc-48cf-c5da-e7c3e538ea3e"
      },
      "execution_count": 15,
      "outputs": [
        {
          "output_type": "stream",
          "name": "stdout",
          "text": [
            "\n",
            "Informazioni sul DataFrame:\n",
            "<class 'pandas.core.frame.DataFrame'>\n",
            "RangeIndex: 4 entries, 0 to 3\n",
            "Data columns (total 5 columns):\n",
            " #   Column       Non-Null Count  Dtype \n",
            "---  ------       --------------  ----- \n",
            " 0   ID_Paziente  4 non-null      object\n",
            " 1   Età          4 non-null      int64 \n",
            " 2   Sesso        4 non-null      object\n",
            " 3   Diagnosi     4 non-null      object\n",
            " 4   MMSE         4 non-null      int64 \n",
            "dtypes: int64(2), object(3)\n",
            "memory usage: 292.0+ bytes\n"
          ]
        }
      ]
    },
    {
      "cell_type": "code",
      "source": [
        "\n",
        "\n",
        "# Statistiche descrittive\n",
        "print(\"\\nStatistiche descrittive della colonna 'Età':\")\n",
        "df_pazienti['Età'].describe()"
      ],
      "metadata": {
        "colab": {
          "base_uri": "https://localhost:8080/",
          "height": 365
        },
        "id": "zJ9e9GWCMIqD",
        "outputId": "60a6abf1-933e-4173-c438-ae22763ed7e2"
      },
      "execution_count": 16,
      "outputs": [
        {
          "output_type": "stream",
          "name": "stdout",
          "text": [
            "\n",
            "Statistiche descrittive della colonna 'Età':\n"
          ]
        },
        {
          "output_type": "execute_result",
          "data": {
            "text/plain": [
              "count     4.000000\n",
              "mean     64.500000\n",
              "std       8.812869\n",
              "min      55.000000\n",
              "25%      58.750000\n",
              "50%      64.000000\n",
              "75%      69.750000\n",
              "max      75.000000\n",
              "Name: Età, dtype: float64"
            ],
            "text/html": [
              "<div>\n",
              "<style scoped>\n",
              "    .dataframe tbody tr th:only-of-type {\n",
              "        vertical-align: middle;\n",
              "    }\n",
              "\n",
              "    .dataframe tbody tr th {\n",
              "        vertical-align: top;\n",
              "    }\n",
              "\n",
              "    .dataframe thead th {\n",
              "        text-align: right;\n",
              "    }\n",
              "</style>\n",
              "<table border=\"1\" class=\"dataframe\">\n",
              "  <thead>\n",
              "    <tr style=\"text-align: right;\">\n",
              "      <th></th>\n",
              "      <th>Età</th>\n",
              "    </tr>\n",
              "  </thead>\n",
              "  <tbody>\n",
              "    <tr>\n",
              "      <th>count</th>\n",
              "      <td>4.000000</td>\n",
              "    </tr>\n",
              "    <tr>\n",
              "      <th>mean</th>\n",
              "      <td>64.500000</td>\n",
              "    </tr>\n",
              "    <tr>\n",
              "      <th>std</th>\n",
              "      <td>8.812869</td>\n",
              "    </tr>\n",
              "    <tr>\n",
              "      <th>min</th>\n",
              "      <td>55.000000</td>\n",
              "    </tr>\n",
              "    <tr>\n",
              "      <th>25%</th>\n",
              "      <td>58.750000</td>\n",
              "    </tr>\n",
              "    <tr>\n",
              "      <th>50%</th>\n",
              "      <td>64.000000</td>\n",
              "    </tr>\n",
              "    <tr>\n",
              "      <th>75%</th>\n",
              "      <td>69.750000</td>\n",
              "    </tr>\n",
              "    <tr>\n",
              "      <th>max</th>\n",
              "      <td>75.000000</td>\n",
              "    </tr>\n",
              "  </tbody>\n",
              "</table>\n",
              "</div><br><label><b>dtype:</b> float64</label>"
            ]
          },
          "metadata": {},
          "execution_count": 16
        }
      ]
    },
    {
      "cell_type": "code",
      "source": [
        "# Selezione di colonne\n",
        "print(\"\\nSolo colonna 'Diagnosi':\")\n",
        "df_pazienti['Diagnosi']"
      ],
      "metadata": {
        "colab": {
          "base_uri": "https://localhost:8080/",
          "height": 241
        },
        "id": "NMW-NP62MK7T",
        "outputId": "b1dd1ccb-fbdc-41ab-f3fb-181498702040"
      },
      "execution_count": 17,
      "outputs": [
        {
          "output_type": "stream",
          "name": "stdout",
          "text": [
            "\n",
            "Solo colonna 'Diagnosi':\n"
          ]
        },
        {
          "output_type": "execute_result",
          "data": {
            "text/plain": [
              "0    AD\n",
              "1    PD\n",
              "2    AD\n",
              "3    HD\n",
              "Name: Diagnosi, dtype: object"
            ],
            "text/html": [
              "<div>\n",
              "<style scoped>\n",
              "    .dataframe tbody tr th:only-of-type {\n",
              "        vertical-align: middle;\n",
              "    }\n",
              "\n",
              "    .dataframe tbody tr th {\n",
              "        vertical-align: top;\n",
              "    }\n",
              "\n",
              "    .dataframe thead th {\n",
              "        text-align: right;\n",
              "    }\n",
              "</style>\n",
              "<table border=\"1\" class=\"dataframe\">\n",
              "  <thead>\n",
              "    <tr style=\"text-align: right;\">\n",
              "      <th></th>\n",
              "      <th>Diagnosi</th>\n",
              "    </tr>\n",
              "  </thead>\n",
              "  <tbody>\n",
              "    <tr>\n",
              "      <th>0</th>\n",
              "      <td>AD</td>\n",
              "    </tr>\n",
              "    <tr>\n",
              "      <th>1</th>\n",
              "      <td>PD</td>\n",
              "    </tr>\n",
              "    <tr>\n",
              "      <th>2</th>\n",
              "      <td>AD</td>\n",
              "    </tr>\n",
              "    <tr>\n",
              "      <th>3</th>\n",
              "      <td>HD</td>\n",
              "    </tr>\n",
              "  </tbody>\n",
              "</table>\n",
              "</div><br><label><b>dtype:</b> object</label>"
            ]
          },
          "metadata": {},
          "execution_count": 17
        }
      ]
    },
    {
      "cell_type": "code",
      "source": [
        "# Filtro dati (es. pazienti con MMSE < 20)\n",
        "pazienti_basso_mmse = df_pazienti[df_pazienti['MMSE'] < 20]\n",
        "print(\"\\nPazienti con MMSE < 20:\")\n",
        "pazienti_basso_mmse"
      ],
      "metadata": {
        "colab": {
          "base_uri": "https://localhost:8080/",
          "height": 123
        },
        "id": "hFrEGqXmMK0k",
        "outputId": "6aad4d23-3a53-46cc-e981-0b84b9217e1f"
      },
      "execution_count": 18,
      "outputs": [
        {
          "output_type": "stream",
          "name": "stdout",
          "text": [
            "\n",
            "Pazienti con MMSE < 20:\n"
          ]
        },
        {
          "output_type": "execute_result",
          "data": {
            "text/plain": [
              "  ID_Paziente  Età Sesso Diagnosi  MMSE\n",
              "2        P003   68     M       AD    18"
            ],
            "text/html": [
              "\n",
              "  <div id=\"df-38ae2bdf-3526-4b69-bd31-06aba632d1f6\" class=\"colab-df-container\">\n",
              "    <div>\n",
              "<style scoped>\n",
              "    .dataframe tbody tr th:only-of-type {\n",
              "        vertical-align: middle;\n",
              "    }\n",
              "\n",
              "    .dataframe tbody tr th {\n",
              "        vertical-align: top;\n",
              "    }\n",
              "\n",
              "    .dataframe thead th {\n",
              "        text-align: right;\n",
              "    }\n",
              "</style>\n",
              "<table border=\"1\" class=\"dataframe\">\n",
              "  <thead>\n",
              "    <tr style=\"text-align: right;\">\n",
              "      <th></th>\n",
              "      <th>ID_Paziente</th>\n",
              "      <th>Età</th>\n",
              "      <th>Sesso</th>\n",
              "      <th>Diagnosi</th>\n",
              "      <th>MMSE</th>\n",
              "    </tr>\n",
              "  </thead>\n",
              "  <tbody>\n",
              "    <tr>\n",
              "      <th>2</th>\n",
              "      <td>P003</td>\n",
              "      <td>68</td>\n",
              "      <td>M</td>\n",
              "      <td>AD</td>\n",
              "      <td>18</td>\n",
              "    </tr>\n",
              "  </tbody>\n",
              "</table>\n",
              "</div>\n",
              "    <div class=\"colab-df-buttons\">\n",
              "\n",
              "  <div class=\"colab-df-container\">\n",
              "    <button class=\"colab-df-convert\" onclick=\"convertToInteractive('df-38ae2bdf-3526-4b69-bd31-06aba632d1f6')\"\n",
              "            title=\"Convert this dataframe to an interactive table.\"\n",
              "            style=\"display:none;\">\n",
              "\n",
              "  <svg xmlns=\"http://www.w3.org/2000/svg\" height=\"24px\" viewBox=\"0 -960 960 960\">\n",
              "    <path d=\"M120-120v-720h720v720H120Zm60-500h600v-160H180v160Zm220 220h160v-160H400v160Zm0 220h160v-160H400v160ZM180-400h160v-160H180v160Zm440 0h160v-160H620v160ZM180-180h160v-160H180v160Zm440 0h160v-160H620v160Z\"/>\n",
              "  </svg>\n",
              "    </button>\n",
              "\n",
              "  <style>\n",
              "    .colab-df-container {\n",
              "      display:flex;\n",
              "      gap: 12px;\n",
              "    }\n",
              "\n",
              "    .colab-df-convert {\n",
              "      background-color: #E8F0FE;\n",
              "      border: none;\n",
              "      border-radius: 50%;\n",
              "      cursor: pointer;\n",
              "      display: none;\n",
              "      fill: #1967D2;\n",
              "      height: 32px;\n",
              "      padding: 0 0 0 0;\n",
              "      width: 32px;\n",
              "    }\n",
              "\n",
              "    .colab-df-convert:hover {\n",
              "      background-color: #E2EBFA;\n",
              "      box-shadow: 0px 1px 2px rgba(60, 64, 67, 0.3), 0px 1px 3px 1px rgba(60, 64, 67, 0.15);\n",
              "      fill: #174EA6;\n",
              "    }\n",
              "\n",
              "    .colab-df-buttons div {\n",
              "      margin-bottom: 4px;\n",
              "    }\n",
              "\n",
              "    [theme=dark] .colab-df-convert {\n",
              "      background-color: #3B4455;\n",
              "      fill: #D2E3FC;\n",
              "    }\n",
              "\n",
              "    [theme=dark] .colab-df-convert:hover {\n",
              "      background-color: #434B5C;\n",
              "      box-shadow: 0px 1px 3px 1px rgba(0, 0, 0, 0.15);\n",
              "      filter: drop-shadow(0px 1px 2px rgba(0, 0, 0, 0.3));\n",
              "      fill: #FFFFFF;\n",
              "    }\n",
              "  </style>\n",
              "\n",
              "    <script>\n",
              "      const buttonEl =\n",
              "        document.querySelector('#df-38ae2bdf-3526-4b69-bd31-06aba632d1f6 button.colab-df-convert');\n",
              "      buttonEl.style.display =\n",
              "        google.colab.kernel.accessAllowed ? 'block' : 'none';\n",
              "\n",
              "      async function convertToInteractive(key) {\n",
              "        const element = document.querySelector('#df-38ae2bdf-3526-4b69-bd31-06aba632d1f6');\n",
              "        const dataTable =\n",
              "          await google.colab.kernel.invokeFunction('convertToInteractive',\n",
              "                                                    [key], {});\n",
              "        if (!dataTable) return;\n",
              "\n",
              "        const docLinkHtml = 'Like what you see? Visit the ' +\n",
              "          '<a target=\"_blank\" href=https://colab.research.google.com/notebooks/data_table.ipynb>data table notebook</a>'\n",
              "          + ' to learn more about interactive tables.';\n",
              "        element.innerHTML = '';\n",
              "        dataTable['output_type'] = 'display_data';\n",
              "        await google.colab.output.renderOutput(dataTable, element);\n",
              "        const docLink = document.createElement('div');\n",
              "        docLink.innerHTML = docLinkHtml;\n",
              "        element.appendChild(docLink);\n",
              "      }\n",
              "    </script>\n",
              "  </div>\n",
              "\n",
              "\n",
              "  <div id=\"id_b5b9fa13-5c15-4ff2-90e6-efe5f67be0cd\">\n",
              "    <style>\n",
              "      .colab-df-generate {\n",
              "        background-color: #E8F0FE;\n",
              "        border: none;\n",
              "        border-radius: 50%;\n",
              "        cursor: pointer;\n",
              "        display: none;\n",
              "        fill: #1967D2;\n",
              "        height: 32px;\n",
              "        padding: 0 0 0 0;\n",
              "        width: 32px;\n",
              "      }\n",
              "\n",
              "      .colab-df-generate:hover {\n",
              "        background-color: #E2EBFA;\n",
              "        box-shadow: 0px 1px 2px rgba(60, 64, 67, 0.3), 0px 1px 3px 1px rgba(60, 64, 67, 0.15);\n",
              "        fill: #174EA6;\n",
              "      }\n",
              "\n",
              "      [theme=dark] .colab-df-generate {\n",
              "        background-color: #3B4455;\n",
              "        fill: #D2E3FC;\n",
              "      }\n",
              "\n",
              "      [theme=dark] .colab-df-generate:hover {\n",
              "        background-color: #434B5C;\n",
              "        box-shadow: 0px 1px 3px 1px rgba(0, 0, 0, 0.15);\n",
              "        filter: drop-shadow(0px 1px 2px rgba(0, 0, 0, 0.3));\n",
              "        fill: #FFFFFF;\n",
              "      }\n",
              "    </style>\n",
              "    <button class=\"colab-df-generate\" onclick=\"generateWithVariable('pazienti_basso_mmse')\"\n",
              "            title=\"Generate code using this dataframe.\"\n",
              "            style=\"display:none;\">\n",
              "\n",
              "  <svg xmlns=\"http://www.w3.org/2000/svg\" height=\"24px\"viewBox=\"0 0 24 24\"\n",
              "       width=\"24px\">\n",
              "    <path d=\"M7,19H8.4L18.45,9,17,7.55,7,17.6ZM5,21V16.75L18.45,3.32a2,2,0,0,1,2.83,0l1.4,1.43a1.91,1.91,0,0,1,.58,1.4,1.91,1.91,0,0,1-.58,1.4L9.25,21ZM18.45,9,17,7.55Zm-12,3A5.31,5.31,0,0,0,4.9,8.1,5.31,5.31,0,0,0,1,6.5,5.31,5.31,0,0,0,4.9,4.9,5.31,5.31,0,0,0,6.5,1,5.31,5.31,0,0,0,8.1,4.9,5.31,5.31,0,0,0,12,6.5,5.46,5.46,0,0,0,6.5,12Z\"/>\n",
              "  </svg>\n",
              "    </button>\n",
              "    <script>\n",
              "      (() => {\n",
              "      const buttonEl =\n",
              "        document.querySelector('#id_b5b9fa13-5c15-4ff2-90e6-efe5f67be0cd button.colab-df-generate');\n",
              "      buttonEl.style.display =\n",
              "        google.colab.kernel.accessAllowed ? 'block' : 'none';\n",
              "\n",
              "      buttonEl.onclick = () => {\n",
              "        google.colab.notebook.generateWithVariable('pazienti_basso_mmse');\n",
              "      }\n",
              "      })();\n",
              "    </script>\n",
              "  </div>\n",
              "\n",
              "    </div>\n",
              "  </div>\n"
            ],
            "application/vnd.google.colaboratory.intrinsic+json": {
              "type": "dataframe",
              "variable_name": "pazienti_basso_mmse",
              "summary": "{\n  \"name\": \"pazienti_basso_mmse\",\n  \"rows\": 1,\n  \"fields\": [\n    {\n      \"column\": \"ID_Paziente\",\n      \"properties\": {\n        \"dtype\": \"string\",\n        \"num_unique_values\": 1,\n        \"samples\": [\n          \"P003\"\n        ],\n        \"semantic_type\": \"\",\n        \"description\": \"\"\n      }\n    },\n    {\n      \"column\": \"Et\\u00e0\",\n      \"properties\": {\n        \"dtype\": \"number\",\n        \"std\": null,\n        \"min\": 68,\n        \"max\": 68,\n        \"num_unique_values\": 1,\n        \"samples\": [\n          68\n        ],\n        \"semantic_type\": \"\",\n        \"description\": \"\"\n      }\n    },\n    {\n      \"column\": \"Sesso\",\n      \"properties\": {\n        \"dtype\": \"string\",\n        \"num_unique_values\": 1,\n        \"samples\": [\n          \"M\"\n        ],\n        \"semantic_type\": \"\",\n        \"description\": \"\"\n      }\n    },\n    {\n      \"column\": \"Diagnosi\",\n      \"properties\": {\n        \"dtype\": \"string\",\n        \"num_unique_values\": 1,\n        \"samples\": [\n          \"AD\"\n        ],\n        \"semantic_type\": \"\",\n        \"description\": \"\"\n      }\n    },\n    {\n      \"column\": \"MMSE\",\n      \"properties\": {\n        \"dtype\": \"number\",\n        \"std\": null,\n        \"min\": 18,\n        \"max\": 18,\n        \"num_unique_values\": 1,\n        \"samples\": [\n          18\n        ],\n        \"semantic_type\": \"\",\n        \"description\": \"\"\n      }\n    }\n  ]\n}"
            }
          },
          "metadata": {},
          "execution_count": 18
        }
      ]
    },
    {
      "cell_type": "markdown",
      "source": [
        "## 4. Principi base dell'IA e Machine Learning\n",
        "Questa sezione introdurrà i concetti fondamentali che stanno alla base dell'Intelligenza Artificiale (IA) e del Machine Learning (ML), specificamente nel contesto delle loro applicazioni in neurologia."
      ],
      "metadata": {
        "id": "P8JDYx46NYRw"
      }
    },
    {
      "cell_type": "markdown",
      "source": [
        "### 4.1. Cosa sono IA e ML e come si relazionano con la ricerca in neurologia\n",
        "\n",
        "- **Intelligenza Artificiale (IA)**: È un campo vasto dell'informatica che mira a creare macchine o sistemi capaci di svolgere compiti che, se eseguiti da esseri umani, richiederebbero intelligenza. Questo include ragionamento, apprendimento, percezione, comprensione del linguaggio e problem solving.\n",
        " - **In Neurologia**: L'IA può supportare la diagnosi precoce (es. Alzheimer da scansioni cerebrali), la personalizzazione dei trattamenti, la previsione della progressione di malattie e l'analisi di pattern complessi nei dati neuroscientifici.\n",
        "\n",
        "- **Machine Learning** (ML - Apprendimento Automatico): È una sotto-disciplina dell'IA. Invece di programmare esplicitamente ogni regola, il ML permette ai sistemi di \"imparare\" dai dati. Vengono forniti grandi set di dati e il sistema identifica autonomamente pattern, fa previsioni o prende decisioni. È come insegnare mostrando esempi.\n",
        " - **In Neurologia**: Il ML è cruciale per analizzare coorti di pazienti, scoprire biomarcatori da dati multimodali (es. genetica + imaging), prevedere la risposta a farmaci (es. nell'epilessia), o segmentare automaticamente le lesioni cerebrali."
      ],
      "metadata": {
        "id": "-8bIhsjPSbR5"
      }
    },
    {
      "cell_type": "markdown",
      "source": [
        "### 4.2. Introduzione al concetto di Modello e Algoritmo\n",
        "\n",
        "Questi due termini sono centrali nel Machine Learning e, sebbene correlati, rappresentano concetti distinti.\n",
        "\n",
        "**Modello** (Il \"cervello\" addestrato che fa previsioni)\n",
        "\n",
        "- **Cos'è**: Immaginate il modello come il risultato finale del processo di apprendimento. Non è solo la sua architettura (la sua struttura di base, come una rete neurale con i suoi strati e connessioni), ma è l'architettura addestrata. È la struttura che ha \"imparato\" dai dati, con tutti i suoi \"pesi\" e \"bias\" (i parametri interni che sono stati regolati durante l'apprendimento) che le permettono di prendere decisioni o fare previsioni su nuovi dati.\n",
        " - **Analogia Medica**: Pensate a un medico esperto. Il modello è l'insieme delle sue conoscenze consolidate, la sua capacità di riconoscere una malattia dai sintomi, di interpretare un'immagine diagnostica, o di prevedere una prognosi, basandosi su anni di esperienza e dati clinici acquisiti. È il \"motore predittivo\" pronto all'uso.\n",
        "- **In pratica**: Se un modello è stato addestrato per riconoscere i segni precoci della demenza da un pattern di atrofia cerebrale su una RM, quando gli presentate una nuova risonanza, è il modello (con i suoi parametri interni ottimizzati) che la analizza e vi fornisce una predizione o una classificazione.\n",
        "\n",
        "**L'Algoritmo** (La \"ricetta\" o il \"processo\" per addestrare il Modello)\n",
        "\n",
        "- **Cos'è**: L'algoritmo è il processo, la procedura o la ricetta che viene utilizzata per costruire o addestrare il modello a partire dai dati. È l'insieme di istruzioni passo-passo che il computer segue per imparare. Non è il risultato finale, ma il \"metodo\" per arrivarci.\n",
        "  - Analogia Medica: Riprendendo l'esempio del medico, l'algoritmo è il metodo di studio che ha seguito: i libri letti, i corsi frequentati, i tirocini in ospedale, le ore di pratica e supervisione. È il processo iterativo attraverso cui ha imparato a distinguere tra diverse patologie, a raffinare la sua diagnosi e a migliorare le sue previsioni.\n",
        "- **Componenti dell'Algoritmo di Addestramento**: Quando parliamo di algoritmo nel contesto del Machine Learning, spesso ci riferiamo all'algoritmo di addestramento che regola i parametri del modello. Questi includono:\n",
        "  - **Funzione di Loss (o Costo)**: Una misura numerica di quanto il modello sta sbagliando rispetto alla \"verità\" dei dati di addestramento. L'obiettivo dell'algoritmo è minimizzare questa \"perdita\".\n",
        "  - **Ottimizzatore:** L'algoritmo matematico che decide come modificare i parametri interni del modello (i pesi) per ridurre la funzione di loss. Esempi comuni sono la Discesa del Gradiente (Gradient Descent) e le sue varianti (Adam, RMSprop).\n",
        "  - **Learning Rate:** Un parametro dell'ottimizzatore che determina la \"dimensione del passo\" con cui i parametri del modello vengono aggiornati in ogni iterazione. Un learning rate troppo alto può far \"saltare\" l'ottimizzazione, uno troppo basso può renderla estremamente lenta.\n",
        "  - **Epoche:** Il numero di volte che l'intero dataset di addestramento viene mostrato all'algoritmo. Ogni epoca è un ciclo completo di apprendimento sul dataset. Più epoche di solito significano più apprendimento, ma anche rischio di overfitting.\n",
        "- **La Relazione**: L'algoritmo (la ricetta) prende i dati (gli ingredienti) e un'architettura iniziale, e li usa per addestrare un modello (il piatto finale). Una volta addestrato, il modello è pronto per fare previsioni su nuovi dati."
      ],
      "metadata": {
        "id": "NRrIsUZrSgF1"
      }
    },
    {
      "cell_type": "markdown",
      "source": [
        "#### Esempio Concettuale: Classificazione di pazienti (Sano/Malato)\n",
        "\n",
        "Immaginiamo di voler creare un modello che classifichi i pazienti come \"Sani\" o \"Malati\" basandosi su alcuni biomarcatori.\n",
        "\n",
        "- **Dati**: Avremmo un dataset di pazienti con i loro biomarcatori e l'etichetta \"Sano\" o \"Malato\".\n",
        "- **Algoritmo di Apprendimento**: Potremmo scegliere un algoritmo come la \"Regressione Logistica\" o un \"Albero Decisionale\". Questo algoritmo definisce come il modello verrà costruito.\n",
        "- **Processo di Addestramento:**\n",
        "  - L'algoritmo analizza i dati.\n",
        "  - In base a una funzione di loss, calcola quanto le sue previsioni iniziali sono lontane dalla realtà.\n",
        "  - L'ottimizzatore (guidato dal learning rate) regola i \"pesi\" del modello per ridurre la loss.\n",
        "  - Questo processo si ripete per diverse epoche.\n",
        "- **Modello Finale**: Alla fine dell'addestramento, otteniamo un modello addestrato. Questo modello è ora capace di prendere i biomarcatori di un nuovo paziente (che non ha mai visto) e predire se è \"Sano\" o \"Malato\" con una certa probabilità."
      ],
      "metadata": {
        "id": "JBkRQLhtSqa1"
      }
    },
    {
      "cell_type": "code",
      "source": [
        "# Piccola dimostrazione concettuale (senza training reale, solo per illustrare l'idea)\n",
        "from sklearn.linear_model import LogisticRegression\n",
        "import numpy as np\n",
        "\n",
        "# Supponiamo di avere dati di esempio:\n",
        "# Caratteristiche (es. biomarcatori X1, X2) e etichette (0=Sano, 1=Malato)\n",
        "X = np.array([\n",
        "    [1.2, 0.5],\n",
        "    [2.1, 1.8],\n",
        "    [0.9, 0.3],\n",
        "    [2.5, 2.0],\n",
        "    [1.0, 0.6]\n",
        "])\n",
        "y = np.array([0, 1, 0, 1, 0])\n",
        "\n",
        "# L'Algoritmo (in questo caso, Logistic Regression)\n",
        "# Questo è l'oggetto che useremo per addestrare il nostro modello\n",
        "algoritmo_classificazione = LogisticRegression()\n",
        "\n",
        "# Il processo di \"apprendimento\" o \"addestramento\" del modello\n",
        "# Qui l'algoritmo \"impara\" dai dati X e dalle etichette y\n",
        "print(\"Addestramento del modello...\")\n",
        "modello_addestrato = algoritmo_classificazione.fit(X, y)\n",
        "print(\"Modello addestrato con successo!\")\n",
        "\n",
        "# Il Modello (ora possiamo usarlo per fare previsioni su nuovi dati)\n",
        "nuovi_dati_paziente = np.array([[1.5, 0.7]]) # Un nuovo paziente con nuovi biomarcatori\n",
        "\n",
        "predizione = modello_addestrato.predict(nuovi_dati_paziente)\n",
        "probabilita = modello_addestrato.predict_proba(nuovi_dati_paziente)\n",
        "\n",
        "print(f\"\\nNuovi dati paziente: {nuovi_dati_paziente}\")\n",
        "print(f\"Predizione (0=Sano, 1=Malato): {predizione[0]}\")\n",
        "print(f\"Probabilità (Sano, Malato): {probabilita[0]}\")\n",
        "\n",
        "# Nota: In un caso reale, avremmo bisogno di molti più dati e un processo di validazione robusto!"
      ],
      "metadata": {
        "colab": {
          "base_uri": "https://localhost:8080/"
        },
        "id": "_hNFNZTiMVy8",
        "outputId": "2ef7e7f1-1619-4e13-9ec9-20e88c176415"
      },
      "execution_count": 19,
      "outputs": [
        {
          "output_type": "stream",
          "name": "stdout",
          "text": [
            "Addestramento del modello...\n",
            "Modello addestrato con successo!\n",
            "\n",
            "Nuovi dati paziente: [[1.5 0.7]]\n",
            "Predizione (0=Sano, 1=Malato): 0\n",
            "Probabilità (Sano, Malato): [0.69270307 0.30729693]\n"
          ]
        }
      ]
    },
    {
      "cell_type": "code",
      "source": [],
      "metadata": {
        "id": "BC-fTxhHSP8j"
      },
      "execution_count": null,
      "outputs": []
    }
  ]
}